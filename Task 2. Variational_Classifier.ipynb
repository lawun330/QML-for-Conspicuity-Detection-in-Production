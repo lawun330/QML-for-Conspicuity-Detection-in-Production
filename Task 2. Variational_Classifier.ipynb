{
 "cells": [
  {
   "cell_type": "markdown",
   "id": "3c6acb68-5df7-4906-ad49-c15ef01f603c",
   "metadata": {},
   "source": [
    "# Variational Classifier "
   ]
  },
  {
   "cell_type": "markdown",
   "id": "88cc8eef-314e-4da9-8eee-7b481aaec596",
   "metadata": {},
   "source": [
    "# Environment Preparation\n",
    "We need to install PennyLane to our notebook first. "
   ]
  },
  {
   "cell_type": "code",
   "execution_count": 1,
   "id": "e907dc33-0a45-44a9-987c-a47a5b1a37e8",
   "metadata": {
    "scrolled": true
   },
   "outputs": [],
   "source": [
    "# %pip install pennylane # uncommment this to install"
   ]
  },
  {
   "cell_type": "markdown",
   "id": "0db6291f-689e-4ad3-b907-806eefe5c351",
   "metadata": {},
   "source": [
    "After the installation, we import pennylane as qml. For this notebook, numpy library is required. Luckily, we do not need to install it since pennylane provides it. Lastly, an optimizer called \"NesterovMomentumOptimizer\" is used."
   ]
  },
  {
   "cell_type": "code",
   "execution_count": 2,
   "id": "8071cf50-48aa-49cd-b42f-afa65577c72a",
   "metadata": {},
   "outputs": [],
   "source": [
    "import pennylane as qml\n",
    "from pennylane import numpy as np\n",
    "from pennylane.optimize import NesterovMomentumOptimizer"
   ]
  },
  {
   "cell_type": "markdown",
   "id": "8f8aae4a-4f73-4283-8012-7dc8b5ee86b6",
   "metadata": {},
   "source": [
    "# 1. Fitting the Parity Function"
   ]
  },
  {
   "cell_type": "markdown",
   "id": "d72b6b4a-894c-46c3-afe1-fa7753494aaa",
   "metadata": {},
   "source": [
    "In this example, we will demonstrate how we can implement a circuit for the optimization of a variational circuit to emulate the parity function. \n",
    "\n",
    "$$f:x\\in\\{0, 1\\}^{\\otimes n} \\rightarrow y=\n",
    "\\begin{cases}\n",
    "1 ~~if~uneven~number~of~1's~in~x \\\\\n",
    "0 ~~else\n",
    "\\end{cases}$$\n",
    "\n",
    "We feed the binary input $x$ which is a bitstring of n-length 0s and 1s, to the parity function $f$. \n",
    "- If the total number of 1 in $x$ is odd, the output $y$ will be 1.\n",
    "- If it is even, the output $y$ will be 0.\n",
    "\n",
    "Fun fact: The parity function of two inputs is also known as the XOR function."
   ]
  },
  {
   "cell_type": "markdown",
   "id": "f406191d-f05e-4e22-a136-eaaec2413dd7",
   "metadata": {},
   "source": [
    "## Device Initiation\n",
    "To run our circuit, we create a quantum device with the default qubit simulator first. "
   ]
  },
  {
   "cell_type": "code",
   "execution_count": 3,
   "id": "3075b140-012a-4a43-affb-de797270336e",
   "metadata": {},
   "outputs": [],
   "source": [
    "dev = qml.device(\"default.qubit\")"
   ]
  },
  {
   "cell_type": "markdown",
   "id": "c5f69448-ec68-4f1e-a1cd-ab510601571b",
   "metadata": {},
   "source": [
    "## Building Layers\n",
    "Then, we define a variational layer with some parameters (weights) using four qubits.\n",
    "Usually, combining such layers lead to the full variational circuit. \n",
    "\n",
    "For now, we implement the `Rot()` operation for each wire. This is an arbitrary rotation gate with corresponding `layer_weights` parameters which we will see below.\n",
    "\n",
    "The CNOT gate is created between two adjacent wires (qubits) to create entanglement between them. This process is repeated for all wires (qubits) until we create the entanglement between the first and last one. This forms a ring and the full entanglement between all wires (qubits)."
   ]
  },
  {
   "cell_type": "code",
   "execution_count": 4,
   "id": "08f99790-6618-4d59-a62d-e465b40ec1e3",
   "metadata": {},
   "outputs": [],
   "source": [
    "def layer(layer_weights):\n",
    "    for wire in range(4): # create arbitrary rotation\n",
    "        qml.Rot(*layer_weights[wire], wires=wire)\n",
    "\n",
    "    for wires in ([0, 1], [1, 2], [2, 3], [3, 0]): # create entanglement\n",
    "        qml.CNOT(wires)"
   ]
  },
  {
   "cell_type": "markdown",
   "id": "aafd1748-80f1-470f-ad3c-8a71290f14dc",
   "metadata": {},
   "source": [
    "## Preparing States\n",
    "Now, we will prepare the single computational basis state $|n\\rangle$ where $n$ is an array of input integers from the set {0, 1}.\n",
    "- $[0, 1, 1]$ -> $|011\\rangle$\n",
    "\n",
    "We use the `BasisState()` function from pennylane which takes two arguments: array input and wires.\n",
    " \n",
    "For our case, $n$ has four digits since we have four wires. As an implementation, we passes these wires and a list of 0s and 1s. This process is wrapped around our `state_preparation()` function."
   ]
  },
  {
   "cell_type": "code",
   "execution_count": 5,
   "id": "d2beea8f-7787-4053-8254-65be3a7d8054",
   "metadata": {},
   "outputs": [],
   "source": [
    "def state_preparation(x):\r\n",
    "    qml.BasisState(x, wires=[0, 1, 2, 3])"
   ]
  },
  {
   "cell_type": "markdown",
   "id": "f2d42a26-5f63-4288-9639-2a25c7566bb2",
   "metadata": {},
   "source": [
    "## Quantum Circuit\n",
    "Now, we are ready to define a variational quantum circuit.\n",
    "- We create a qnode with the decorator for our function.\n",
    "- We prepare initial states and layers using the functions above. \n",
    "- We compute the expectation values on the Z-basis."
   ]
  },
  {
   "cell_type": "code",
   "execution_count": 6,
   "id": "df24f3fb-4ef7-4b15-81b7-c9f477e45358",
   "metadata": {},
   "outputs": [],
   "source": [
    "@qml.qnode(dev)\n",
    "def circuit(weights, x):\n",
    "    state_preparation(x)\n",
    "\n",
    "    for layer_weights in weights:\n",
    "        layer(layer_weights)\n",
    "\n",
    "    return qml.expval(qml.PauliZ(0))"
   ]
  },
  {
   "cell_type": "markdown",
   "id": "04bcbfb9-6a36-4851-a6cb-79b90249eebf",
   "metadata": {},
   "source": [
    "## Bias?!??\n",
    "We add classical `bias` parameter to the circuit output to enhance our circuit performance with new (untrained) data."
   ]
  },
  {
   "cell_type": "code",
   "execution_count": 7,
   "id": "af15530c-39a5-45c1-8db9-d57f8996f9dd",
   "metadata": {},
   "outputs": [],
   "source": [
    "def variational_classifier(weights, bias, x):\n",
    "    return circuit(weights, x) + bias"
   ]
  },
  {
   "cell_type": "markdown",
   "id": "b0c25cfc-8702-45b1-84c9-7f5177120078",
   "metadata": {},
   "source": [
    "## Loss\n",
    "To evaluate our model's performance, we normally use mean-squared-error as a loss function. An error is the difference between an actual value and a predicted one. The reason to square it is to get the absolute value, avoiding possible negative values obtained from subtractions."
   ]
  },
  {
   "cell_type": "code",
   "execution_count": 8,
   "id": "2e670f2a-66e9-4d77-9544-514b3f22c1be",
   "metadata": {},
   "outputs": [],
   "source": [
    "def square_loss(labels, predictions):\n",
    "    # We use a call to qml.math.stack to allow subtracting the arrays directly\n",
    "    return np.mean((labels - qml.math.stack(predictions)) ** 2)"
   ]
  },
  {
   "cell_type": "markdown",
   "id": "dd2be671-f097-4075-ae9e-525ae08d185e",
   "metadata": {},
   "source": [
    "## Accuracy\n",
    "We need to know how accurate our model's prediction is on train, test, and unseen data. In the following function, the prediction with 100% accuracy will return `acc = 1`. If the difference between the real answer and the prediction is very small, in other words, if our prediction is very close to the actual value, we would get higher accuracy."
   ]
  },
  {
   "cell_type": "code",
   "execution_count": 9,
   "id": "f84bc5bd-f28d-43a0-8157-a81e19363dde",
   "metadata": {},
   "outputs": [],
   "source": [
    "def accuracy(labels, predictions):\n",
    "    acc = sum(abs(l - p) < 1e-5 for l, p in zip(labels, predictions)) # 1e-5 is very minute\n",
    "    acc = acc / len(labels)\n",
    "    return acc"
   ]
  },
  {
   "cell_type": "markdown",
   "id": "52d6fe4a-7bcc-4669-b3ff-071b126db997",
   "metadata": {},
   "source": [
    "## Cost\n",
    "Now, we can define a cost funtion. In the function, we make predictions with our circuit and bias using the `variational_classifier()` defined above. We compute the loss with that predicted values and actual Y."
   ]
  },
  {
   "cell_type": "code",
   "execution_count": 10,
   "id": "0bc0402b-2c8a-433c-a39a-9e4fa45d73cd",
   "metadata": {},
   "outputs": [],
   "source": [
    "def cost(weights, bias, X, Y):\n",
    "    predictions = [variational_classifier(weights, bias, x) for x in X]\n",
    "    return square_loss(Y, predictions)"
   ]
  },
  {
   "cell_type": "markdown",
   "id": "beb35809-0eca-4e1d-b479-752e4694de53",
   "metadata": {},
   "source": [
    "## Loading Data\n",
    "To load our data, we download the train data file **parity_train.txt**. We separate values to make predictions $X$ and true values $Y$ from the dataset.\n",
    "\n",
    "Recall that `y = 1` if the number of 1s in $X$ is odd and `y = 0` if the opposite case is true.\n",
    "\n",
    "Note that we use the formula `Y = Y * 2 - 1` to shift the output set from {0, 1} to {-1, 1}."
   ]
  },
  {
   "cell_type": "code",
   "execution_count": 11,
   "id": "a02fd7a9-7893-4e9e-9ae8-11408c60e930",
   "metadata": {},
   "outputs": [
    {
     "name": "stdout",
     "output_type": "stream",
     "text": [
      "x = [0 0 0 1], y = 1\n",
      "x = [0 0 1 0], y = 1\n",
      "x = [0 1 0 0], y = 1\n",
      "x = [0 1 0 1], y = -1\n",
      "x = [0 1 1 0], y = -1\n",
      "x = [0 1 1 1], y = 1\n",
      "x = [1 0 0 0], y = 1\n",
      "x = [1 0 0 1], y = -1\n",
      "x = [1 0 1 1], y = 1\n",
      "x = [1 1 1 1], y = -1\n"
     ]
    }
   ],
   "source": [
    "data = np.loadtxt(\"variational_classifier/data/parity_train.txt\", dtype=int)\n",
    "X = np.array(data[:, :-1])\n",
    "Y = np.array(data[:, -1])\n",
    "Y = Y * 2 - 1  # shift label from {0, 1} to {-1, 1}\n",
    "\n",
    "for x,y in zip(X, Y):\n",
    "    print(f\"x = {x}, y = {y}\")"
   ]
  },
  {
   "cell_type": "markdown",
   "id": "d574c6e7-4778-414f-a101-e28b3af76021",
   "metadata": {},
   "source": [
    "## Initializing Variables\n",
    "- We set a seed to ensure the same output is reproduced for every run. \n",
    "- We also initialize `num_qubits` and `num_layers`.\n",
    "- For initial weights, we choose random values multiplied by 0.01 to start with the small values.\n",
    "- Bias is set to 0.0.\n",
    "- For both weight and bias, we make `requires_grad = True` because we want the optimizer to automatically adjust those initial values to minimize loss function during the training. "
   ]
  },
  {
   "cell_type": "code",
   "execution_count": 12,
   "id": "94972018-ed17-453e-b958-6082bfa494a2",
   "metadata": {},
   "outputs": [
    {
     "name": "stdout",
     "output_type": "stream",
     "text": [
      "Weights: [[[ 0.01764052  0.00400157  0.00978738]\n",
      "  [ 0.02240893  0.01867558 -0.00977278]\n",
      "  [ 0.00950088 -0.00151357 -0.00103219]\n",
      "  [ 0.00410599  0.00144044  0.01454274]]\n",
      "\n",
      " [[ 0.00761038  0.00121675  0.00443863]\n",
      "  [ 0.00333674  0.01494079 -0.00205158]\n",
      "  [ 0.00313068 -0.00854096 -0.0255299 ]\n",
      "  [ 0.00653619  0.00864436 -0.00742165]]]\n",
      "Bias:  0.0\n"
     ]
    }
   ],
   "source": [
    "np.random.seed(0)\n",
    "num_qubits = 4\n",
    "num_layers = 2\n",
    "weights_init = 0.01 * np.random.randn(num_layers, num_qubits, 3, requires_grad=True)\n",
    "bias_init = np.array(0.0, requires_grad=True)\n",
    "\n",
    "print(\"Weights:\", weights_init)\n",
    "print(\"Bias: \", bias_init)"
   ]
  },
  {
   "cell_type": "markdown",
   "id": "ee0eada3-1386-4ba6-87c4-567d1dec7103",
   "metadata": {},
   "source": [
    "## Choosing Optimizer and Batch Size\n",
    "We choose `NesterovMomentumOptimizer()` as our optimizer. \n",
    "\n",
    "When it comes to batch size, suitable one provides high accuracy. For this work, we will just use 5 batches. However, through reviewing our training result and unseen data prediction accuracy, we can adjust the batch_size later."
   ]
  },
  {
   "cell_type": "code",
   "execution_count": 13,
   "id": "cba3548a-6935-4748-a6b1-e6d37af22a49",
   "metadata": {},
   "outputs": [],
   "source": [
    "opt = NesterovMomentumOptimizer(0.5)\n",
    "batch_size = 5"
   ]
  },
  {
   "cell_type": "markdown",
   "id": "c83812d7-590a-48dd-98c7-344559b7f8ef",
   "metadata": {},
   "source": [
    "## The Main Function\n",
    "Finally, we are all set. \n",
    "\n",
    "Now, our variational classifier is ready to be optimized, make predictions, evaluate accuracy, and show us the results!"
   ]
  },
  {
   "cell_type": "code",
   "execution_count": 14,
   "id": "23cb9bea-9cd1-4299-bb6d-d4157b02aeb6",
   "metadata": {
    "scrolled": true
   },
   "outputs": [
    {
     "name": "stdout",
     "output_type": "stream",
     "text": [
      "Iter:    1 | Cost: 2.3147651 | Accuracy: 0.5000000\n",
      "Iter:    2 | Cost: 1.9664866 | Accuracy: 0.5000000\n",
      "Iter:    3 | Cost: 1.9208589 | Accuracy: 0.5000000\n",
      "Iter:    4 | Cost: 2.6276126 | Accuracy: 0.5000000\n",
      "Iter:    5 | Cost: 0.9323119 | Accuracy: 0.6000000\n",
      "Iter:    6 | Cost: 1.1903549 | Accuracy: 0.5000000\n",
      "Iter:    7 | Cost: 2.0508989 | Accuracy: 0.4000000\n",
      "Iter:    8 | Cost: 1.1275531 | Accuracy: 0.6000000\n",
      "Iter:    9 | Cost: 1.1659803 | Accuracy: 0.6000000\n",
      "Iter:   10 | Cost: 1.1349618 | Accuracy: 0.6000000\n",
      "Iter:   11 | Cost: 0.9994063 | Accuracy: 0.6000000\n",
      "Iter:   12 | Cost: 1.0812559 | Accuracy: 0.6000000\n",
      "Iter:   13 | Cost: 1.2863155 | Accuracy: 0.6000000\n",
      "Iter:   14 | Cost: 2.2658259 | Accuracy: 0.4000000\n",
      "Iter:   15 | Cost: 1.1323724 | Accuracy: 0.6000000\n",
      "Iter:   16 | Cost: 1.3439737 | Accuracy: 0.8000000\n",
      "Iter:   17 | Cost: 2.0076168 | Accuracy: 0.6000000\n",
      "Iter:   18 | Cost: 1.2685760 | Accuracy: 0.5000000\n",
      "Iter:   19 | Cost: 1.6762475 | Accuracy: 0.5000000\n",
      "Iter:   20 | Cost: 1.1868237 | Accuracy: 0.6000000\n",
      "Iter:   21 | Cost: 1.4784687 | Accuracy: 0.6000000\n",
      "Iter:   22 | Cost: 1.4599473 | Accuracy: 0.6000000\n",
      "Iter:   23 | Cost: 0.9573269 | Accuracy: 0.6000000\n",
      "Iter:   24 | Cost: 1.1657424 | Accuracy: 0.5000000\n",
      "Iter:   25 | Cost: 1.0877087 | Accuracy: 0.4000000\n",
      "Iter:   26 | Cost: 1.1683687 | Accuracy: 0.6000000\n",
      "Iter:   27 | Cost: 2.1141689 | Accuracy: 0.6000000\n",
      "Iter:   28 | Cost: 1.0272966 | Accuracy: 0.5000000\n",
      "Iter:   29 | Cost: 0.9664085 | Accuracy: 0.5000000\n",
      "Iter:   30 | Cost: 1.1287654 | Accuracy: 0.6000000\n",
      "Iter:   31 | Cost: 1.4202360 | Accuracy: 0.4000000\n",
      "Iter:   32 | Cost: 1.1286000 | Accuracy: 0.5000000\n",
      "Iter:   33 | Cost: 1.9594333 | Accuracy: 0.4000000\n",
      "Iter:   34 | Cost: 1.2811832 | Accuracy: 0.4000000\n",
      "Iter:   35 | Cost: 0.8522775 | Accuracy: 0.7000000\n",
      "Iter:   36 | Cost: 1.4765281 | Accuracy: 0.6000000\n",
      "Iter:   37 | Cost: 0.9603287 | Accuracy: 0.6000000\n",
      "Iter:   38 | Cost: 1.6031314 | Accuracy: 0.6000000\n",
      "Iter:   39 | Cost: 1.1700888 | Accuracy: 0.4000000\n",
      "Iter:   40 | Cost: 1.7571779 | Accuracy: 0.4000000\n",
      "Iter:   41 | Cost: 1.9608116 | Accuracy: 0.6000000\n",
      "Iter:   42 | Cost: 2.0802752 | Accuracy: 0.6000000\n",
      "Iter:   43 | Cost: 1.1904884 | Accuracy: 0.3000000\n",
      "Iter:   44 | Cost: 0.9941585 | Accuracy: 0.6000000\n",
      "Iter:   45 | Cost: 1.0709609 | Accuracy: 0.5000000\n",
      "Iter:   46 | Cost: 0.9780625 | Accuracy: 0.6000000\n",
      "Iter:   47 | Cost: 1.1573709 | Accuracy: 0.6000000\n",
      "Iter:   48 | Cost: 1.0235239 | Accuracy: 0.6000000\n",
      "Iter:   49 | Cost: 1.2842469 | Accuracy: 0.5000000\n",
      "Iter:   50 | Cost: 0.8549226 | Accuracy: 0.6000000\n",
      "Iter:   51 | Cost: 0.5136787 | Accuracy: 1.0000000\n",
      "Iter:   52 | Cost: 0.2488031 | Accuracy: 1.0000000\n",
      "Iter:   53 | Cost: 0.0461277 | Accuracy: 1.0000000\n",
      "Iter:   54 | Cost: 0.0293518 | Accuracy: 1.0000000\n",
      "Iter:   55 | Cost: 0.0205454 | Accuracy: 1.0000000\n",
      "Iter:   56 | Cost: 0.0352514 | Accuracy: 1.0000000\n",
      "Iter:   57 | Cost: 0.0576767 | Accuracy: 1.0000000\n",
      "Iter:   58 | Cost: 0.0291305 | Accuracy: 1.0000000\n",
      "Iter:   59 | Cost: 0.0127137 | Accuracy: 1.0000000\n",
      "Iter:   60 | Cost: 0.0058108 | Accuracy: 1.0000000\n",
      "Iter:   61 | Cost: 0.0018002 | Accuracy: 1.0000000\n",
      "Iter:   62 | Cost: 0.0014089 | Accuracy: 1.0000000\n",
      "Iter:   63 | Cost: 0.0017489 | Accuracy: 1.0000000\n",
      "Iter:   64 | Cost: 0.0021282 | Accuracy: 1.0000000\n",
      "Iter:   65 | Cost: 0.0029876 | Accuracy: 1.0000000\n",
      "Iter:   66 | Cost: 0.0035331 | Accuracy: 1.0000000\n",
      "Iter:   67 | Cost: 0.0035540 | Accuracy: 1.0000000\n",
      "Iter:   68 | Cost: 0.0025639 | Accuracy: 1.0000000\n",
      "Iter:   69 | Cost: 0.0019459 | Accuracy: 1.0000000\n",
      "Iter:   70 | Cost: 0.0015856 | Accuracy: 1.0000000\n",
      "Iter:   71 | Cost: 0.0008439 | Accuracy: 1.0000000\n",
      "Iter:   72 | Cost: 0.0005960 | Accuracy: 1.0000000\n",
      "Iter:   73 | Cost: 0.0003122 | Accuracy: 1.0000000\n",
      "Iter:   74 | Cost: 0.0002446 | Accuracy: 1.0000000\n",
      "Iter:   75 | Cost: 0.0001745 | Accuracy: 1.0000000\n",
      "Iter:   76 | Cost: 0.0001215 | Accuracy: 1.0000000\n",
      "Iter:   77 | Cost: 0.0001141 | Accuracy: 1.0000000\n",
      "Iter:   78 | Cost: 0.0001538 | Accuracy: 1.0000000\n",
      "Iter:   79 | Cost: 0.0001871 | Accuracy: 1.0000000\n",
      "Iter:   80 | Cost: 0.0001330 | Accuracy: 1.0000000\n",
      "Iter:   81 | Cost: 0.0001380 | Accuracy: 1.0000000\n",
      "Iter:   82 | Cost: 0.0001336 | Accuracy: 1.0000000\n",
      "Iter:   83 | Cost: 0.0001483 | Accuracy: 1.0000000\n",
      "Iter:   84 | Cost: 0.0001234 | Accuracy: 1.0000000\n",
      "Iter:   85 | Cost: 0.0001359 | Accuracy: 1.0000000\n",
      "Iter:   86 | Cost: 0.0001268 | Accuracy: 1.0000000\n",
      "Iter:   87 | Cost: 0.0002270 | Accuracy: 1.0000000\n",
      "Iter:   88 | Cost: 0.0000865 | Accuracy: 1.0000000\n",
      "Iter:   89 | Cost: 0.0000774 | Accuracy: 1.0000000\n",
      "Iter:   90 | Cost: 0.0000759 | Accuracy: 1.0000000\n",
      "Iter:   91 | Cost: 0.0000607 | Accuracy: 1.0000000\n",
      "Iter:   92 | Cost: 0.0000523 | Accuracy: 1.0000000\n",
      "Iter:   93 | Cost: 0.0000536 | Accuracy: 1.0000000\n",
      "Iter:   94 | Cost: 0.0000444 | Accuracy: 1.0000000\n",
      "Iter:   95 | Cost: 0.0000384 | Accuracy: 1.0000000\n",
      "Iter:   96 | Cost: 0.0000497 | Accuracy: 1.0000000\n",
      "Iter:   97 | Cost: 0.0000263 | Accuracy: 1.0000000\n",
      "Iter:   98 | Cost: 0.0000229 | Accuracy: 1.0000000\n",
      "Iter:   99 | Cost: 0.0000339 | Accuracy: 1.0000000\n",
      "Iter:  100 | Cost: 0.0000174 | Accuracy: 1.0000000\n"
     ]
    }
   ],
   "source": [
    "weights = weights_init\n",
    "bias = bias_init\n",
    "for it in range(100):\n",
    "\n",
    "    # Update the weights by one optimizer step, using only a limited batch of data\n",
    "    batch_index = np.random.randint(0, len(X), (batch_size,))\n",
    "    X_batch = X[batch_index]\n",
    "    Y_batch = Y[batch_index]\n",
    "    weights, bias = opt.step(cost, weights, bias, X=X_batch, Y=Y_batch)\n",
    "\n",
    "    # Compute accuracy\n",
    "    predictions = [np.sign(variational_classifier(weights, bias, x)) for x in X]\n",
    "\n",
    "    current_cost = cost(weights, bias, X, Y)\n",
    "    acc = accuracy(Y, predictions)\n",
    "\n",
    "    print(f\"Iter: {it+1:4d} | Cost: {current_cost:0.7f} | Accuracy: {acc:0.7f}\")"
   ]
  },
  {
   "cell_type": "markdown",
   "id": "3c994a74-aada-4231-8411-5a1e03f938d3",
   "metadata": {},
   "source": [
    "## Model Evaluation\n",
    "After training our model 100 times, we can inspect the accuracy values. We can see that our model accuracy becomes 100% during the middle iterations!!! \n",
    "\n",
    "This high accuracy does not mean our model will predict unseen data or test data well. Over-fitting may or may not involve in our training. If there is over-fitting, the model accuracy will be much worsen with test data. If the model is actually accurate, the accuracy will not change much. \n",
    "\n",
    "This time, we run our model using test data to check the model response with unseen data. "
   ]
  },
  {
   "cell_type": "code",
   "execution_count": 15,
   "id": "dd77a44e-95f7-4b34-a5e1-48bb767ca006",
   "metadata": {},
   "outputs": [
    {
     "name": "stdout",
     "output_type": "stream",
     "text": [
      "x = [0 0 0 0], y = -1, pred=-1.0\n",
      "x = [0 0 1 1], y = -1, pred=-1.0\n",
      "x = [1 0 1 0], y = -1, pred=-1.0\n",
      "x = [1 1 1 0], y = 1, pred=1.0\n",
      "x = [1 1 0 0], y = -1, pred=-1.0\n",
      "x = [1 1 0 1], y = 1, pred=1.0\n",
      "Accuracy on unseen data: 1.0\n"
     ]
    }
   ],
   "source": [
    "data = np.loadtxt(\"variational_classifier/data/parity_test.txt\", dtype=int)\n",
    "X_test = np.array(data[:, :-1])\n",
    "Y_test = np.array(data[:, -1])\n",
    "Y_test = Y_test * 2 - 1  # shift label from {0, 1} to {-1, 1}\n",
    "\n",
    "predictions_test = [np.sign(variational_classifier(weights, bias, x)) for x in X_test]\n",
    "\n",
    "for x,y,p in zip(X_test, Y_test, predictions_test):\n",
    "    print(f\"x = {x}, y = {y}, pred={p}\")\n",
    "\n",
    "acc_test = accuracy(Y_test, predictions_test)\n",
    "print(\"Accuracy on unseen data:\", acc_test)"
   ]
  },
  {
   "cell_type": "markdown",
   "id": "24fe1fc8-7cba-4704-b08e-790002777868",
   "metadata": {},
   "source": [
    "## Conclusion\n",
    "Our variational classifier does well on test data with high accuracy. That means we have achieved what we want. Our quantum implementation is working great.\n",
    "\n",
    "Congratulation!"
   ]
  },
  {
   "cell_type": "markdown",
   "id": "a29f1780-cd5d-4833-9c72-db3aa56994d0",
   "metadata": {},
   "source": [
    "# 2. Iris Classification\n",
    "In this part, we will focus on real-valued 2-dimensional vectors and encode inputs into 2 qubits."
   ]
  },
  {
   "cell_type": "markdown",
   "id": "97bceec6-284e-4077-b7cd-2677b006d573",
   "metadata": {},
   "source": [
    "## Preparing States\n",
    "Our state preparation is not as simple as before. We need to transform an input $x$ into a corresponding angle to use it in a rotation. We will only use positive numbers for convenience. \n",
    "\n",
    "We complete two stages for state preparation-\n",
    "1. We use \"amplitude encoding\" to encode our classical inputs into rotation angles.\n",
    "2. We use these rotation angles to rotate around the Y-axis.\n",
    "    - Gates such as CNOT, RY, and PauliX are used.\n",
    "\n",
    "After these stages, our classical data is encoded for our quantum circuit."
   ]
  },
  {
   "cell_type": "code",
   "execution_count": 16,
   "id": "28098caa-8423-483b-88d4-b34b2c6415e2",
   "metadata": {},
   "outputs": [],
   "source": [
    "def get_angles(x):\n",
    "    beta0 = 2 * np.arcsin(np.sqrt(x[1] ** 2) / np.sqrt(x[0] ** 2 + x[1] ** 2 + 1e-12))\n",
    "    beta1 = 2 * np.arcsin(np.sqrt(x[3] ** 2) / np.sqrt(x[2] ** 2 + x[3] ** 2 + 1e-12))\n",
    "    beta2 = 2 * np.arcsin(np.linalg.norm(x[2:]) / np.linalg.norm(x))\n",
    "\n",
    "    return np.array([beta2, -beta1 / 2, beta1 / 2, -beta0 / 2, beta0 / 2])\n",
    "\n",
    "\n",
    "def state_preparation(a): # a -> output angles of get_angles() function\n",
    "    qml.RY(a[0], wires=0)\n",
    "\n",
    "    qml.CNOT(wires=[0, 1])\n",
    "    qml.RY(a[1], wires=1)\n",
    "    qml.CNOT(wires=[0, 1])\n",
    "    qml.RY(a[2], wires=1)\n",
    "\n",
    "    qml.PauliX(wires=0)\n",
    "    qml.CNOT(wires=[0, 1])\n",
    "    qml.RY(a[3], wires=1)\n",
    "    qml.CNOT(wires=[0, 1])\n",
    "    qml.RY(a[4], wires=1)\n",
    "    qml.PauliX(wires=0)"
   ]
  },
  {
   "cell_type": "markdown",
   "id": "427ee403-0c12-4583-9eba-6b4f29ce9a05",
   "metadata": {},
   "source": [
    "## Preparing States: Demo\n",
    "Before actually calling the routine with actual Iris data, we can test the function to ensure it works as we expected."
   ]
  },
  {
   "cell_type": "code",
   "execution_count": 17,
   "id": "ac227748-07d2-4eec-8c8c-788d5a1b15fd",
   "metadata": {},
   "outputs": [
    {
     "name": "stdout",
     "output_type": "stream",
     "text": [
      "x               :  [0.538968 0.795036 0.278265 0.      ]\n",
      "angles          :  [ 0.563975 -0.        0.       -0.975046  0.975046]\n",
      "amplitude vector:  [ 0.538968  0.795036  0.278265 -0.      ]\n"
     ]
    }
   ],
   "source": [
    "x = np.array([0.53896774, 0.79503606, 0.27826503, 0.0], requires_grad=False)\n",
    "ang = get_angles(x)\n",
    "\n",
    "\n",
    "@qml.qnode(dev)\n",
    "def test(angles):\n",
    "    state_preparation(angles)\n",
    "\n",
    "    return qml.state()\n",
    "\n",
    "\n",
    "state = test(ang)\n",
    "\n",
    "print(\"x               : \", np.round(x, 6))\n",
    "print(\"angles          : \", np.round(ang, 6))\n",
    "print(\"amplitude vector: \", np.round(np.real(state), 6))"
   ]
  },
  {
   "cell_type": "markdown",
   "id": "06693ab4-9adf-442a-bec9-c56d45ba9e9f",
   "metadata": {},
   "source": [
    "The method gives the correct angles to compute the desired state!"
   ]
  },
  {
   "cell_type": "markdown",
   "id": "7c9576bf-8058-40d3-9df9-406a138ceb31",
   "metadata": {},
   "source": [
    "## Layer & Cost\n",
    "Since we are working with 2 qubits, we need to define new layer and cost functions. "
   ]
  },
  {
   "cell_type": "code",
   "execution_count": 18,
   "id": "7a2a0cd5-3ee1-4952-bad0-25d3890690d3",
   "metadata": {},
   "outputs": [],
   "source": [
    "def layer(layer_weights):\n",
    "    for wire in range(2):\n",
    "        qml.Rot(*layer_weights[wire], wires=wire) # apply arbitrary rotation gate\n",
    "    qml.CNOT(wires=[0, 1]) # wire 0 is control # wire 1 is target\n",
    "\n",
    "def cost(weights, bias, X, Y):\n",
    "    predictions = variational_classifier(weights, bias, X.T) # for convenience of indexing, we transport the input matrix\n",
    "    return square_loss(Y, predictions)"
   ]
  },
  {
   "cell_type": "markdown",
   "id": "6f80e04c-c929-49eb-a33f-9e3241c61c50",
   "metadata": {},
   "source": [
    "## Data Processing\n",
    "We have relevant functions to obtain angles, prepare states, create layers, and compute cost for two qubits. What we need is to load our data and process it to get the desired format.\n",
    "\n",
    "For normalization, we try to find a common denominator, the roots of the sum of the squared elements in the last axis (row wise). Then, we transpose that last axis to be divided by that denominator. The result is once again transposed to reverse the effects."
   ]
  },
  {
   "cell_type": "code",
   "execution_count": 19,
   "id": "6bf66ccf-bc79-40f2-8802-fee7524cf4bb",
   "metadata": {},
   "outputs": [
    {
     "name": "stdout",
     "output_type": "stream",
     "text": [
      "First X sample (original)  : [0.4  0.75]\n",
      "First X sample (padded)    : [0.4  0.75 0.1  0.1 ]\n",
      "First X sample (normalized): [0.46420708 0.87038828 0.11605177 0.11605177]\n",
      "First features sample      : [ 0.32973573 -0.78539816  0.78539816 -1.080839    1.080839  ]\n",
      "\n",
      "Labels are a list of 1 and -1 : [-1. -1. -1. -1. -1. -1. -1. -1. -1. -1. -1. -1. -1. -1. -1. -1. -1. -1.\n",
      " -1. -1. -1. -1. -1. -1. -1. -1. -1. -1. -1. -1. -1. -1. -1. -1. -1. -1.\n",
      " -1. -1. -1. -1. -1. -1. -1. -1. -1. -1. -1. -1. -1. -1.  1.  1.  1.  1.\n",
      "  1.  1.  1.  1.  1.  1.  1.  1.  1.  1.  1.  1.  1.  1.  1.  1.  1.  1.\n",
      "  1.  1.  1.  1.  1.  1.  1.  1.  1.  1.  1.  1.  1.  1.  1.  1.  1.  1.\n",
      "  1.  1.  1.  1.  1.  1.  1.  1.  1.  1.]\n"
     ]
    }
   ],
   "source": [
    "# load data\n",
    "data = np.loadtxt(\"variational_classifier/data/iris_classes1and2_scaled.txt \")\n",
    "X = data[:, 0:2] # the first two columns are extracted\n",
    "print(f\"First X sample (original)  : {X[0]}\")\n",
    "\n",
    "# create size 2^2=4 pad matrix fill with ones multiplied by 0.1\n",
    "padding = np.ones((len(X), 2)) * 0.1 # same numbers of rows as X\n",
    "X_pad = np.c_[X, padding]  # combine X and pad matrix (concatenation along the second axis) \n",
    "print(f\"First X sample (padded)    : {X_pad[0]}\")\n",
    "\n",
    "# normalize each input\n",
    "normalization = np.sqrt(np.sum(X_pad**2, -1)) # take the root after squaring to calculate norm of each value in the last axis\n",
    "X_norm = (X_pad.T / normalization).T # transpose twice\n",
    "print(f\"First X sample (normalized): {X_norm[0]}\")\n",
    "\n",
    "# use pre-defined get_angles() function to compute the rotation angles\n",
    "features = np.array([get_angles(x) for x in X_norm], requires_grad=False) \n",
    "print(f\"First features sample      : {features[0]}\") # result angles are new features.\n",
    "\n",
    "Y = data[:, -1] # the last column is extracted as Y (labels)\n",
    "print()\n",
    "print(f\"Labels are a list of 1 and -1 : {Y}\")"
   ]
  },
  {
   "cell_type": "markdown",
   "id": "506c1ff1-aed9-45c5-83a2-1825d4e38a93",
   "metadata": {},
   "source": [
    "## Visualizing Data\n",
    "Visuals can give us new insights into the dataset.\n"
    "Before applying a particular optimizer to our classifier, we can visualize our model accuracy, "
   ]
  },
  {
   "cell_type": "code",
   "execution_count": 20,
   "id": "d8f5212c-aeaf-474a-8f44-33c09a233287",
   "metadata": {},
   "outputs": [
    {
     "data": {
      "image/png": "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",
      "text/plain": [
       "<Figure size 640x480 with 1 Axes>"
      ]
     },
     "metadata": {},
     "output_type": "display_data"
    },
    {
     "data": {
      "image/png": "iVBORw0KGgoAAAANSUhEUgAAAiMAAAGzCAYAAAD9pBdvAAAAOXRFWHRTb2Z0d2FyZQBNYXRwbG90bGliIHZlcnNpb24zLjcuNSwgaHR0cHM6Ly9tYXRwbG90bGliLm9yZy/xnp5ZAAAACXBIWXMAAA9hAAAPYQGoP6dpAABVAklEQVR4nO3de1zUZf7//8c4CmgqWiqiM4nSwUq2Pqt5aklp3XU3D/Bl6WRb1tZuLZYHTNOszEopj7gmWW7pfsq0QrKW/GRlsIsrbZvlb7XTmmIJIalbYFoSw/X7Y5iRgQFmEBgGnvfbbW4w11zvmWvevHVecx1el8UYYxAREREJkHaBboCIiIi0bQpGREREJKAUjIiIiEhAKRgRERGRgFIwIiIiIgGlYEREREQCSsGIiIiIBJSCEREREQkoBSMiIiISUApGpFYWi4WHHnqo3noPPfQQFoulUV979OjRjB49ulGf80ysX78ei8XCwYMHA92UgIiKiuKWW25x38/JycFisZCTk9Os7TjT68LXa7q5LV68mIEDB1JRUVFnvYMHD2KxWFi/fr27rCn+/bV2jf3v+ccff8Rut5Oent4oz9cWKRgJQq5/SK5bWFgYF1xwAXfddRfFxcWBbp5Iq/Pxxx/z0EMPNUkwWlpayuOPP869995Lu3bB/19yYWEh1157Ld26daNr167Ex8dz4MCBQDerQYqKipgzZw5xcXF06dKl1gC8Q4cOpKSksHDhQn744Yfmb2grEPxXfhv28MMP89xzz/HEE08wcuRInnzySUaMGMHJkycD3TRp5a688kq+//57rrzyykA3pVl8/PHHLFiwoEmCkWeffZby8nJuuOGGBh1///338/333zdyqxrmu+++Iy4ujr/97W/cd999LFiwgA8//JBRo0Zx7NixQDfPb5999hmPP/44hYWFxMTE1Fn31ltv5ejRo7zwwgvN1LrWRcFIEPv1r3/Nb3/7W26//XbWr1/P9OnTyc/P59VXXw1006QJVVRUBPzbV7t27QgLC2sV3+QDbd26dUycOJGwsLAGHd++ffsGH9vY0tPT2bdvH1lZWcyePZsZM2bw5ptvUlRUxLJlywLdPL8NHjyYY8eO8Z///IeUlJQ663br1o1f/vKXHkNo4jv9T9KKXHXVVQDk5+cDsHTpUkaOHMk555xDx44dGTx4MBkZGTWOO3XqFDNmzKBnz5506dKFiRMnUlBQ4PU1duzYweWXX05YWBjR0dE89dRTtbbn+eefZ/DgwXTs2JGzzz6b66+/nkOHDtWo9/TTTxMdHU3Hjh0ZOnQoubm5Pr/ndevWcdVVV9GrVy9CQ0O5+OKLefLJJ2vUi4qKYvz48ezYsYOhQ4cSFhbGgAED+N///d8adT/66COuuuoqOnbsiM1m49FHH613LN/llltuoXPnzhQWFpKQkEDnzp3p2bMn99xzDw6Hw6PuiRMnmDlzJna7ndDQUC688EKWLl1K9Y20LRYLd911Fxs2bOCSSy4hNDSUN954wz1ct2PHDqZOnUrPnj3p1q0bd9xxB2VlZXz77bfcfPPNdO/ene7duzN79uwaz+3rNVKdtzkj+/bt4ze/+Q29e/cmLCwMm83G9ddfT0lJicexzXFd+HpNf/HFFyQnJ3PhhRfSsWNHzjnnHK655hqPHpD169dzzTXXABAXF+ceHnW991dffZVx48bRp08fQkNDiY6O5pFHHqnx9/YmPz+ff//734wZM6bGY99++y233HIL4eHhdOvWjcmTJ/Ptt9/WqOdtzojrmnn55Ze5+OKL6dixIyNGjGDPnj0APPXUU5x33nmEhYUxevToGj0+vv4tq8vIyODyyy/n8ssvd5cNHDiQn//857z00kv1no+W9u+5S5cunH322T7VBfjFL37Bjh07+O9//+vzMeLUPtANkMazf/9+AM455xwAVq5cycSJE7nxxhspKytj06ZNXHPNNWRlZTFu3Dj3cbfffjvPP/88kyZNYuTIkbzzzjsej7vs2bOHX/7yl/Ts2ZOHHnqI8vJy5s+fT0RERI26Cxcu5IEHHuDaa6/l9ttv58iRI6xatYorr7ySDz/8kG7dugHwzDPPcMcddzBy5EimT5/OgQMHmDhxImeffTZ2u73e9/zkk09yySWXMHHiRNq3b89f//pXkpOTqaioYMqUKR51P//8c5KSkrjtttuYPHkyzz77LLfccguDBw/mkksuAeDw4cPExcVRXl7OnDlzOOuss3j66afp2LGjb38EwOFwMHbsWIYNG8bSpUt5++23WbZsGdHR0fzxj38EwBjDxIkTyc7O5rbbbuOyyy5j27ZtzJo1i8LCQlasWOHxnO+88w4vvfQSd911Fz169CAqKordu3cDcPfdd9O7d28WLFjAu+++y9NPP023bt3YuXMn5557LosWLWLr1q0sWbKEQYMGcfPNN7uf19drpD5lZWWMHTuWU6dOudtTWFhIVlYW3377LeHh4UDzXRe+XtP/+te/2LlzJ9dffz02m42DBw/y5JNPMnr0aD7++GM6derElVdeydSpU/nTn/7Efffdx0UXXQTg/rl+/Xo6d+5MSkoKnTt35p133uHBBx+ktLSUJUuW1NnOnTt3AvDTn/7Uo9wYQ3x8PDt27ODOO+/koosu4pVXXmHy5Mn1vneX3NxcXnvtNfe/g9TUVMaPH8/s2bNJT08nOTmZb775hsWLF/O73/2Od955B/D9b1ldRUUF//73v/nd735X47GhQ4fy5ptvcvz4cbp06VJrm1viv2d/DB48GGMMO3fuZPz48U3yGq2WkaCzbt06A5i3337bHDlyxBw6dMhs2rTJnHPOOaZjx46moKDAGGPMyZMnPY4rKyszgwYNMldddZW7bPfu3QYwycnJHnUnTZpkADN//nx3WUJCggkLCzNffPGFu+zjjz82VqvVVL2UDh48aKxWq1m4cKHHc+7Zs8e0b9/eXV5WVmZ69eplLrvsMnPq1Cl3vaefftoAZtSoUfWei+rv0Rhjxo4dawYMGOBR1q9fPwOYv//97+6yr7/+2oSGhpqZM2e6y6ZPn24A889//tOjXnh4uAFMfn5+ne2ZPHmyAczDDz/sUf4///M/ZvDgwe77W7ZsMYB59NFHPeolJSUZi8ViPv/8c3cZYNq1a2c++ugjj7qu62Ds2LGmoqLCXT5ixAhjsVjMnXfe6S4rLy83Nputxjn15Roxxnn+Jk+e7L6fnZ1tAJOdnW2MMebDDz80gHn55ZdrOTPNd134c017u37y8vIMYP73f//XXfbyyy97vN+qvD3HHXfcYTp16mR++OGHOtt6//33G8AcP37co9x1fSxevNhdVl5ebmJjYw1g1q1b5y6fP3++qf5fOWBCQ0M9rtennnrKAKZ3796mtLTUXT537lyPa9uXv6U3R44c8XrtG2PM6tWrDWA+/fTTOp+jpf17rqqua8Dlq6++MoB5/PHHfX5ecdIwTRAbM2YMPXv2xG63c/3119O5c2deeeUV+vbtC+AR/X/zzTeUlJQQGxvLBx984C7funUrAFOnTvV47unTp3vcdzgcbNu2jYSEBM4991x3+UUXXcTYsWM96mZmZlJRUcG1117L0aNH3bfevXtz/vnnk52dDcD777/P119/zZ133klISIj7eFfXtC+qvseSkhKOHj3KqFGjOHDgQI0u5YsvvpjY2Fj3/Z49e3LhhRd6zPTfunUrw4cPZ+jQoR71brzxRp/a43LnnXd63I+Nja3xOlartcZ5nzlzJsYY/u///s+jfNSoUVx88cVeX+u2227z6KYfNmwYxhhuu+02d5nVamXIkCE1VjX4co34wvX32rZtW60TqJvruvD1mgbP9//jjz9y7NgxzjvvPLp16+bzOaj6HMePH+fo0aPExsZy8uRJPv300zqPPXbsGO3bt6dz58413kP79u3dPWng/BvefffdPrUJ4Oc//zlRUVHu+8OGDQPgN7/5jUfvhKvcdW348rf0xjWJNjQ0tMZjrjkt9U20ban/nn3VvXt3AI4ePdokz9+aaZgmiK1evZoLLriA9u3bExERwYUXXugxoTArK4tHH32U3bt3c+rUKXd51Q+uL774gnbt2hEdHe3x3BdeeKHH/SNHjvD9999z/vnn12jHhRde6P4AAOd4szHGa11wLoNzvTZQo16HDh0YMGBAne/d5R//+Afz588nLy+vxn+cJSUlHh9eVYMol+7du/PNN9+473/xxRfu/5yrqn4+6hIWFkbPnj3rfZ0+ffrU6LJ2df27zo1L//79a3296u/L9Z6rD2eEh4d7tAF8u0Z80b9/f1JSUli+fDkbNmwgNjaWiRMn8tvf/tbdnua6Lny9psH54Ziamsq6desoLCz0mFNT3/wIl48++oj777+fd955h9LSUo/HfH2O6r744gsiIyNrBCn+XIf+XBeA+9rw5W/pjSuQqHodubgmXNc3PNIS/z37w3X9KO+L/xSMBLGhQ4cyZMgQr4/l5uYyceJErrzyStLT04mMjKRDhw6sW7euyZeeVVRUYLFY+L//+z+sVmuNx6v/B9tQ+/fv5+c//zkDBw5k+fLl2O12QkJC2Lp1KytWrKgxSc1bW4AakzrPVG2vcybq+k+8ttfzVl71vTb2NbJs2TJuueUWXn31Vd58802mTp1Kamoq7777LjabrdmuC3/cfffdrFu3junTpzNixAjCw8OxWCxcf/31Pk1y/Pbbbxk1ahRdu3bl4YcfJjo6mrCwMD744APuvffeep/jnHPOoby8vN65FA3hz3UBntdGfX9Lb84++2xCQ0MpKiqq8ZirrE+fPrW2t6X+e/aHKxDq0aNHwNoQrBSMtFKbN28mLCyMbdu2eXSbrlu3zqNev379qKioYP/+/R7fFj777DOPej179qRjx47s27evxmtVrxsdHY0xhv79+3PBBRfU2sZ+/foBzm/MrpVA4Owuz8/P59JLL63zPf71r3/l1KlTvPbaax7fklzd/Q3Rr18/n97jmerXrx9vv/12jQ8hV7e+69w0JV+vEX/ExMQQExPD/fffz86dO7niiitYs2YNjz76aLNdF75e0+Bc/TF58mSPZac//PBDjVUrtX3TzcnJ4dixY2RmZnrkXHGtaKvPwIED3fV/8pOfeLyH7du3891333kEaY19Hdalrr+lN+3atSMmJob333+/xmP//Oc/GTBgQJ0BVzD/e3Zx/d1dPZziO80ZaaWsVisWi8VjeeHBgwfZsmWLR71f//rXAPzpT3/yKE9LS6vxfGPHjmXLli18+eWX7vJPPvmEbdu2edRNTEzEarWyYMGCGt9SjDHu5EdDhgyhZ8+erFmzhrKyMned9evXe13C6O09up7TpaSk5Iw+TK+++mreffdd3nvvPXfZkSNH2LBhQ4Ofs7bXcTgcPPHEEx7lK1aswGKxuP8uTcnXa8QXpaWllJeXe5TFxMTQrl07d7d9c10Xvl7T4DwH1duyatWqGstyzzrrLIAar+/tGiwrK/M5LfiIESMAanyAX3311ZSXl3ssa3U4HKxatcqn5z0Tvvwta5OUlMS//vUvj/fz2Wef8c4777iXR9cmmP89u+zatQuLxeL+u4rv1DPSSo0bN47ly5fzq1/9ikmTJvH111+zevVqzjvvPP7973+761122WXccMMNpKenU1JSwsiRI9m+fTuff/55jedcsGABb7zxBrGxsSQnJ1NeXs6qVau45JJLPJ4zOjqaRx99lLlz53Lw4EESEhLo0qUL+fn5vPLKK/zhD3/gnnvuoUOHDjz66KPccccdXHXVVVx33XXk5+ezbt06n+YG/PKXvyQkJIQJEyZwxx138N1337F27Vp69erltavYF7Nnz+a5557jV7/6FdOmTXMvBezXr5/HezxTEyZMIC4ujnnz5nHw4EEuvfRS3nzzTV599VWmT59eY75DU/D1GvHFO++8w1133cU111zDBRdcQHl5Oc899xxWq5Xf/OY3QPNdF/5c0+PHj+e5554jPDyciy++mLy8PN5++2338viqz2m1Wnn88ccpKSkhNDSUq666ipEjR9K9e3cmT57M1KlTsVgsPPfccz4PFQwYMIBBgwbx9ttveyyJnTBhAldccQVz5szh4MGDXHzxxWRmZjZ4Doo/fPlb1iY5OZm1a9cybtw4999y+fLlREREMHPmzDqPban/nl09QR999BEAzz33HDt27ACc2W+reuutt7jiiitqXD/ig2ZduyONwrWk81//+led9Z555hlz/vnnm9DQUDNw4ECzbt06r8sAv//+ezN16lRzzjnnmLPOOstMmDDBHDp0qMYySGOM+dvf/mYGDx5sQkJCzIABA8yaNWu8PqcxxmzevNn87Gc/M2eddZY566yzzMCBA82UKVPMZ5995lEvPT3d9O/f34SGhpohQ4aYv//972bUqFE+Le197bXXzE9+8hMTFhZmoqKizOOPP26effbZGsv2+vXrZ8aNG1fjeG+v8+9//9uMGjXKhIWFmb59+5pHHnnEPPPMMz4v7T3rrLNqlHs7R8ePHzczZswwffr0MR06dDDnn3++WbJkiccyXWOcyzSnTJlS4zlruw5cr3XkyJF62+brNVLf0t4DBw6Y3/3udyY6OtqEhYWZs88+28TFxZm33367Rrub47rw9Zr+5ptvzK233mp69OhhOnfubMaOHWs+/fTTGu/XGGPWrl1rBgwY4F7K7nrv//jHP8zw4cNNx44dTZ8+fczs2bPNtm3b6l0G6rJ8+XLTuXPnGstajx07Zm666SbTtWtXEx4ebm666Sb3sltflvZWv2by8/MNYJYsWeJR7vpbupby+vO39ObQoUMmKSnJdO3a1XTu3NmMHz/e7Nu3z6djW9q/Z2Oc57K2W1XffvutCQkJMX/+8599eq/iyWJMAGf7iIi0cSUlJQwYMIDFixd7LMeW4JKWlsbixYvZv39/kyVVa800Z0REJIDCw8OZPXs2S5Ys8TlNubQsP/74I8uXL+f+++9XINJA6hkRERGRgFLPiIiIiASUghEREREJKAUjIiIiElAKRkRERCSggiLpWUVFBV999RVdunTRBkQiIiJBwhjD8ePH6dOnj8dGrtUFRTDy1Vdf1dhpUkRERILDoUOHat1kEYIkGHFtrnTo0CG6du0a4NaIiIiIL0pLS7Hb7fXuSu13MPL3v/+dJUuWsGvXLoqKinjllVdISEio85icnBxSUlL46KOPsNvt3H///dxyyy0+v6ZraKZr164KRkRERIJMfVMs/J7AeuLECS699FJWr17tU/38/HzGjRtHXFwcu3fvZvr06dx+++01dnoVERGRtsnvnpFf//rXfm1vvmbNGvr378+yZcsAuOiii9ixYwcrVqxg7Nix/r68iIiItDJNvrQ3Ly+PMWPGeJSNHTuWvLy8Wo85deoUpaWlHjcRERFpnZo8GDl8+DAREREeZREREZSWlvL99997PSY1NZXw8HD3TStpREREWq8WmfRs7ty5lJSUuG+HDh0KdJNERESkiTT50t7evXtTXFzsUVZcXEzXrl1r3Wo5NDSU0NDQpm6aiIiItABN3jMyYsQItm/f7lH21ltvMWLEiKZ+aREREQkCfgcj3333Hbt372b37t2Ac+nu7t27+fLLLwHnEMvNN9/srn/nnXdy4MABZs+ezaeffkp6ejovvfQSM2bMaJx3ICIiIkHN72Ga999/n7i4OPf9lJQUACZPnsz69espKipyByYA/fv35/XXX2fGjBmsXLkSm83Gn//8Zy3r9cLhcJCbm0tRURGRkZHExsZitVoD3SwREZEmZTHGmEA3oj6lpaWEh4dTUlLSajOwZmZmMnPaNA4WFLjLomw2lq1cSWJiYgBbVj8FUSIi4o2vn98tcjVNW5OZmUlSUhIxBQXkAceBPCCmsJCkpCQyMzMD3MLaZWZmcl5UFHFxcUyaNIm4uDjOi4pq0W0WEZGWpc32jLSUb/MOh4PzoqKIKShgC57RYQWQYLGw12ZjX35+i+ttcAVR443hPmAQsBdYZLGQBWRkZLT4Xh0REWk6vn5+t8lgpCUNieTk5BAXF0ceMNzL43nASCA7O5vRo0c3a9vq0tAgqqUEgSIi0vQ0TFOLljYkUlRUBDh7FbxxlRcWFpKTk8PGjRvJycnB4XA0S/tqk5uby8GCAu6j5kXUDphrDPmHDpGbm+su15COiIh406aCEYfDwcxp0xhvDFtw9kR0rvy5xRjGA/dMn96sH/SRkZGAc3jDG1f5zOnTW9SHuK9BlKteSwsCRUSk5WhTwUhDvs03tdjYWKJsNhZZLFRUe6wCWIRz/fXlR4+2qA9xX4OoyMjIFhkEiohIy9GmghF/v803B6vVyrKVK8nCOc+iasCRUDkR9DLgVbx/iN99551s2LCh2Ydu6guiUi0W+tvtxMbGtsggUEREWo42FYz4822+OSUmJpKRkcGevn0ZCXTFOWl1V48eAKyi9g/xr44c4be//W2zD934EkQtTUvDarU2WhDocDha1LwZERFpJCYIlJSUGMCUlJSc0fOUl5ebKJvNTLBYjAOMqXJzgJlgsZj+drspLy9vpJb7377s7GzzwgsvmOzsbPP8888bwByv1lbXrRQMYJ4Fk1fZfovFYjZv3txsbd68ebOJstkMlW0BTH+73aMN2dnZhso2ensfOyuPy87O9ut1omy2Zn2vIiLiH18/v9tUMGKM80PNYrGYCRaL2Vn5gb4zQB/k9fH5QzzAAVX1IKr6a59pEOj+m1Wei+MBDL5ERMR3vn5+K89Ipf52O0vT0lpUki53Lo/CQrYYUzOXB86hpX2AK1NHS81L4k6QhnN4yZUgLbWeBGn+5DMBlMNERKQF8fnzu1lCozPUmD0jLvV9m28pau3JAWMBs7mWoZsXXngh0E2vwZchnep87R1asGCBhnFERFoY9Yy0It56cvoCfwKq9yW01J4RF38zsG7cuJFJkyZxHOdKouqO45zwCzABlJZeRKQFUTr4Vsb1IV5YWMjM6dO5/OhRXiW49rJpCF/T5Y8AdtD6z4eISDDx9fO7fTO2Sc6A1Wp193R07NiRpKQkEqhl/kXlktrWwJ3PpJZ5M66kcEuoffnzyMocJo3RU1RWVkZ6ejr79+8nOjqa5ORkQkJCGlxPRERou3NGgl1D5l8EqzpXQFW+9/qWPzfGHJpZs2aZUKvV45yHWq1m1qxZDaonItLaaWlvGxAsk3AbQ23B14IFC844h4kvZs2aZQAzvtry4vGVz+8KNHytJyLSFmgCq7Q63ia/AnUvf26EOSNlZWV07dSJXzgcXufpxANvW60c+fZbenTrVm+9kpMnNWQjIm2Cr5/fbSodvAQ317yZG264gdGjR2O1Wv1KS99Q6enpnHI4mIf3eSn3AT84HNx0000+1UtPT29wW0REWiMFIxL0atvbZ6/N1ijLevfv3w/Uv7eOv/Uai/bsEZFgp9U00iokJiYSHx/fJBlYo6OjAeeKJW/Li/dWqbdnzx6f6jUWbzloomw2lq1cqdwqIhI0NGdEpB4tdc6IO8W+MR7J3hYCrwP3zZvHsWPHOHDgAOeffz5LliyhY8eOZ/y6IiK+0pwRkUYSEhLC1JQUsnAGFFXnpcQDWcDdKSl07tzZp3qNEYg4HA5mTpvGeGPYgrMnpnPlz1eBKODxhQtZs2YNb775JqtXrya8UycSEhLO+LVFRBpdM6zsOWNa2istgbf8IWE+5hnxVu9M1LVnz6zK16xteXF8fHyjtUNEpC5a2ivSBFpKBtba9uwpwzmB9xdQ61DRNqDk5EkN2YhIk9PeNCKtWG179qQBM6DevXyuuOIKLr30UiwWC8OGDcNutzfahF8RERcFIyKtmMPh8Jrs7W7gCfBpl2OX9kA5WoUjIo1PE1hFWrGqyd6qTpZ1/YPeW8txrvJpnJ5c+yvXcxYUkJSURGZmZhO1WkTEO/WMiAQxb3lG2uMMMGpdXgyUACFeyn8OfGy3n1H6fBERF/WMiLQBiYmJfH7wIAsWLABgBHAe1L28mNOBCFRJVQ9EA/mHDpGbm9tcb0FERBlYRYKd1WrlwQcfZNCgQaRMnUphYSEDgLdwBh8u7XEOzyz28hyuVPU/VP4sKioCmn5VkIgIKBgRaTUSExMJDw9nzJgxbAB+CqQD+4ECYAtwfS3HuuaShFX+jIyMZPbs2fxp+XJOVdnrZs499zA1JYXFi72FNCIiDaNgRKQV+frrrwFnT0cIML2y3JV/ZCHe55IswhmI7Af62+1kZWWxbNkyxgPzqJJq3uFgyZIlAD4FJA6Ho0n2CxKR1kUTWEVakdryjwDMBpYA48FjL5tFOIdzooEDFgsbN25k8o03+r3HTvUhnT59+nDvzJnaxE+kDdMEVpE2KDY2liibjUUWCxXVHnsMZ8CxDWfis66VP9+ofLzCbicjI4Mvv/ySUw4HlwN/BxxVnsM92dXhID093V0+e/ZsunbqxIwZM3jiiSeYMWMG1113HYMKCjwm0cYUFmr5sIjUoGEakVbElX8kKSmJBIuFuca4e0BSLRYO4EwlX1RUxL59+2pkYJ07dy5pS5cCML/yOaOAZYCrL8M12XX//v2AMxBZsmQJ44E5wDfATcBAIBPoUFl/OLDFGBIsFu6ZPp34+HgN2YiIU5PukNNItFGeiH82b95somw2j836+tvtZvPmzbUeM2vWLK8b7E0AYwGzuXIjvp2Vz7dixQpz6tQpE2q1mvFgXgYTVeX1qLzvOs5UOz47O7v5ToiIBIQ2yhNp4/yZPFpWVkbXTp1qnSeSgLN35TOcPSSuOSPp6enMmDGDVJzDN7XNR8ngdM+KKyX9Cy+8wA033OB+/fT0dK+9Neo9EQlevn5+a5hGpJWyWq2MHj3ap7rp6emccjiYR82JZO2AuTjnl1wJvAvMSkkhJCTEPVSzBmcgsqXK8cMr7ycA9+Cc+Grl9DLi4uJiNm7cyKuvvsorL79MWcXpWS5PrV6t/XJE2hAFIyLiDioG1fK4q/xfwKxZs9zLeqOjowH4AthE3YFMLs5gZioQarUyY8YMd73OwALgj8AG4BngA+Dsyv1yMjIyFJCItGJaTSMi7qCivg32Uhcv9sgvkpycTHuLBag/kPkbMAx4H/iFw+GxyiYOZ9ByITAFZyAC8BHwU2O4Z/p0HA4HItI6KRgREZKTkwm1WlkINZYEu5OiWa1MmzbN47GQkBDiK3ss6gtkHgL2WK2Mx5l4bTjOHpHhwM2ABbgcz/10xuAMTPIPHSInJ6fhb1BEWjQFIyJCSEgIU1NS6t5gr3KeSHW9evWiPdQZyLQHRo4c6XVeigOYBV6DlNeAqyuPv+Gaa5SfRKSVUjAiIoAzvfusWbN4y2r1SIr2ttXqMU+kuv3791MOvI5zsmrVQCahsrwcOH78OFBzOCcXOIhzFY63OSfzKo+P/uYbJUwTaaUUjIiI2+LFiyk9eZIVK1Zw1113sWLFCkpOnqxzH5rzzz8fcPaA7MEzu+tenD0mUPu8lKLKn/XNObkLGGcMd995J2VlZX69LxFp2ZRnRETOyPfff094p06MxZlx9R84A4xI4Aqc+UW2Af89fpyYiy4iprCQLca4vwnl4JzA6m0/HSrLRwLZQGjl7xE9epD+1FNaYSPSwmlvGhFpFh07duTq+HiycAYeoTjnf4RW3s8Cro6Pp3PnzixbubLGvJT2OOeIPIr3OSepQH8gltO9JH2PHq11yMbhcJCTk8PGjRvJycnRKhyRYNAM2WDPmNLBi7R88fHxpkO1dPAdwMTHx3vU27x5s4ns2dOjXq/KlPMTKtPFl1b+HF9LKvrtYCZYLKa/3W7Ky8uNMcaUl5ebBQsWmB5nn+2Zkt5mqzMNvog0HaWDF5Fm9/333zNr1iz27dvH+eefz5IlS+jYsWONemVlZZzbty99jx5lCTAK50qamTgns7r0B5bi7GGpmpZ+H/AelcM32dn897//JfkPf6D42DH3sf2AO4GdFoszJb0Sp4k0O18/vxWMiEhAZGZmkpSUxNXGMA/nEMz/h3OZ77vABTgzsV5K5a7DeO5z49rjZvr06axcuZJxVZ6n6r44LwH/a7Gw12ZjX36+9roRaUaaMyIiLVpiYiIPPfQQ2zi9AicWKMYZkByvvF91ZU7VDfdcq3Je3LCB8cbUyFGyBefcldnAbGPIP3SI3Nzc5nhrIuIn7U0jIgFz/vnnUw5sBb7FuQInFueGeo8C51aWLcM5lOPq06gAUi0WevfoQdGRI7XmKHHti1NaWVZUVISItDzqGRGRgImMjASgO3ADMJrTAUcIMA3YDazAOUfEnUytch7I9TfeCPi2wV/V1xORlkXBiIgETGxsLFE2G4ssFq/LevMsFnqdcw57bTbPZGo2GxkZGcTHxwP174uzDehvtxMbG9sE70JEzpSGaUQkYKxWK8tWriQpKYkEi4W5xrgnoKa6VsE8/TTx8fHk5uZSVFREZGQksbGxWK1WHA6HM5iplkgNTu+L0wVnb8rmtDRNXhVpobSaRkQCLjMzk5nTpnGwoMBd1t9uZ2laWr3LcV2rcsaDRzCzEOe+OL3OOYcnn35ay3pFAkBLe0UkqDgcDq+9H77wFsxEnHMOyVOnMm/ePPWIiASIghERaVPOJJgRkabh6+e35oyISKtgtVoZPXq0T3UVuIi0LA1aTbN69WqioqIICwtj2LBhvPfee3XWT0tL48ILL6Rjx47Y7XZmzJjBDz/80KAGi4iciczMTM6LiiIuLo5JkyYRFxfHeVFRXjfdq4825RNpJP5uerNp0yYTEhJinn32WfPRRx+Z3//+96Zbt26muLjYa/0NGzaY0NBQs2HDBpOfn2+2bdtmIiMjzYwZM3x+TW2UJyKNYfPmzcZisZgJYPLAHK/8OcFiMRaLxa8N9TZv3myibDZtyidShybbKG/YsGFcfvnlPPHEEwBUVFRgt9u5++67mTNnTo36d911F5988gnbt293l82cOZN//vOf7Nixw+trnDp1ilOnTrnvl5aWYrfbNWdERBrM4XBwXlQUMQUFbIEay4AT/Ni/xr2Cxxjuo8p+ONqUT8RDk+xNU1ZWxq5duxgzZszpJ2jXjjFjxpCXl+f1mJEjR7Jr1y73UM6BAwfYunUrV199da2vk5qaSnh4uPtmt9v9aaaISA25ubkcLCioPXW8j/vXOBwOZk6bxnhj2EK1/XCMYTxwz/TpGrIR8YNfE1iPHj2Kw+EgIiLCozwiIoJPP/3U6zGTJk3i6NGj/OxnP8MYQ3l5OXfeeSf33Xdfra8zd+5cUlJS3PddPSMiIg3l2pemvtTx9e1f4wpqNlJ7UDPy0CFWrVpFRESEJsiK+KDJ08Hn5OSwaNEi0tPT+eCDD8jMzOT111/nkUceqfWY0NBQunbt6nETETkTrn1p6ksdX9/+NfUFNQdwfsubMWPGGU+QFWkr/ApGevTogdVqpbi42KO8uLiY3r17ez3mgQce4KabbuL2228nJiaG//f//h+LFi0iNTWViorqu1GIiDSN+vbBSbVYfNq/pq6gJhO4CfgVzhT0ro39YgoLSUpKUkAiUgu/gpGQkBAGDx7sMRm1oqKC7du3M2LECK/HnDx5knbtPF/G1V3p59xZEZEGc+2Dk4VzsmrVYMG1C/BSH/avqS2ocQAzgXHAy8C7wNzKny9pLolInfwepklJSWHt2rX85S9/4ZNPPuGPf/wjJ06c4NZbbwXg5ptvZu7cue76EyZM4Mknn2TTpk3k5+fz1ltv8cADDzBhwgSNoYpIs0pMTCQjI4M9fft63QXYlxUwtQU1a4CDQDjQDZgBPFH5Mxw4WTlBdtWqVQpIRKpryLrhVatWmXPPPdeEhISYoUOHmnfffdf92KhRo8zkyZPd93/88Ufz0EMPmejoaBMWFmbsdrtJTk4233zzjc+vpzwjItKYysvLTXZ2tnnhhRdMdna2KS8v9/s5vOUZcd3GV8ljkgqmc7XHlY9E2oomyzMSCNqbRkRaoqpp5QsLC5k7axa/Al7F2e2cCSQB40H5SKRNapI8IyIicpprP5wbbrgBi8VCOTAP53+srjkk40H5SETqoWBERKQRHDx4EDi95DcX5xySM02yJtIWKBgREWkE0dHRwOklv67UaWeaZE2kLVAwIiLSCJKTkwm1WlmIM2+JK3XamSZZE2kLFIyIiDSCkJAQpqakkAXE48zC2g/cwUlV/iRZE2kL/NqbRkREard48WIA/rR8OVmVE1O/ACbinNjqWk2T6lpN40OSNZG2QEt7RUQaWVlZGenp6ezfv58TJ07wzptv8kVhofvx/nY7S9PStKxXWj1fP78VjIiINLGq+Ui0i6+0Jb5+fmuYRkSkibnykYiId5rAKiIiIgGlYEREREQCSsGIiIiIBJSCEREREQkoBSMiIiISUApGREREJKAUjIiIiEhAKRgRERGRgFIwIiIiIgGlYEREREQCSsGIiIiIBJSCEREREQkoBSMiIiISUApGREREJKAUjIiIiEhAKRgRERGRgFIwIiIiIgGlYEREREQCSsGIiIiIBJSCEREREQkoBSMiIiISUApGREREJKAUjIiIiEhAKRgRERGRgFIwIiIiIgGlYEREREQCSsGIiIiIBFT7QDdARERaPofDQW5uLkVFRURGRhIbG4vVag10s6SVUDAiIiJ1yszMZNq0mRQUHHSX2WxRrFy5jMTExMA1TFoNDdOISA0Oh4OcnBw2btxITk4ODocj0E2SAMnMzCQpKYmCghggDzgO5FFYGENSUhKZmZkBbqG0BhZjjAl0I+pTWlpKeHg4JSUldO3aNdDNEWnVMjMzmTltGgcLCtxlUTYby1au1LfgNsbhcBAVdV5lILIFz++vFVgsCdhse8nP36chG/HK189v9YyIiJvrW3BMQUGV78AQU1iob8FtUG5ubuXQzH3U/LhohzFzOXQon9zc3OZvnLQqCkZEBHB+C545bRrjjWELMBzoXPlzizGMB+6ZPl1DNm1IUVFR5W+DaqkxqFo9kYZRMCIigPNb8MGCglq+A8NcY8g/dEjfgtuQyMjIyt/21lJjb7V6Ig2jYEREgNPfbuv+DqxvwW1JbGwsNlsUFssioKLaoxVYLKnY7f2JjY0NRPOkFVEwIiLA6W+3dX8H1rfgtsRqtbJy5TIgC4slgaqraZz3s0hLW6rJq3LGFIyICOD8Fhxls7HIYvHyHRhSLRb62+36FtzGJCYmkpGRQd++e4CRQFdgJDbbXjIyMrTCShqFlvaKiJtrNc14nHNEBuHsEUm1WMgCffi0YY2VgVWZXNsWXz+/FYyIiAdveUb62+0sTUtTICJnRJlc2x4FIyLSYPr2Ko3N1etmzHiceUuc/W7OybFZ6nVrpRSMiIhIi6BMrm2XMrCKiEiLoEyuUh8FIyIi0qSUyVXqo2BERESalDK5Sn0UjIiISJNSJlepj4IRERFpUsrkKvVRMCIiIk1OmVylLlraKyIizaauHDZlZWWkp6ezf/9+oqOjSU5OJiQkJMAtljOhPCMiIhI0Zs+ezfLlf8LhOOUus1pDSUmZyuLFiwPYMjkTTZpnZPXq1URFRREWFsawYcN477336qz/7bffMmXKFCIjIwkNDeWCCy5g69atDXlpEREJYg6Hg5ycHDZu3EhOTg4Oh4PZs2ezZMkSHI5fUHU+icPxC5YsWcLs2bMD3Gppau39PeDFF18kJSWFNWvWMGzYMNLS0hg7diyfffYZvXr1qlG/rKyMX/ziF/Tq1atyvLAvX3zxBd26dWuM9ouISJDwtjdNnz7ncvjwYWA88CqnvyMPr7wfz7JlfyImJgZ75a7Rmuja+vg9TDNs2DAuv/xynnjiCQAqKiqw2+3cfffdzJkzp0b9NWvWsGTJEj799FM6dOjQoEZqmEZEJLjVtjcN3AZ8jLNHZLiXI/NwTnh10sZ6waVJhmnKysrYtWsXY8aMOf0E7doxZswY8vLyvB7z2muvMWLECKZMmUJERASDBg1i0aJFOByOWl/n1KlTlJaWetxERCQ4ORwOpk2bWRmIbMEZdHSu/Dm6slbd2VnhWSCPwsIYkpKSyMzMbMIWS3PzKxg5evQoDoeDiIgIj/KIiIjKbraaDhw4QEZGBg6Hg61bt/LAAw+wbNkyHn300VpfJzU1lfDwcPfNbrf700wREWlB6t6b5vzKn3VnZ4X+wHCM2QKMZ/r0e+r8UivBpcnzjFRUVNCrVy+efvppBg8ezHXXXce8efNYs2ZNrcfMnTuXkpIS9+3QoUNN3UwREWkide9NkwyEAgvxlp0VUnEGIq7srNpYrzXyawJrjx49sFqtFBcXe5QXFxfTu3dvr8dERkbSoUMHjwlHF110EYcPH6asrMzrGvLQ0FBCQ0P9aZqIiLRQnnvTVJ8XEgL8BngBiMdzPkkqkAVkAFUnrWpjvdbGr56RkJAQBg8ezPbt291lFRUVbN++nREjRng95oorruDzzz+nouJ0xPuf//yHyMhIJbMREWkD6t+b5jidO3fFan2LqtlZ4QOcgUj1yaraWK+18XuYJiUlhbVr1/KXv/yFTz75hD/+8Y+cOHGCW2+9FYCbb76ZuXPnuuv/8Y9/5L///S/Tpk3jP//5D6+//jqLFi1iypQpjfcuRESkxfJlb5q//GUdJ0+WsmLFCpKTkwkPPxv4HyCh2rNVAIvo2bM3hYWF7lwlEuRMA6xatcqce+65JiQkxAwdOtS8++677sdGjRplJk+e7FF/586dZtiwYSY0NNQMGDDALFy40JSXl/v8eiUlJQYwJSUlDWmuiIi0AJs3bzY2W5QB3De7vb/ZvHmz17oWi8VYLBMM7DRQWvlziIH2Hs9hs0V5fQ4JPF8/v5UOXkREmk1de9NU5y1JmtN4YB6uuSXO4Z8sbbjXAmlvGhERCXqu4KWwsJAZM2Zx5MgQnLlKqs4yqMBiScBm20t+/j5laG1BmnRvGhERkeZgtVoZPXo0ffv25ciRIrznKjm93DcnJ6f5GylnTMGIiIi0eHXnKjldfu211ys7axBSMCIiIi2eZ64Sb5zl//3v+UoXH4QUjIiISItXX66S05la/4bSxQcfBSMiItLiVc1V4szUejpXiTMXSRawFOigdPFBSMGIiIgEhcTERDIyMjj77PfwzNS6F89MrUoXH2z82ptGREQkkBITEwkPD2fMmDHAAuBKnJvoVV3Oq3TxwUbBiIiIBJXRo0djs0VRWPg+xtxPzZwjqdhs/YmNjfU4zp+Ea9K8NEwjIiJBxZe9btLSlnoEGpmZmURFnUdcXByTJk0iLi6OqKjztOqmhVAwIiIiQcc1f6Rv3z1UnT9is+2tkRY+MzOTpKQkCgpiqBq4FBbGaBlwC6F08CIiErTqG3pxOBz06xdNYWEfYArQl9NzTJRGvqn5+vmtOSMiIhK0XOnia7Nw4UIKCwuBL3D2igBEAcuAxMplwCPJzc2t83mkaWmYRkREWqXMzEzmz38I+BWeeUligCQgEy0DbhnUMyIiIq2Ow+Fg2rSZwHg8d/kdXnk/AbgbuB2AXr16NXcTpQr1jIiISKuTm5tLQcFBatvlF+YCXwEPA3DLLbdrImsAKRgREZFWx9ddfuFZtLIm8BSMiIhIwDgcDnJycti4cSM5OTmNtrmdr7v8OjfXG44xW9AGe4GjYERERAKiKROR+b7LrytLazttsBdACkZERKTZNXUisrqytHru8ls1t4hW1gSKghEREWlWrpUuxrhWugwHOnMmwyXehntqy9IKH+C5y6+LNtgLFAUjIiLSrOpb6eLvcEldwz2JiYkcPPg52dnZPP/88/ToEQH8D87ekaqcG+zZ7TU32JOmp2BERESala8rXXwZLvFluMeVpfXGG2/kqafSsVhe93mDPWkeCkZERKRZ+brSpb7hkoYM9/izwZ40H22UJyIizcrhcBAVdR6FhTGVQUPV78W+b16Xk5NDXFwczh6O4V5q5AEjyc7OrrHvTH0b7Enj0EZ5IiLSIrlWuiQlJWGxJGDMXJxDM3uxWFJxDpdk1BscnMlwT30b7FWlwKXpKRgREZFm5xoumTZtJgUFI93lNlt/0tJ8Gy7xHO7x1jPSsNUxZWVlpKens3//fr777jvefPMdvvrqyyptjGLlymUa0mlEGqYREZGAOZNeh8Ya7qlq9uzZLF/+JxyOU1VKOwDXAmtw9t4sArI0x8QHvn5+KxgREZGg5VpNA+O9Dvf4EzDMnj2bJUuW4Nzpd577uWAhziRps4DFNDTQaYsUjIiISJuQmZlZOdxz0F1mt/cnLW2pz4FIWVkZnTp1xeH4BfAq1XtZIB54C1gL2HHOcoj1OjlWTtMEVhERaRMSExOJj48/o0mm6enplUMz8/CWiM2ZoC0LuLmyrB+g1PGNRcGIiIgEPX9Wx3izf//+yt/qXpkDzwIX4Ry6+YJ9+/Y1+DXlNCU9ExGRNi86Orryt7oTsTl3+h2OcyhnHGvXrvdrDx3xTsGIiIi0ecnJyVitoTh7PCqqPVoBpOIMRFz71rQD5lFQ4PseOlI7BSMiItLmhYSEkJIyFee8kHiq7lvj3FQvC7gFeAnIARz4s4eO1E1zRkRERIDFixcDVOYZyaryyDlAD2B+lbIo4A8AFBcX43A4tMT3DKhnREREpNLixYs5ebKUFStWkJycTKdOZwHHcM4TqdpbEoNr5c2MGTOIijqPzMzMwDU8yCnPiIiIiBcOh4OIiL4cO3Y53nOPTATeBzZjsTyOsrLW5Ovnt3pGREREvMjNzeXYsWJqzz0yDygGfqxMRz+e6dPv0eqaBlAwIiIi4oWvuwJDEdAOY+Zy6JBW1zSEghEREREvPHcF9sZV7qqn1TUNpWBERETEi9jYWGy2qMpden3JPeIMTk4HMeIrBSMiIiJeWK1WVq5cBmRhsSTgPffIUsCKcyffVHr27ENhYSE5OTmaO+IHBSMiIiK1SExMJCMjg7599wAjga6VP3NwZmv9Bc7gJB5j/sqRI1/x29/+lri4OC339YOW9oqIiNTD4XC4dwXet28fTz31DF999WWVGlbgf4BVOOeO7K0c3mnby321tFdERKSRuHYFvuGGGxg0aBDt2lX/+OwI3IszOVpnYLiW+/pBwYiIiIiPMjMzSUpKoqAgBs85JKOBa4GqwzJa7usrBSMiIiI+cDgcTJs2E2PGA1uo2gvizNA6HrgH5yZ6Llru6wsFIyIiIj7Izc2loOAgcB/eM7LOBfKBqr0gWu7rCwUjIiIiPvAvIys4c5EsomfP3lruWw8FIyIiIj7wPSNrOM55JMOANzhy5LCW+9ZDwYiIiIgP6s/IuhBoD4zDmYvkfeBXVJ3oWlgYQ1JSkgKSahSMiIiI+KCujKwWSwIWy1YWLHiA559/no4du+Cc0Poq1Zf7GjOOyZNvY/ny5ZSVlQXq7bQoCkZERER8VFtGVpttLxkZGTz44IP89a9/5fvvjwPz8D7R9T6+++5bZs6cSadOXZk9e3Yzv4uWRxlYRURE/FQ1I2tkZCSxsbFYrVbKysoICzsLY8px9pp09nL0cZxBzALgX0AWs2bNYvHixc34DpqHr5/fCkZEREQaSVpaGjNmzKi8l4dziKa6PJy9KtnAlUA8VuvbnDxZQkhISDO1tHkoHbyIiEgz279/f+Vv/YDaJrqmAv2BWFzDNg7HD9xxxx3N1s6WRsGIiIhII4mOjq787U4gC0jAM218QmX5Upyb64ErP8n69evb7CqbBgUjq1evJioqirCwMIYNG8Z7773n03GbNm3CYrGQkJDQkJcVERFp0ZKTk7FaQ4F/AC8BnhNdnblIMoCqu/i68pNc1GY31fM7GHnxxRdJSUlh/vz5fPDBB1x66aWMHTuWr7/+us7jDh48yD333ENsbGyDGysiItKShYSEkJIyFWfvx1+A54C/At1wzh/5DM9ApGp+km/a7KZ6fgcjy5cv5/e//z233norF198MWvWrKFTp048++yztR7jcDi48cYbWbBgAQMGDDijBouIiLRkixcvZtasWVitb+GcFzIB+BZ4F2cgUnXYJh7YCjwCDAHg1Vdfbf5GB5hfwUhZWRm7du1izJgxp5+gXTvGjBlDXl5ercc9/PDD9OrVi9tuu82n1zl16hSlpaUeNxERkWCxePFiTp4sZcWKFcTExFSWrgd24Tls8xHOYZs5OBOkjWPDhhfb3FCNX8HI0aNHcTgcREREeJRHRERw+PBhr8fs2LGDZ555hrVr1/r8OqmpqYSHh7tvdrvdn2aKiIgEXEhICNOnT+d3v/tdZcl9nN5EDyACeJzTwzbtgHkcOVLEwoULm7Glgdekq2mOHz/OTTfdxNq1a+nRo4fPx82dO5eSkhL37dChQ03YShERkabTp0+fyt9+iucQzVDgOiATcAA5wCcAzJ8/v02trGnvT+UePXpgtVopLi72KC8uLqZ379416u/fv5+DBw8yYcIEd1lFhXPNdfv27fnss8+qLIM6LTQ0lNDQUH+aJiIi0uI4HA5mzryX0/vUuPoAhgNbcC71nQKkAF9UOTKMP/zhj8THx2O1Wmnt/OoZCQkJYfDgwWzfvt1dVlFRwfbt2xkxYkSN+gMHDmTPnj3s3r3bfZs4cSJxcXHs3r1bwy8iItKq5ebmUlBwEOc+NQZn78fGyp8GmA0cBkKA1TgnuuYBYzh27Os2M1zjV88IQEpKCpMnT2bIkCEMHTqUtLQ0Tpw4wa233grAzTffTN++fUlNTSUsLIxBgwZ5HN+tWzeAGuUiIiKtTVGRa47IfuAG4GCVRyM4naF1H84ekiXAMpy9KBP505/SmTdvXqvvHfF7zsh1113H0qVLefDBB7nsssvYvXs3b7zxhntS65dfflnl5IuIiLRdkZGRlb/dBMTgOWdkCHAUZ3p4V1kMkIRzCGcex44Vt4m8I9ooT0REpBa17c7rq7KyMjp16orD8Qs854yAs1ckAWcG1n0408NXLfsA6M4LL7zADTfc0Cjvp7lpozwREZEzkJmZSVTUecTFxTFp0iTi4uKIijrPr1UuO3fuxOE4hXPOSPWP3HY454zkAw9xeh7J3MqyDUDV3pXWS8GIiIhINZmZmSQlJVFQ4Dm0UlgYQ1JSks8ByelpC97mSWYCv638/VEgDjgPOFBZ9gw9e/Zh5MiRDX0bQUPBiIiISBUOh4Np02ZizHicczeGA52B4RizBRjv84Z2p3s19lZ7JBPn3JCf4DmPJAbn/BKADzly5Cuioy9s9TlHFIyIiIhUcXo57n14G1oxZq7PG9rFxsZis0VhsSzi9MoZBzATZ+6RLVQNdpz3xwEdcKaP9783JhgpGBEREami7qGV0+W+rBy1Wq2sXLkMyMJiScDZ+7EN5xJf78GOs/xHoB8N6Y0JRgpGREREqqh9aAWPcl8nliYmJpKRkUHfvntwbo43rvKRuoOd0/vY+NcbE4wUjIiIiFThfWjFpQKLJRW7vT+xsbE+P2diYiIHD35OdnY2999/f2Vp3cEOVA12fO+NCUYKRkRERKrwPrTinGDqvJ9FWtpSv7OiWq1WRo8ezUMPPYTNFgUsxFuwA4twJkg/UqXcv96YYKNgREREpJqaQytdgZHYbHvJyMggMTGxwc9ttVpZsWIJkAXE47maJgF4HbgMuBfnZNeG9cYEE7/3phEREWkLEhMTiY+PP6MMrLXp0aNH5W8f4Ax2XPoDGTiHaEYCa7BYtmFMFr/5zTRyc3MbrQ0tidLBi4iINLONGzcyadIknLv0fohzsmokEIszLfxxnL0xYLWGVmZxdbLZoli5ctkZ9c40F6WDFxERaaFOz/34BBiNc0ff0TgDEag6udW5r03Ds8AGA/WMiIiINDOHw0FU1HkUFsZU5hHx3EDPYkmgXbs3a91gz2JJwGbbS37+vhY9ZKOeERERkRaqvhU7xmTVucFea8s7omBEREQkAOpasTN9+rTKWmeeBTYYKBgREREJkKrJ0F544QWys7PJz99HfHx8ZY3GyQLb0mnOiIiISAvjy5wSzRkRERGRJtNUWWBbKgUjIiIiLVBTZoFtaTRMIyIi0oI5HI4myQLbHHz9/FY6eBERkRamrKyM9PR09u/fT3R0NMnJyYSEhAS6WU1GwYiIiEgLMnv2bJYv/5NHCvh77plDSspUFi9eHMCWNR3NGREREWkhZs+ezZIlS2qkgHc4fsGSJUuYPXu2u67D4SAnJ4eNGzeSk5ODw+EIVLPPmOaMiIiItABlZWV06tS11hTwEI/V+jYnT5aQlZXFtGkzKSg46K7REjfQ09JeERGRIJKenl5nCni4D4fjB+644w6SkpIoKIihtWygp2BERESkBdi/f3/lb3WngH/55c0YMx7YAgwHOgPDK5OjjWf69HuCbshGwYiIiEgLEB0dXflb3SngT5w4DtxHa9pAT8GIiIhIC5CcnIzVGgosxDlHpKoKYBHt2oVW3m9dG+gpGBEREWkBQkJCSEmZCmQB8VSdD+K8n8U11yRU1m5dG+gpGBEREWkhFi9ezKxZs7Ba36JqCnir9W1mzZrFhg0bsNmisFgW4a33xGJJxW7vT2xsbLO3/Uxoaa+IiEgLU1cG1szMTJKSkoDxGDMX59DMXiyWVCCrRe1b4+vnt4IRERGRIJOZmVkjz4jd3p+0tKUtJhABBSMiIiKtWjBsoKeN8kRERFoxq9XK6NGjA92MRqEJrCIiIhJQCkZEREQkoBSMiIiISEApGBEREZGAUjAiIiIiAaVgRERERAJKwYiIiIgElIIRERERCSgFIyIiIhJQysAqIiLSygRDqviqFIyIiIi0It420bPZoli5clmL2kSvKg3TiIiIBCGHw0FOTg4bN24kJycHh8NBZmYmSUlJFBTEAHnAcSCPwsIYkpKSyMzMDHCrvdOuvSIiIkHGW+9H3779+OGHHzh2bCiwBc/+hgoslgRstr3k5+9rtiEbXz+/1TMiIiISRGrv/ejDsWPFwH3U/HhvhzFzOXQon9zc3OZucr00Z0RERCRIOBwOpk2biTHj8ez9GA5MwRmcDKrlaGd5UVFRE7fSf+oZERERCRK5ubmVQzPeej/6Vv7cW8vRzvLIyMgmaduZUDAiIiISJE73anjr/YgF+gGPAhXVHqvAYknFbu9PbGxsUzaxQRSMiIiIBInTvRreej+swB3A60A8VeeTWCwJQBZpaUtbZL4RBSMiIiJBIjY2FpstCotlEd57P/I455xe2Gx7gZFAV2AkNtteMjIyWmyeEU1gFRERCRJWq5WVK5eRlJSExZKAMXNxDtnsxWJJBbJ4+ukM4uPjgyoDq/KMiIiIBBlveUbs9v6kpS1tUb0fvn5+KxgREREJQsGw/4yvn98aphEREQlCVquV0aNHB7oZjUITWEVERCSgGhSMrF69mqioKMLCwhg2bBjvvfderXXXrl1LbGws3bt3p3v37owZM6bO+iIiItK2+B2MvPjii6SkpDB//nw++OADLr30UsaOHcvXX3/ttX5OTg433HAD2dnZ5OXlYbfb+eUvf0lhYeEZN15ERESCn98TWIcNG8bll1/OE088AUBFRQV2u527776bOXPm1Hu8w+Gge/fuPPHEE9x8880+vaYmsIqIiASfJtm1t6ysjF27djFmzJjTT9CuHWPGjCEvL8+n5zh58iQ//vgjZ599dq11Tp06RWlpqcdNREREWie/gpGjR4/icDiIiIjwKI+IiODw4cM+Pce9995Lnz59PAKa6lJTUwkPD3ff7Ha7P80UERGRINKsq2kee+wxNm3axCuvvEJYWFit9ebOnUtJSYn7dujQoWZspYiIiDQnv/KM9OjRA6vVSnFxsUd5cXExvXv3rvPYpUuX8thjj/H222/zk5/8pM66oaGhhIaG+tM0ERERCVJ+9YyEhIQwePBgtm/f7i6rqKhg+/btjBgxotbjFi9ezCOPPMIbb7zBkCFDGt5aERERaXX8zsCakpLC5MmTGTJkCEOHDiUtLY0TJ05w6623AnDzzTfTt29fUlNTAXj88cd58MEHeeGFF4iKinLPLencuTOdO3duxLciIiIiwcjvYOS6667jyJEjPPjggxw+fJjLLruMN954wz2p9csvv6Rdu9MdLk8++SRlZWUkJSV5PM/8+fN56KGHzqz1IiIiEvS0UZ6IiIg0iSbJMyIiIiLS2BSMiIiISEApGBEREZGAUjAiIiIiAaVgRERERAJKwYiIiIgElIIRERERCSi/k56JiIhIcHM4HOTm5lJUVERkZCSxsbFYrdaAtUfBiIiISBuSmZnJtGkzKSg46C6z2aJYuXIZiYmJAWmThmlERETaiMzMTJKSkigoiAHygONAHoWFMSQlJZGZmRmQdikdvIiISBvgcDiIijqvMhDZgmd/RAUWSwI2217y8/c12pCN0sGLiIiIW25ubuXQzH3U/PhvhzFzOXQon9zc3GZvm4IRERGRNqCoqKjyt0G11BhUrV7zUTAiIiLSBkRGRlb+treWGnur1Ws+CkZERETagNjYWGy2KCyWRUBFtUcrsFhSsdv7Exsb2+xtUzAiIiLSBlitVlauXAZkYbEkUHU1jfN+FmlpSwOSb0TBiIiISBuRmJhIRkYGffvuAUYCXYGR2Gx7ycjICFieES3tFRERaWOaKwOrlvaKiIhIUFA6eBERkTZE6eBFREQkYJQO/gxozoiIiMiZUTp4ERERCSjv6eAdQA7wIsaMVTp4ERERaTo108FnAucBccAk4C6gPa+++mqzt03BiIiISBvgmQ4+E0gCPOeOwFjS0lY2+9wRzRkRERFpA07PGRmEMyBp+rkjmjMiIiIiblXTwcNBPOeOuLTDmLnNPndEwYiIiEgbkZiYyPTp0yvvDaqllrP89ByTpqdgREREpA2Jj4+v/G1vLTWc5afnmDQ9BSMiIiJtSGxsLDZbFBbLIqCi2qMVWCyp2O39iY2NbbY2KRgRERFpQ6rOHbFYEqi6msZ5P4u0tKVNsnFebRSMiIiItDGJiYlkZGTQt+8eYCTQFRiJzbaXjIyMZt+jRkt7RURE2iiHw0Fubi5FRUVERkYSGxvbqD0ivn5+a9deERGRNspqtTJ69OhAN0PDNCIiIhJYCkZEREQkoBSMiIiISEApGBEREZGAUjAiIiIiAaVgRERERAJKwYiIiIgElIIRERERCSgFIyIiIhJQCkZEREQkoBSMiIiISEApGBEREZGAUjAiIiIiAaVgRERERAJKwYiIiIgElIIRERERCSgFIyIiIhJQCkZEREQkoBSMiIiISEApGBEREZGAUjAiIiIiAaVgRERERAJKwYiIiIgEVPtAN0BEREQ8ORwOcnNzKSoqIjIyktjYWKxWa6Cb1WQUjIiIiLQgmZmZTJs2k4KCg+4ymy2KlSuXkZiYGLiGNaEGDdOsXr2aqKgowsLCGDZsGO+9916d9V9++WUGDhxIWFgYMTExbN26tUGNFRERac0yMzNJSkqioCAGyAOOA3kUFsaQlJREZmZmgFvYNPwORl588UVSUlKYP38+H3zwAZdeeiljx47l66+/9lp/586d3HDDDdx22218+OGHJCQkkJCQwN69e8+48SIiIq2Fw+Fg2rSZGDMe2AIMBzoDwzFmCzCe6dPvweFwBLCVTcNijDH+HDBs2DAuv/xynnjiCQAqKiqw2+3cfffdzJkzp0b96667jhMnTpCVleUuGz58OJdddhlr1qzx+hqnTp3i1KlT7vulpaXY7XZKSkro2rWrP80VEREJCjk5OcTFxeHsERnupUYeMJLs7GxGjx7drG1rqNLSUsLDw+v9/ParZ6SsrIxdu3YxZsyY00/Qrh1jxowhLy/P6zF5eXke9QHGjh1ba32A1NRUwsPD3Te73e5PM0VERIJOUVFR5W+DaqkxqFq91sOvYOTo0aM4HA4iIiI8yiMiIjh8+LDXYw4fPuxXfYC5c+dSUlLivh06dMifZoqIiASdyMjIyt9qm8awt1q91qNFrqYJDQ0lNDQ00M0QERFpNrGxsdhsURQWLqqcI1K1v6ACiyUVm60/sbGxAWph0/GrZ6RHjx5YrVaKi4s9youLi+ndu7fXY3r37u1XfRERkbbIarWycuUyIAuLJYGqq2mc97NIS1vaKvON+BWMhISEMHjwYLZv3+4uq6ioYPv27YwYMcLrMSNGjPCoD/DWW2/VWl9ERKStSkxMJCMjg7599wAjga7ASGy2vWRkZLTaPCN+D9OkpKQwefJkhgwZwtChQ0lLS+PEiRPceuutANx888307duX1NRUAKZNm8aoUaNYtmwZ48aNY9OmTbz//vs8/fTTjftOREREWoHExETi4+OVgbUu1113HUeOHOHBBx/k8OHDXHbZZbzxxhvuSapffvkl7dqd7nAZOXIkL7zwAvfffz/33Xcf559/Plu2bGHQoNpmC4uIiLRtVqs1aJbvNga/84wEgq/rlEVERKTlaJI8IyIiIiKNTcGIiIiIBJSCEREREQkoBSMiIiISUApGREREJKAUjIiIiEhAKRgRERGRgFIwIiIiIgHVInftrc6Vl620tDTALRERERFfuT6368uvGhTByPHjxwGw2+0BbomIiIj46/jx44SHh9f6eFCkg6+oqOCrr76iS5cuWCyWRnve0tJS7HY7hw4dUpr5ZqDz3bx0vpuPznXz0vluXmdyvo0xHD9+nD59+njsW1ddUPSMtGvXDpvN1mTP37VrV13QzUjnu3npfDcfnevmpfPdvBp6vuvqEXHRBFYREREJKAUjIiIiElBtOhgJDQ1l/vz5hIaGBropbYLOd/PS+W4+OtfNS+e7eTXH+Q6KCawiIiLSerXpnhEREREJPAUjIiIiElAKRkRERCSgFIyIiIhIQCkYERERkYBq9cHI6tWriYqKIiwsjGHDhvHee+/VWf/ll19m4MCBhIWFERMTw9atW5uppa2DP+d77dq1xMbG0r17d7p3786YMWPq/fuIJ3+vb5dNmzZhsVhISEho2ga2Iv6e62+//ZYpU6YQGRlJaGgoF1xwgf4/8YO/5zstLY0LL7yQjh07YrfbmTFjBj/88EMztTZ4/f3vf2fChAn06dMHi8XCli1b6j0mJyeHn/70p4SGhnLeeeexfv36M2+IacU2bdpkQkJCzLPPPms++ugj8/vf/95069bNFBcXe63/j3/8w1itVrN48WLz8ccfm/vvv9906NDB7Nmzp5lbHpz8Pd+TJk0yq1evNh9++KH55JNPzC233GLCw8NNQUFBM7c8OPl7vl3y8/NN3759TWxsrImPj2+exgY5f8/1qVOnzJAhQ8zVV19tduzYYfLz801OTo7ZvXt3M7c8OPl7vjds2GBCQ0PNhg0bTH5+vtm2bZuJjIw0M2bMaOaWB5+tW7eaefPmmczMTAOYV155pc76Bw4cMJ06dTIpKSnm448/NqtWrTJWq9W88cYbZ9SOVh2MDB061EyZMsV93+FwmD59+pjU1FSv9a+99lozbtw4j7Jhw4aZO+64o0nb2Vr4e76rKy8vN126dDF/+ctfmqqJrUpDznd5ebkZOXKk+fOf/2wmT56sYMRH/p7rJ5980gwYMMCUlZU1VxNbFX/P95QpU8xVV13lUZaSkmKuuOKKJm1na+NLMDJ79mxzySWXeJRdd911ZuzYsWf02q12mKasrIxdu3YxZswYd1m7du0YM2YMeXl5Xo/Jy8vzqA8wduzYWuvLaQ0539WdPHmSH3/8kbPPPrupmtlqNPR8P/zww/Tq1YvbbrutOZrZKjTkXL/22muMGDGCKVOmEBERwaBBg1i0aBEOh6O5mh20GnK+R44cya5du9xDOQcOHGDr1q1cffXVzdLmtqSpPieDYtfehjh69CgOh4OIiAiP8oiICD799FOvxxw+fNhr/cOHDzdZO1uLhpzv6u6991769OlT40KXmhpyvnfs2MEzzzzD7t27m6GFrUdDzvWBAwd45513uPHGG9m6dSuff/45ycnJ/Pjjj8yfP785mh20GnK+J02axNGjR/nZz36GMYby8nLuvPNO7rvvvuZocptS2+dkaWkp33//PR07dmzQ87banhEJLo899hibNm3ilVdeISwsLNDNaXWOHz/OTTfdxNq1a+nRo0egm9PqVVRU0KtXL55++mkGDx7Mddddx7x581izZk2gm9Yq5eTksGjRItLT0/nggw/IzMzk9ddf55FHHgl008RHrbZnpEePHlitVoqLiz3Ki4uL6d27t9djevfu7Vd9Oa0h59tl6dKlPPbYY7z99tv85Cc/acpmthr+nu/9+/dz8OBBJkyY4C6rqKgAoH379nz22WdER0c3baODVEOu7cjISDp06IDVanWXXXTRRRw+fJiysjJCQkKatM3BrCHn+4EHHuCmm27i9ttvByAmJoYTJ07whz/8gXnz5tGunb53N5baPie7du3a4F4RaMU9IyEhIQwePJjt27e7yyoqKti+fTsjRozwesyIESM86gO89dZbtdaX0xpyvgEWL17MI488whtvvMGQIUOao6mtgr/ne+DAgezZs4fdu3e7bxMnTiQuLo7du3djt9ubs/lBpSHX9hVXXMHnn3/uDvgA/vOf/xAZGalApB4NOd8nT56sEXC4AkGjvWAbVZN9Tp7R9NcWbtOmTSY0NNSsX7/efPzxx+YPf/iD6datmzl8+LAxxpibbrrJzJkzx13/H//4h2nfvr1ZunSp+eSTT8z8+fO1tNcP/p7vxx57zISEhJiMjAxTVFTkvh0/fjxQbyGo+Hu+q9NqGt/5e66//PJL06VLF3PXXXeZzz77zGRlZZlevXqZRx99NFBvIaj4e77nz59vunTpYjZu3GgOHDhg3nzzTRMdHW2uvfbaQL2FoHH8+HHz4Ycfmg8//NAAZvny5ebDDz80X3zxhTHGmDlz5pibbrrJXd+1tHfWrFnmk08+MatXr9bSXl+sWrXKnHvuuSYkJMQMHTrUvPvuu+7HRo0aZSZPnuxR/6WXXjIXXHCBCQkJMZdccol5/fXXm7nFwc2f892vXz8D1LjNnz+/+RsepPy9vqtSMOIff8/1zp07zbBhw0xoaKgZMGCAWbhwoSkvL2/mVgcvf873jz/+aB566CETHR1twsLCjN1uN8nJyeabb75p/oYHmezsbK//D7vO7+TJk82oUaNqHHPZZZeZkJAQM2DAALNu3bozbofFGPVhiYiISOC02jkjIiIiEhwUjIiIiEhAKRgRERGRgFIwIiIiIgGlYEREREQCSsGIiIiIBJSCEREREQkoBSMiIiISUApGREREJKAUjIiIiEhAKRgRERGRgPr/AUt+ZPWmkOQFAAAAAElFTkSuQmCC",
      "text/plain": [
       "<Figure size 640x480 with 1 Axes>"
      ]
     },
     "metadata": {},
     "output_type": "display_data"
    },
    {
     "data": {
      "image/png": "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",
      "text/plain": [
       "<Figure size 640x480 with 1 Axes>"
      ]
     },
     "metadata": {},
     "output_type": "display_data"
    }
   ],
   "source": [
    "import matplotlib.pyplot as plt\n",
    "\n",
    "plt.figure()\n",
    "plt.scatter(X[:, 0][Y == 1], X[:, 1][Y == 1], c=\"b\", marker=\"o\", ec=\"k\")\n",
    "plt.scatter(X[:, 0][Y == -1], X[:, 1][Y == -1], c=\"r\", marker=\"o\", ec=\"k\")\n",
    "plt.title(\"Original data\")\n",
    "plt.show()\n",
    "\n",
    "plt.figure()\n",
    "dim1 = 0\n",
    "dim2 = 1\n",
    "plt.scatter(X_norm[:, dim1][Y == 1], X_norm[:, dim2][Y == 1], c=\"b\", marker=\"o\", ec=\"k\")\n",
    "plt.scatter(X_norm[:, dim1][Y == -1], X_norm[:, dim2][Y == -1], c=\"r\", marker=\"o\", ec=\"k\")\n",
    "plt.title(f\"Padded and normalised data (dims {dim1} and {dim2})\")\n",
    "plt.show()\n",
    "\n",
    "plt.figure()\n",
    "dim1 = 0\n",
    "dim2 = 3\n",
    "plt.scatter(features[:, dim1][Y == 1], features[:, dim2][Y == 1], c=\"b\", marker=\"o\", ec=\"k\")\n",
    "plt.scatter(features[:, dim1][Y == -1], features[:, dim2][Y == -1], c=\"r\", marker=\"o\", ec=\"k\")\n",
    "plt.title(f\"Feature vectors (dims {dim1} and {dim2})\")\n",
    "plt.show()"
   ]
  },
  {
   "cell_type": "markdown",
   "id": "06cfc0f9-a163-42de-a082-3efd388691a3",
   "metadata": {},
   "source": [
    "From analyzing the graphs, \n",
    "- The `Padded and normalised data` graph shows the most perfect separation of classes. \n",
    "- Despite the great separation with high accuracy in the `Features vectors` graph, some points are located far beyond the boundary region.  \n",
    "- The `Original data` graph contains scattered data points."
   ]
  },
  {
   "cell_type": "markdown",
   "id": "9c1c6023-6bbc-4a16-81b5-91314c2a2ad6",
   "metadata": {},
   "source": [
    "## Data Splitting\n",
    "We should split data into train data and validation data for better generalization. Moreover, using two datasets can lower the chance of our model being overfit. We know that our model is reliable once it predicts well on unseen `val_data`.\n",
    "- train data -> model training\n",
    "- validation data -> model testing"
   ]
  },
  {
   "cell_type": "code",
   "execution_count": 21,
   "id": "2cf557b4-f9f9-4eff-8169-a2ea904fcaf9",
   "metadata": {},
   "outputs": [],
   "source": [
    "np.random.seed(0) # for reproducibility\n",
    "\n",
    "num_data = len(Y)\n",
    "num_train = int(0.75 * num_data) # 75 % of sample data used as training data set\n",
    "index = np.random.permutation(range(num_data)) # for a random shuffled array of 0 to (num_data) -1\n",
    "\n",
    "# for training data\n",
    "feats_train = features[index[:num_train]] # first 75 %\n",
    "Y_train = Y[index[:num_train]]\n",
    "\n",
    "# for validation data\n",
    "feats_val = features[index[num_train:]] # the remaining 25% \n",
    "Y_val = Y[index[num_train:]]\n",
    "\n",
    "# We need these later for plotting\n",
    "X_train = X[index[:num_train]]\n",
    "X_val = X[index[num_train:]]"
   ]
  },
  {
   "cell_type": "markdown",
   "id": "1b450846-e7ed-4b66-9fb2-3f0825a0d622",
   "metadata": {},
   "source": [
    "## Initializing Variables\n",
    "This process is the same as the parity-function implementation process.\n",
    "- We initialize `num_qubits` and `num_layers`.\n",
    "- For initial weights, we choose random values multiplied by 0.01 to start with the small values.\n",
    "- Bias is set to 0.0.\n",
    "- For both weight and bias, we make `requires_grad = True` because we want the optimizer to automatically adjust those initial values to minimize loss function during the training. "
   ]
  },
  {
   "cell_type": "code",
   "execution_count": 22,
   "id": "ec4cd135-37dd-4c13-af1c-e1235b362525",
   "metadata": {},
   "outputs": [],
   "source": [
    "num_qubits = 2 \n",
    "num_layers = 6\n",
    "weights_init = 0.01 * np.random.randn(num_layers, num_qubits, 3, requires_grad=True)\n",
    "bias_init = np.array(0.0, requires_grad=True)"
   ]
  },
  {
   "cell_type": "markdown",
   "id": "2de9b704-7687-4adf-8e0e-fa82d540a57b",
   "metadata": {},
   "source": [
    "## Choosing Optimizer and Batch Size\n",
    "We initialize a suitable optimizer to minimize loss function."
   ]
  },
  {
   "cell_type": "code",
   "execution_count": 23,
   "id": "406c79f1-ff50-497b-9041-0aad8a2841e9",
   "metadata": {},
   "outputs": [],
   "source": [
    "opt = NesterovMomentumOptimizer(0.01)\n",
    "batch_size = 5"
   ]
  },
  {
   "cell_type": "markdown",
   "id": "2ee21992-8bf7-4c67-9acc-42524077758a",
   "metadata": {},
   "source": [
    "## The Main Function\n",
    "Our model is ready to be optimized, make predictions, calculate accuracy, and return the results. The following code cell trains our model with training data."
   ]
  },
  {
   "cell_type": "code",
   "execution_count": 24,
   "id": "a15e50c1-a8de-44bd-a4f1-5370a5390b3d",
   "metadata": {},
   "outputs": [
    {
     "name": "stdout",
     "output_type": "stream",
     "text": [
      "Iter:     2 | Cost: 1.0268142 | Acc train: 0.5200000 | Acc validation: 0.4400000\n",
      "Iter:     4 | Cost: 0.9608409 | Acc train: 0.5200000 | Acc validation: 0.4400000\n",
      "Iter:     6 | Cost: 0.8435287 | Acc train: 0.5466667 | Acc validation: 0.4800000\n",
      "Iter:     8 | Cost: 0.6847051 | Acc train: 0.8266667 | Acc validation: 0.8000000\n",
      "Iter:    10 | Cost: 0.5602830 | Acc train: 0.9333333 | Acc validation: 1.0000000\n",
      "Iter:    12 | Cost: 0.4852531 | Acc train: 0.9466667 | Acc validation: 0.9200000\n",
      "Iter:    14 | Cost: 0.4620331 | Acc train: 0.9066667 | Acc validation: 0.9200000\n",
      "Iter:    16 | Cost: 0.4402760 | Acc train: 0.8666667 | Acc validation: 0.9200000\n",
      "Iter:    18 | Cost: 0.3877493 | Acc train: 0.9466667 | Acc validation: 0.9200000\n",
      "Iter:    20 | Cost: 0.3299379 | Acc train: 0.9600000 | Acc validation: 0.9200000\n",
      "Iter:    22 | Cost: 0.2765198 | Acc train: 1.0000000 | Acc validation: 1.0000000\n",
      "Iter:    24 | Cost: 0.2473229 | Acc train: 1.0000000 | Acc validation: 1.0000000\n",
      "Iter:    26 | Cost: 0.2329633 | Acc train: 1.0000000 | Acc validation: 1.0000000\n",
      "Iter:    28 | Cost: 0.2278013 | Acc train: 1.0000000 | Acc validation: 1.0000000\n",
      "Iter:    30 | Cost: 0.2303550 | Acc train: 0.9866667 | Acc validation: 1.0000000\n",
      "Iter:    32 | Cost: 0.2305564 | Acc train: 0.9866667 | Acc validation: 1.0000000\n",
      "Iter:    34 | Cost: 0.2312017 | Acc train: 0.9866667 | Acc validation: 1.0000000\n",
      "Iter:    36 | Cost: 0.2344621 | Acc train: 0.9866667 | Acc validation: 1.0000000\n",
      "Iter:    38 | Cost: 0.2315586 | Acc train: 0.9866667 | Acc validation: 1.0000000\n",
      "Iter:    40 | Cost: 0.2325232 | Acc train: 0.9866667 | Acc validation: 1.0000000\n",
      "Iter:    42 | Cost: 0.2273934 | Acc train: 0.9866667 | Acc validation: 1.0000000\n",
      "Iter:    44 | Cost: 0.2245125 | Acc train: 0.9866667 | Acc validation: 1.0000000\n",
      "Iter:    46 | Cost: 0.2225062 | Acc train: 0.9866667 | Acc validation: 1.0000000\n",
      "Iter:    48 | Cost: 0.2193128 | Acc train: 0.9866667 | Acc validation: 1.0000000\n",
      "Iter:    50 | Cost: 0.2198258 | Acc train: 0.9866667 | Acc validation: 1.0000000\n",
      "Iter:    52 | Cost: 0.2164813 | Acc train: 0.9866667 | Acc validation: 1.0000000\n",
      "Iter:    54 | Cost: 0.2118435 | Acc train: 1.0000000 | Acc validation: 1.0000000\n",
      "Iter:    56 | Cost: 0.2106101 | Acc train: 1.0000000 | Acc validation: 1.0000000\n",
      "Iter:    58 | Cost: 0.2109079 | Acc train: 1.0000000 | Acc validation: 1.0000000\n",
      "Iter:    60 | Cost: 0.2104005 | Acc train: 1.0000000 | Acc validation: 1.0000000\n"
     ]
    }
   ],
   "source": [
    "for it in range(60):\n",
    "    # Update the weights by one optimizer step\n",
    "    batch_index = np.random.randint(0, num_train, (batch_size,))\n",
    "    feats_train_batch = feats_train[batch_index]\n",
    "    Y_train_batch = Y_train[batch_index]\n",
    "    weights, bias, _, _ = opt.step(cost, weights, bias, feats_train_batch, Y_train_batch)\n",
    "\n",
    "    # Compute predictions on train and validation set\n",
    "    predictions_train = np.sign(variational_classifier(weights, bias, feats_train.T)) \n",
    "    predictions_val = np.sign(variational_classifier(weights, bias, feats_val.T))\n",
    "\n",
    "    # Compute accuracy on train and validation set\n",
    "    acc_train = accuracy(Y_train, predictions_train)\n",
    "    acc_val = accuracy(Y_val, predictions_val)\n",
    "\n",
    "    if (it + 1) % 2 == 0: # only print the even iteration times\n",
    "        _cost = cost(weights, bias, features, Y)\n",
    "        print(\n",
    "            f\"Iter: {it + 1:5d} | Cost: {_cost:0.7f} | \"\n",
    "            f\"Acc train: {acc_train:0.7f} | Acc validation: {acc_val:0.7f}\"\n",
    "        )"
   ]
  },
  {
   "cell_type": "markdown",
   "id": "496d9cd1-5515-43f2-b644-0cbb60355cc1",
   "metadata": {},
   "source": [
    "## Plotting\n",
    "Now we can plot a graph to analyze how our classifier separate different classes after applying an optimizer, "
   ]
  },
  {
   "cell_type": "code",
   "execution_count": 25,
   "id": "9d0348eb-7a75-45b0-a9a1-53c9f6a13ad9",
   "metadata": {},
   "outputs": [
    {
     "data": {
      "image/png": "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",
      "text/plain": [
       "<Figure size 640x480 with 2 Axes>"
      ]
     },
     "metadata": {},
     "output_type": "display_data"
    }
   ],
   "source": [
    "plt.figure()\n",
    "cm = plt.cm.RdBu\n",
    "\n",
    "# make data for decision regions\n",
    "xx, yy = np.meshgrid(np.linspace(0.0, 1.5, 30), np.linspace(0.0, 1.5, 30))\n",
    "X_grid = [np.array([x, y]) for x, y in zip(xx.flatten(), yy.flatten())]\n",
    "\n",
    "# preprocess grid points like data inputs above\n",
    "padding = 0.1 * np.ones((len(X_grid), 2))\n",
    "X_grid = np.c_[X_grid, padding]  # pad each input\n",
    "normalization = np.sqrt(np.sum(X_grid**2, -1))\n",
    "X_grid = (X_grid.T / normalization).T  # normalize each input\n",
    "features_grid = np.array([get_angles(x) for x in X_grid])  # angles are new features\n",
    "predictions_grid = variational_classifier(weights, bias, features_grid.T)\n",
    "Z = np.reshape(predictions_grid, xx.shape)\n",
    "\n",
    "# plot decision regions\n",
    "levels = np.arange(-1, 1.1, 0.1)\n",
    "cnt = plt.contourf(xx, yy, Z, levels=levels, cmap=cm, alpha=0.8, extend=\"both\")\n",
    "plt.contour(xx, yy, Z, levels=[0.0], colors=(\"black\",), linestyles=(\"--\",), linewidths=(0.8,))\n",
    "plt.colorbar(cnt, ticks=[-1, 0, 1])\n",
    "\n",
    "# plot data\n",
    "for color, label in zip([\"b\", \"r\"], [1, -1]):\n",
    "    plot_x = X_train[:, 0][Y_train == label]\n",
    "    plot_y = X_train[:, 1][Y_train == label]\n",
    "    plt.scatter(plot_x, plot_y, c=color, marker=\"o\", ec=\"k\", label=f\"class {label} train\")\n",
    "    plot_x = (X_val[:, 0][Y_val == label],)\n",
    "    plot_y = (X_val[:, 1][Y_val == label],)\n",
    "    plt.scatter(plot_x, plot_y, c=color, marker=\"^\", ec=\"k\", label=f\"class {label} validation\")\n",
    "\n",
    "plt.legend()\n",
    "plt.show()"
   ]
  },
  {
   "cell_type": "markdown",
   "id": "73490d00-c185-4a93-b0e2-8d795abbd87a",
   "metadata": {},
   "source": [
    "## Conclusion\n",
    "An analysis of the graph gives us the following insights-\n",
    "1. The blue class of 1 points (both train and val data) are on one side of the line.\n",
    "2. The red class of -1 points (both train and val data) are on the opposite side.\n",
    "\n",
    "The gradient line proves that our variational classifier can evenly classify data (including unseen data) with high accuracy.\n",
    "\n",
    "Very few data points near the boundary line indicates that the model is not perfect and some objects are prone to misclassifying. But, like all models, it is impossible to achieve a perfect solution. \n",
    "\n",
    "If we compare the above feature vectors plot with this graph, we can notice that our classifier can separate even unseen data with high accuracy after applying an optimizer."
    "\n"
    "The question of whether this model can be improved or not, remains unanswered without further research. \n",
    "\n",
    "Till now, our quantum variational classifier is doing well at classifying or categorizing data."
   ]
  },
  {
   "cell_type": "markdown",
   "id": "6c398d26-5abe-4ae7-88e2-ddcf209ae6c9",
   "metadata": {},
   "source": [
    "# References\n",
    "*\"The two examples used are inspired by two of the first papers that proposed variational circuits as supervised machine learning models: [Farhi and Neven (2018)](https://arxiv.org/abs/1802.06002) as well as [Schuld et al. (2018)](https://arxiv.org/abs/1804.00633)\"* (Schuld, 2019).\n",
    "\n",
    "link: https://pennylane.ai/qml/demos/tutorial_variational_classifier/\n",
    "\n",
    "# Credits\n",
    "This notebook is completed by `Myanmar Youths` for `Womanium Quantum + AI 2024` program.\n",
    "- <a href=\"https://www.linkedin.com/in/la-wun-nannda-b047681b5/\"><u>La Wun Nannda</u></a>\n",
    "- <a href=\"https://www.linkedin.com/in/chit-zin-win-46a2a3263/\"><u>Chit Zin Win</u></a>"
   ]
  }
 ],
 "metadata": {
  "kernelspec": {
   "display_name": "Python 3 (ipykernel)",
   "language": "python",
   "name": "python3"
  },
  "language_info": {
   "codemirror_mode": {
    "name": "ipython",
    "version": 3
   },
   "file_extension": ".py",
   "mimetype": "text/x-python",
   "name": "python",
   "nbconvert_exporter": "python",
   "pygments_lexer": "ipython3",
   "version": "3.11.9"
  }
 },
 "nbformat": 4,
 "nbformat_minor": 5
}
