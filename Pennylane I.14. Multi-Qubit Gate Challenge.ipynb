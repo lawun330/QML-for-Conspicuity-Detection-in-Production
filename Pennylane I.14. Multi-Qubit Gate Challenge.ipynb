{
 "cells": [
  {
   "cell_type": "markdown",
   "id": "d0b316ce-900d-4b57-9509-b541338886b0",
   "metadata": {},
   "source": [
    "# Pennylane: I. Introduction to Quantum Computing\n",
    "## I.14. Multi-Qubit Gate Challenge"
   ]
  },
  {
   "cell_type": "code",
   "execution_count": 1,
   "id": "744d38dd-c2c1-4086-95f2-dd64243b0407",
   "metadata": {},
   "outputs": [],
   "source": [
    "# preparation\n",
    "import numpy as np\n",
    "import pennylane as qml"
   ]
  },
  {
   "cell_type": "markdown",
   "id": "e982992b-218c-4eed-b6f3-23710fbdb0e2",
   "metadata": {},
   "source": [
    "### Codercise I.14.1 - The Bell states\n",
    "\n",
    "There are four Bell states. These states form the Bell basis together.\n",
    "\n",
    "$$|\\psi_+\\rangle=\\frac{1}{\\sqrt{2}}(|00\\rangle+|11\\rangle)$$\n",
    "$$|\\psi_-\\rangle=\\frac{1}{\\sqrt{2}}(|00\\rangle-|11\\rangle)$$\n",
    "$$|\\phi_+\\rangle=\\frac{1}{\\sqrt{2}}(|01\\rangle+|10\\rangle)$$\n",
    "$$|\\phi_-\\rangle=\\frac{1}{\\sqrt{2}}(|01\\rangle-|10\\rangle)$$\n",
    "\n",
    "**Task**: Implement four Bell states.\n",
    "\n",
    "**Solution**:\n",
    "- For $|\\psi_+\\rangle$, we know that the Hadamard gate with a qubit can gives us a superposition, $|+\\rangle$. That $|+\\rangle$ is entangled to the remaining qubit $|0\\rangle$ with the CNOT gate.\n",
    "- For $|\\psi_-\\rangle$, the implementation is similar to the previous one except that the negative phase is introduced. To create the state $|-\\rangle$, we can add the Pauli X operation in front of the qubit that goes into the Hadamard. Then, the CNOT operation applies on $|-\\rangle$ and $|0\\rangle$. \n",
    "- For $|\\phi_+\\rangle$, the superposition state $|+\\rangle$ is entangled with $|1\\rangle$ via the CNOT. The state $|1\\rangle$ is prepared with the Pauli X gate.\n",
    "- For $|\\phi_-\\rangle$, the implementation is similar to the previous one except for the negative phase. That negative phase is prepared by the Pauli Z operation of the state $|+\\rangle$. Then, the CNOT operation applies between $-|+\\rangle$ and $|1\\rangle$."
   ]
  },
  {
   "cell_type": "code",
   "execution_count": 2,
   "id": "87ee62e2-4a39-459b-81ec-aa279f276cc1",
   "metadata": {},
   "outputs": [
    {
     "name": "stdout",
     "output_type": "stream",
     "text": [
      "|ψ_+> = [0.70710678+0.j 0.        +0.j 0.        +0.j 0.70710678+0.j]\n",
      "|ψ_-> = [ 0.70710678+0.j  0.        +0.j  0.        +0.j -0.70710678+0.j]\n",
      "|ϕ_+> = [0.        +0.j 0.70710678+0.j 0.70710678+0.j 0.        +0.j]\n",
      "|ϕ_-> = [ 0.        +0.j  0.70710678+0.j -0.70710678+0.j  0.        +0.j]\n"
     ]
    }
   ],
   "source": [
    "dev = qml.device(\"default.qubit\", wires=2)\n",
    "\n",
    "# Starting from the state |00>, implement a PennyLane circuit\n",
    "# to construct each of the Bell basis states.\n",
    "\n",
    "\n",
    "@qml.qnode(dev)\n",
    "def prepare_psi_plus():\n",
    "    ##################\n",
    "    # YOUR CODE HERE #\n",
    "    ##################\n",
    "\n",
    "    # PREPARE (1/sqrt(2)) (|00> + |11>)\n",
    "    qml.Hadamard(0)\n",
    "    qml.CNOT(wires=[0, 1])\n",
    "    return qml.state()\n",
    "\n",
    "\n",
    "@qml.qnode(dev)\n",
    "def prepare_psi_minus():\n",
    "    ##################\n",
    "    # YOUR CODE HERE #\n",
    "    ##################\n",
    "\n",
    "    # PREPARE (1/sqrt(2)) (|00> - |11>)\n",
    "    qml.PauliX(0)\n",
    "    qml.Hadamard(0)\n",
    "    qml.CNOT(wires=[0, 1])\n",
    "    return qml.state()\n",
    "\n",
    "\n",
    "@qml.qnode(dev)\n",
    "def prepare_phi_plus():\n",
    "    ##################\n",
    "    # YOUR CODE HERE #\n",
    "    ##################\n",
    "\n",
    "    # PREPARE  (1/sqrt(2)) (|01> + |10>)\n",
    "    qml.Hadamard(0)\n",
    "    qml.PauliX(1)\n",
    "    qml.CNOT(wires=[0, 1])\n",
    "    return qml.state()\n",
    "\n",
    "\n",
    "@qml.qnode(dev)\n",
    "def prepare_phi_minus():\n",
    "    ##################\n",
    "    # YOUR CODE HERE #\n",
    "    ##################\n",
    "\n",
    "    # PREPARE  (1/sqrt(2)) (|01> - |10>)\n",
    "    qml.Hadamard(0)\n",
    "    qml.PauliX(1)\n",
    "    qml.PauliZ(0)    \n",
    "    qml.CNOT(wires=[0, 1])\n",
    "    return qml.state()\n",
    "\n",
    "\n",
    "psi_plus = prepare_psi_plus()\n",
    "psi_minus = prepare_psi_minus()\n",
    "phi_plus = prepare_phi_plus()\n",
    "phi_minus = prepare_phi_minus()\n",
    "\n",
    "# Uncomment to print results\n",
    "print(f\"|ψ_+> = {psi_plus}\")\n",
    "print(f\"|ψ_-> = {psi_minus}\")\n",
    "print(f\"|ϕ_+> = {phi_plus}\")\n",
    "print(f\"|ϕ_-> = {phi_minus}\")"
   ]
  },
  {
   "cell_type": "markdown",
   "id": "13103d11-9998-4575-a8b7-1fa7b56a2f38",
   "metadata": {},
   "source": [
    "### Codercise I.14.2 - Quantum Multiplexer\n",
    "\n",
    "In the **quantum multiplexer** operation, all $2^n$ possible cases of $n$ control qubits are implemented, and the target operation is a single-qubit rotation (a uniformly controlled rotation).\n",
    "\n",
    "**Task**: Implement a 3-qubit circuit that has the following performance:\n",
    "- If the first two qubits are both $|0\\rangle$, do nothing\n",
    "- If the first qubit is $|0\\rangle$ and the second is $|1\\rangle$, apply `PauliX()` to the third qubit\n",
    "- If the first qubit is $|1\\rangle$ and the second is $|0\\rangle$, apply `PauliZ()` to the third qubit\n",
    "- If the first two qubits are both $|1\\rangle$, apply `PauliY()` to the third qubit\n",
    "\n",
    "NOTE: No `if` statement!\n",
    "\n",
    "**Solution**:\n",
    "1. $|01\\rangle$: To distinguish '01' from '11', we create two Pauli-X operations: one to modify state to distinguish; one to return to the unmodified state. Between those state preparations, there is the Toffoli gate. The idea is that,\n",
    "    - if the first two qubits is '01', it is transformed into '11' temporarily to perform the required `PauliX()` operation.\n",
    "    - else if the first two qubits is '11', it still needs to undergo a transformation. In a transformed state, it cannot perform the required operation.\n",
    "\n",
    "    So, only if the first two qubits is '01', it can become '11' and hence, the operation. Any other states will not convert to '11' to make the operation.\n",
    "\n",
    "2. $|10\\rangle$: Once again, '10' is converted into '11' temporarily for the same reason. Any other states will not convert to '11' to make the operation. The Hadamard gate is applied to the target qubit to create a superposition. When this is combined with the Toffoli operation, the result is the Pauli-Z operation. After the `PauliZ()` equivalent operations, the states 'target superposition' and '11', are undone by adding another Hadamard and X gates.\n",
    "\n",
    "3. $|11\\rangle$: This time, we prepare only the target qubit. The target qubit is rotated around the Z-axis for $\\frac{\\pi}{2}$ radians as the S gate is applied. The purpose of the adjoint S gate to reverse the state preparation effect after the operation. The combined effect of the S and Toffoli gates is the required `PauliY()`."
   ]
  },
  {
   "cell_type": "code",
   "execution_count": 3,
   "id": "ed197780-b71f-4687-a982-a6c521a30096",
   "metadata": {},
   "outputs": [
    {
     "name": "stdout",
     "output_type": "stream",
     "text": [
      "[ 0.        +0.j  0.        +0.j -0.70710678+0.j  0.70710678+0.j\n",
      "  0.        +0.j  0.        +0.j  0.        +0.j  0.        +0.j]\n"
     ]
    }
   ],
   "source": [
    "dev = qml.device(\"default.qubit\", wires=3)\n",
    "\n",
    "# State of first 2 qubits\n",
    "state = [0, 1]\n",
    "\n",
    "\n",
    "@qml.qnode(device=dev)\n",
    "def apply_control_sequence(state):\n",
    "    # Set up initial state of the first two qubits\n",
    "    if state[0] == 1:\n",
    "        qml.PauliX(wires=0)\n",
    "    if state[1] == 1:\n",
    "        qml.PauliX(wires=1)\n",
    "\n",
    "    # Set up initial state of the third qubit - use |->\n",
    "    # so we can see the effect on the output\n",
    "    qml.PauliX(wires=2)\n",
    "    qml.Hadamard(wires=2)\n",
    "\n",
    "    ##################\n",
    "    # YOUR CODE HERE #\n",
    "    ##################\n",
    "\n",
    "    # IMPLEMENT THE MULTIPLEXER\n",
    "    # IF STATE OF FIRST TWO QUBITS IS 01, APPLY X TO THIRD QUBIT\n",
    "    qml.PauliX(0) # convert to 11 temporarily\n",
    "    qml.Toffoli(wires=[0, 1, 2])\n",
    "    qml.PauliX(0) # convert to 11 temporarily\n",
    "    # IF STATE OF FIRST TWO QUBITS IS 10, APPLY Z TO THIRD QUBIT\n",
    "    qml.PauliX(1) # convert to 11 temporarily\n",
    "    qml.Hadamard(2)\n",
    "    qml.Toffoli(wires=[0, 1, 2])\n",
    "    qml.Hadamard(2)\n",
    "    qml.PauliX(1) # convert to 11 temporarily\n",
    "    # IF STATE OF FIRST TWO QUBITS IS 11, APPLY Y TO THIRD QUBIT\n",
    "    qml.adjoint(qml.S)(2)\n",
    "    qml.Toffoli(wires=[0, 1, 2])\n",
    "    qml.S(2)\n",
    "    return qml.state()\n",
    "\n",
    "\n",
    "print(apply_control_sequence(state))"
   ]
  },
  {
   "cell_type": "markdown",
   "id": "d742aad8-e9d2-4109-851a-77264d16b854",
   "metadata": {},
   "source": [
    "This notebook is done by `Myanmar Youths` for `Womanium Quantum + AI 2024` program.\n",
    "- <a href=\"https://www.linkedin.com/in/la-wun-nannda-b047681b5/\"><u>La Wun Nannda</u></a>\n",
    "- <a href=\"https://www.linkedin.com/in/chit-zin-win-46a2a3263/\"><u>Chit Zin Win</u></a>"
   ]
  }
 ],
 "metadata": {
  "kernelspec": {
   "display_name": "Python 3 (ipykernel)",
   "language": "python",
   "name": "python3"
  },
  "language_info": {
   "codemirror_mode": {
    "name": "ipython",
    "version": 3
   },
   "file_extension": ".py",
   "mimetype": "text/x-python",
   "name": "python",
   "nbconvert_exporter": "python",
   "pygments_lexer": "ipython3",
   "version": "3.11.9"
  }
 },
 "nbformat": 4,
 "nbformat_minor": 5
}
