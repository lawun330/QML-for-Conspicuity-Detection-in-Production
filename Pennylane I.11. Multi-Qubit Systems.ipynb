{
 "cells": [
  {
   "cell_type": "markdown",
   "id": "32bb5ccb-c03a-475e-a786-d9767cd9dbf9",
   "metadata": {},
   "source": [
    "# Pennylane: I. Introduction to Quantum Computing\n",
    "## I.11. Multi-Qubit Systems"
   ]
  },
  {
   "cell_type": "code",
   "execution_count": 1,
   "id": "4e4548d7-7aa3-4a85-bff9-1c50b16e5531",
   "metadata": {},
   "outputs": [],
   "source": [
    "# preparation\n",
    "import numpy as np\n",
    "import pennylane as qml\n",
    "import pandas as pd\n",
    "import altair as alt"
   ]
  },
  {
   "cell_type": "markdown",
   "id": "dafd2aa4-f1d7-411a-9080-60584d81a6df",
   "metadata": {},
   "source": [
    "### Codercise I.11.1 - Preparing basis state\n",
    "\n",
    "In PennyLane, qubits are indexed numerically from left to right. The leftmost qubit is located at the top of the circuit. \n",
    "\n",
    "For $|1001\\rangle$, the first qubit '1' is represented by the index '0'. The whole quantum number (QNum) is equal to $|9\\rangle$.\n",
    "\n",
    "**Task**: Return the computational basis vector $|n\\rangle$ (3-qubit device) based on an integer input.\n",
    "\n",
    "**Solution**: \n",
    "- The function `np.binary_repr()` changes a base-10 integer to a binary number.\n",
    "    - '6' --> '110' \n",
    "- It takes two parameters; the integer to be transformed, and the number of digits in the binary number to fill 0s.\n",
    "    - '6' --> integer\n",
    "    - '110' --> binary number\n",
    "    - len('110') --> number of digits\n",
    "- We cannot represent the QNum if the number of wires is not enough, i.e., lower than the number of digits.\n",
    "    - '110' requires 3 wires or more\n",
    "- We can check each digit and apply the Pauli-X operation if the digit is '1'.\n",
    "    - Make |000> into |110> to represent '110', digit-by-digit"
   ]
  },
  {
   "cell_type": "code",
   "execution_count": 2,
   "id": "fcb5dd3a-9098-45ed-85d8-6b43339852b9",
   "metadata": {},
   "outputs": [
    {
     "name": "stdout",
     "output_type": "stream",
     "text": [
      "Output state = [0.+0.j 0.+0.j 0.+0.j 1.+0.j 0.+0.j 0.+0.j 0.+0.j 0.+0.j]\n"
     ]
    }
   ],
   "source": [
    "num_wires = 3\n",
    "dev = qml.device(\"default.qubit\", wires=num_wires)\n",
    "\n",
    "\n",
    "@qml.qnode(dev)\n",
    "def make_basis_state(basis_id):\n",
    "    \"\"\"Produce the 3-qubit basis state corresponding to |basis_id>.\n",
    "\n",
    "    Note that the system starts in |000>.\n",
    "\n",
    "    Args:\n",
    "        basis_id (int): An integer value identifying the basis state to construct.\n",
    "\n",
    "    Returns:\n",
    "        np.array[complex]: The computational basis state |basis_id>.\n",
    "    \"\"\"\n",
    "\n",
    "    ##################\n",
    "    # YOUR CODE HERE #\n",
    "    ##################\n",
    "\n",
    "    # CREATE THE BASIS STATE\n",
    "    binary_num = np.binary_repr(basis_id, num_wires) # fill 0s if necessary\n",
    "    if num_wires < len(binary_num): # 'not enough wire' case\n",
    "        return qml.state()\n",
    "    for i in range(len(binary_num)):\n",
    "        if binary_num[i] == '1': # for 1s in |___>\n",
    "            qml.PauliX(wires=i) # change |0> to |1>\n",
    "    return qml.state()\n",
    "\n",
    "\n",
    "basis_id = 3\n",
    "print(f\"Output state = {make_basis_state(basis_id)}\")"
   ]
  },
  {
   "cell_type": "markdown",
   "id": "6b1a70b2-e3b1-4571-bf36-cee6542fd5dd",
   "metadata": {},
   "source": [
    "### Codercise I.11.2 - Separable operations\n",
    "\n",
    "**Task**: Create the state $|+1\\rangle=|+\\rangle\\otimes|1\\rangle$. Evaluate:\n",
    "- the expectation value of Y\n",
    "- the expectation value of Z\n",
    "\n",
    "**Solution**: We have two qubits. We prepare one qubit to have the state $|+\\rangle$, using the Hadamard.\n",
    "The remaining qubit is changed into $|1\\rangle$ with the Pauli-X function. For expectation values, we can use `qml.expval()` with respective Pauli operations."
   ]
  },
  {
   "cell_type": "code",
   "execution_count": 3,
   "id": "da1ebaca-83b9-46fb-81bb-cd12d3f4fed1",
   "metadata": {},
   "outputs": [
    {
     "name": "stdout",
     "output_type": "stream",
     "text": [
      "(tensor(0., requires_grad=True), tensor(-1., requires_grad=True))\n"
     ]
    }
   ],
   "source": [
    "# Creates a device with *two* qubits\n",
    "dev = qml.device(\"default.qubit\", wires=2)\n",
    "\n",
    "\n",
    "@qml.qnode(dev)\n",
    "def two_qubit_circuit():\n",
    "    ##################\n",
    "    # YOUR CODE HERE #\n",
    "    ##################\n",
    "\n",
    "    # PREPARE |+>|1>\n",
    "    qml.Hadamard(0) # create |+>\n",
    "    qml.PauliX(1) # create |1>\n",
    "    # RETURN TWO EXPECTATION VALUES, Y ON FIRST QUBIT, Z ON SECOND QUBIT\n",
    "    return qml.expval(qml.PauliY(0)), qml.expval(qml.PauliZ(1))\n",
    "\n",
    "\n",
    "print(two_qubit_circuit())"
   ]
  },
  {
   "cell_type": "markdown",
   "id": "4904efaf-9f07-47d1-a31a-d050a499ece4",
   "metadata": {},
   "source": [
    "### Codercise I.11.3 - Expectation value of two-qubit observable\n",
    "\n",
    "**Task**: Create the state $|1-\\rangle=|1\\rangle\\otimes|-\\rangle$. Measure the expectation value of *two-qubit observable* $Z\\otimes X$.\n",
    "\n",
    "**Solution**: Tensor product is applied when the symbol `@` is used."
   ]
  },
  {
   "cell_type": "code",
   "execution_count": 4,
   "id": "5d4fdbd2-3a2f-4117-bd0e-36d46ad1c90b",
   "metadata": {},
   "outputs": [
    {
     "name": "stdout",
     "output_type": "stream",
     "text": [
      "0.9999999999999996\n"
     ]
    }
   ],
   "source": [
    "dev = qml.device(\"default.qubit\", wires=2)\n",
    "\n",
    "\n",
    "@qml.qnode(dev)\n",
    "def create_one_minus():\n",
    "    ##################\n",
    "    # YOUR CODE HERE #\n",
    "    ##################\n",
    "\n",
    "    # PREPARE |1>|->\n",
    "    qml.PauliX(0) # create |1>\n",
    "    qml.PauliX(1) # prepare |1> to create |->\n",
    "    qml.Hadamard(1) # create |->\n",
    "    # RETURN A SINGLE EXPECTATION VALUE Z \\otimes X\n",
    "    return qml.expval(qml.PauliZ(0) @ qml.PauliX(1))\n",
    "\n",
    "\n",
    "print(create_one_minus())"
   ]
  },
  {
   "cell_type": "markdown",
   "id": "fa0afad7-c1ff-4c84-b30f-705d59bdf3c9",
   "metadata": {},
   "source": [
    "### Plotting Function\n",
    "Before moving on, we need to implement the plotting function to use."
   ]
  },
  {
   "cell_type": "code",
   "execution_count": 5,
   "id": "cf3a4004-037f-49c7-9b1c-6f091de77108",
   "metadata": {},
   "outputs": [],
   "source": [
    "# define pennylane plotter function\n",
    "def plotter(theta, ZI_results, IZ_results, ZZ_results, combined_results):\n",
    "    \"\"\"Plot the value of the output\n",
    "\n",
    "    Args:\n",
    "        theta (np.array[float]): Angles for the x axis.\n",
    "        ZI_results (np.array[float]): ZI expectation values\n",
    "        IZ_results (np.array[float]): IZ expectation values\n",
    "        ZZ_results (np.array[float]): ZZ expectation values\n",
    "        combined_results (np.array[float]): users guess for how ZI and IZ results combine\n",
    "            to produce ZZ results.\n",
    "    \"\"\"\n",
    "\n",
    "    df = pd.DataFrame(\n",
    "        data=np.array([theta, ZI_results, IZ_results, ZZ_results, combined_results]).T,\n",
    "        columns=[\"theta\", \"ZI\", \"IZ\", \"ZZ\", \"Your guess ZZ\"],\n",
    "    )\n",
    "\n",
    "    plot = (\n",
    "        alt.Chart(df)\n",
    "        .transform_fold([\"ZI\", \"IZ\", \"ZZ\", \"Your guess ZZ\"], [\"observable\", \"expval\"])\n",
    "        .mark_line()\n",
    "        .encode(x=\"theta:Q\", y=\"expval:Q\", color=\"observable:N\")\n",
    "    )\n",
    "\n",
    "    return plot"
   ]
  },
  {
   "cell_type": "markdown",
   "id": "8d977df6-abbe-4116-b697-ff5b0ab7455b",
   "metadata": {},
   "source": [
    "### Codercise I.11.4 - Double Trouble\n",
    "\n",
    "**Task**: Implement the following circuit twice.\n",
    "1. First Version\n",
    "    - Measure the observables Z on the first qubit ($Z\\otimes I$).\n",
    "    - Measure Z on the second qubit ($I\\otimes Z$).\n",
    "2. Second Version\n",
    "    - Measure the observable $Z\\otimes Z$.\n",
    "\n",
    "<img height=\"40%\" width=\"40%\" src=\"https://assets.cloud.pennylane.ai/codebook/circuit_i-11-4.svg\"/>\n",
    "\n",
    "Plot the results as a function of $\\theta$ to test your hypothesis.\n",
    "\n",
    "**Solution**: Tensor product is applied when the symbol `@` is used. Identity portion of observables can be simplified. For instance, `qml.Identity(0) @ qml.PauliZ(1)` is reduced to `qml.PauliZ(1)`. The hypothesis is that the element-wise multiplication of $Z\\otimes I$ and $I\\otimes Z$ will give us $Z\\otimes Z$."
   ]
  },
  {
   "cell_type": "code",
   "execution_count": 6,
   "id": "8680d2a2-1191-49d4-856f-f3e64f290bca",
   "metadata": {},
   "outputs": [
    {
     "data": {
      "text/html": [
       "\n",
       "<style>\n",
       "  #altair-viz-ac0c753d94644f208d8cd3787ccb285b.vega-embed {\n",
       "    width: 100%;\n",
       "    display: flex;\n",
       "  }\n",
       "\n",
       "  #altair-viz-ac0c753d94644f208d8cd3787ccb285b.vega-embed details,\n",
       "  #altair-viz-ac0c753d94644f208d8cd3787ccb285b.vega-embed details summary {\n",
       "    position: relative;\n",
       "  }\n",
       "</style>\n",
       "<div id=\"altair-viz-ac0c753d94644f208d8cd3787ccb285b\"></div>\n",
       "<script type=\"text/javascript\">\n",
       "  var VEGA_DEBUG = (typeof VEGA_DEBUG == \"undefined\") ? {} : VEGA_DEBUG;\n",
       "  (function(spec, embedOpt){\n",
       "    let outputDiv = document.currentScript.previousElementSibling;\n",
       "    if (outputDiv.id !== \"altair-viz-ac0c753d94644f208d8cd3787ccb285b\") {\n",
       "      outputDiv = document.getElementById(\"altair-viz-ac0c753d94644f208d8cd3787ccb285b\");\n",
       "    }\n",
       "    const paths = {\n",
       "      \"vega\": \"https://cdn.jsdelivr.net/npm/vega@5?noext\",\n",
       "      \"vega-lib\": \"https://cdn.jsdelivr.net/npm/vega-lib?noext\",\n",
       "      \"vega-lite\": \"https://cdn.jsdelivr.net/npm/vega-lite@5.17.0?noext\",\n",
       "      \"vega-embed\": \"https://cdn.jsdelivr.net/npm/vega-embed@6?noext\",\n",
       "    };\n",
       "\n",
       "    function maybeLoadScript(lib, version) {\n",
       "      var key = `${lib.replace(\"-\", \"\")}_version`;\n",
       "      return (VEGA_DEBUG[key] == version) ?\n",
       "        Promise.resolve(paths[lib]) :\n",
       "        new Promise(function(resolve, reject) {\n",
       "          var s = document.createElement('script');\n",
       "          document.getElementsByTagName(\"head\")[0].appendChild(s);\n",
       "          s.async = true;\n",
       "          s.onload = () => {\n",
       "            VEGA_DEBUG[key] = version;\n",
       "            return resolve(paths[lib]);\n",
       "          };\n",
       "          s.onerror = () => reject(`Error loading script: ${paths[lib]}`);\n",
       "          s.src = paths[lib];\n",
       "        });\n",
       "    }\n",
       "\n",
       "    function showError(err) {\n",
       "      outputDiv.innerHTML = `<div class=\"error\" style=\"color:red;\">${err}</div>`;\n",
       "      throw err;\n",
       "    }\n",
       "\n",
       "    function displayChart(vegaEmbed) {\n",
       "      vegaEmbed(outputDiv, spec, embedOpt)\n",
       "        .catch(err => showError(`Javascript Error: ${err.message}<br>This usually means there's a typo in your chart specification. See the javascript console for the full traceback.`));\n",
       "    }\n",
       "\n",
       "    if(typeof define === \"function\" && define.amd) {\n",
       "      requirejs.config({paths});\n",
       "      require([\"vega-embed\"], displayChart, err => showError(`Error loading script: ${err.message}`));\n",
       "    } else {\n",
       "      maybeLoadScript(\"vega\", \"5\")\n",
       "        .then(() => maybeLoadScript(\"vega-lite\", \"5.17.0\"))\n",
       "        .then(() => maybeLoadScript(\"vega-embed\", \"6\"))\n",
       "        .catch(showError)\n",
       "        .then(() => displayChart(vegaEmbed));\n",
       "    }\n",
       "  })({\"config\": {\"view\": {\"continuousWidth\": 300, \"continuousHeight\": 300}}, \"data\": {\"name\": \"data-4723e4d161a67253abe4ede8ccccf34a\"}, \"mark\": {\"type\": \"line\"}, \"encoding\": {\"color\": {\"field\": \"observable\", \"type\": \"nominal\"}, \"x\": {\"field\": \"theta\", \"type\": \"quantitative\"}, \"y\": {\"field\": \"expval\", \"type\": \"quantitative\"}}, \"transform\": [{\"fold\": [\"ZI\", \"IZ\", \"ZZ\", \"Your guess ZZ\"], \"as\": [\"observable\", \"expval\"]}], \"$schema\": \"https://vega.github.io/schema/vega-lite/v5.17.0.json\", \"datasets\": {\"data-4723e4d161a67253abe4ede8ccccf34a\": [{\"theta\": 0.0, \"ZI\": 1.0, \"IZ\": 1.0, \"ZZ\": 1.0, \"Your guess ZZ\": 1.0}, {\"theta\": 0.06346651825433926, \"ZI\": 0.9979866764718844, \"IZ\": 0.9919548128307955, \"ZZ\": 0.9899576868672956, \"Your guess ZZ\": 0.9899576868672958}, {\"theta\": 0.12693303650867852, \"ZI\": 0.9919548128307957, \"IZ\": 0.9679487013963565, \"ZZ\": 0.9601613729234343, \"Your guess ZZ\": 0.9601613729234345}, {\"theta\": 0.1903995547630178, \"ZI\": 0.9819286972627068, \"IZ\": 0.9283679330160728, \"ZZ\": 0.911591115046944, \"Your guess ZZ\": 0.9115911150469442}, {\"theta\": 0.25386607301735703, \"ZI\": 0.9679487013963564, \"IZ\": 0.873849377069785, \"ZZ\": 0.8458413697507132, \"Your guess ZZ\": 0.8458413697507133}, {\"theta\": 0.3173325912716963, \"ZI\": 0.9500711177409453, \"IZ\": 0.8052702575310586, \"ZZ\": 0.7650640136560718, \"Your guess ZZ\": 0.7650640136560718}, {\"theta\": 0.3807991095260356, \"ZI\": 0.9283679330160726, \"IZ\": 0.7237340381050701, \"ZZ\": 0.6718914730089796, \"Your guess ZZ\": 0.6718914730089794}, {\"theta\": 0.4442656277803748, \"ZI\": 0.9029265382866212, \"IZ\": 0.6305526670845223, \"ZZ\": 0.5693427368980242, \"Your guess ZZ\": 0.5693427368980241}, {\"theta\": 0.5077321460347141, \"ZI\": 0.873849377069785, \"IZ\": 0.5272254676105024, \"ZZ\": 0.4607156464467636, \"Your guess ZZ\": 0.46071564644676366}, {\"theta\": 0.5711986642890533, \"ZI\": 0.8412535328311812, \"IZ\": 0.41541501300188655, \"ZZ\": 0.3494693472789481, \"Your guess ZZ\": 0.34946934727894813}, {\"theta\": 0.6346651825433925, \"ZI\": 0.8052702575310587, \"IZ\": 0.2969203753282751, \"ZZ\": 0.23910114710681865, \"Your guess ZZ\": 0.2391011471068187}, {\"theta\": 0.6981317007977318, \"ZI\": 0.766044443118978, \"IZ\": 0.17364817766693041, \"ZZ\": 0.13302222155948906, \"Your guess ZZ\": 0.13302222155948906}, {\"theta\": 0.7615982190520711, \"ZI\": 0.7237340381050701, \"IZ\": 0.04758191582374241, \"ZZ\": 0.03443665207989263, \"Your guess ZZ\": 0.034436652079892625}, {\"theta\": 0.8250647373064104, \"ZI\": 0.6785094115571323, \"IZ\": -0.07924995685678855, \"ZZ\": -0.05377184159282772, \"Your guess ZZ\": -0.053771841592827725}, {\"theta\": 0.8885312555607496, \"ZI\": 0.6305526670845224, \"IZ\": -0.2048066680651907, \"ZZ\": -0.12914139078520054, \"Your guess ZZ\": -0.12914139078520048}, {\"theta\": 0.9519977738150889, \"ZI\": 0.5800569095711983, \"IZ\": -0.3270679633174217, \"ZZ\": -0.1897180320216496, \"Your guess ZZ\": -0.1897180320216497}, {\"theta\": 1.0154642920694281, \"ZI\": 0.5272254676105024, \"IZ\": -0.4440666126057742, \"ZZ\": -0.23412322748129122, \"Your guess ZZ\": -0.2341232274812911}, {\"theta\": 1.0789308103237674, \"ZI\": 0.4722710747726827, \"IZ\": -0.5539200638661103, \"ZZ\": -0.2616004239002009, \"Your guess ZZ\": -0.26160042390020094}, {\"theta\": 1.1423973285781066, \"ZI\": 0.4154150130018863, \"IZ\": -0.654860733945285, \"ZZ\": -0.27203898030630547, \"Your guess ZZ\": -0.2720389803063054}, {\"theta\": 1.2058638468324459, \"ZI\": 0.35688622159187183, \"IZ\": -0.7452644496757547, \"ZZ\": -0.2659746135315258, \"Your guess ZZ\": -0.2659746135315258}, {\"theta\": 1.269330365086785, \"ZI\": 0.2969203753282751, \"IZ\": -0.8236765814298327, \"ZZ\": -0.24456635970725638, \"Your guess ZZ\": -0.24456635970725646}, {\"theta\": 1.3327968833411243, \"ZI\": 0.23575893550942728, \"IZ\": -0.8888354486549234, \"ZZ\": -0.20955089921792902, \"Your guess ZZ\": -0.20955089921792894}, {\"theta\": 1.3962634015954636, \"ZI\": 0.1736481776669303, \"IZ\": -0.9396926207859082, \"ZZ\": -0.16317591116653474, \"Your guess ZZ\": -0.16317591116653477}, {\"theta\": 1.4597299198498028, \"ZI\": 0.11083819990101107, \"IZ\": -0.9754297868854069, \"ZZ\": -0.10811488170820538, \"Your guess ZZ\": -0.10811488170820537}, {\"theta\": 1.5231964381041423, \"ZI\": 0.04758191582374238, \"IZ\": -0.9954719225730847, \"ZZ\": -0.047366461224771395, \"Your guess ZZ\": -0.04736646122477151}, {\"theta\": 1.5866629563584815, \"ZI\": -0.015865963834808094, \"IZ\": -0.9994965423831853, \"ZZ\": 0.015857975994467366, \"Your guess ZZ\": 0.015857975994467356}, {\"theta\": 1.6501294746128208, \"ZI\": -0.0792499568567886, \"IZ\": -0.9874388886763945, \"ZZ\": 0.07825448932631951, \"Your guess ZZ\": 0.07825448932631954}, {\"theta\": 1.71359599286716, \"ZI\": -0.14231483827328534, \"IZ\": -0.9594929736144973, \"ZZ\": 0.1365500873643008, \"Your guess ZZ\": 0.13655008736430083}, {\"theta\": 1.7770625111214993, \"ZI\": -0.20480666806519066, \"IZ\": -0.9161084574320696, \"ZZ\": 0.18762512075300375, \"Your guess ZZ\": 0.18762512075300372}, {\"theta\": 1.8405290293758385, \"ZI\": -0.26647381369003503, \"IZ\": -0.8579834132349768, \"ZZ\": 0.22863011220751756, \"Your guess ZZ\": 0.22863011220751756}, {\"theta\": 1.9039955476301778, \"ZI\": -0.3270679633174217, \"IZ\": -0.7860530947427873, \"ZZ\": 0.2570927847568798, \"Your guess ZZ\": 0.25709278475687974}, {\"theta\": 1.967462065884517, \"ZI\": -0.3863451256931286, \"IZ\": -0.7014748877063212, \"ZZ\": 0.27101140366147203, \"Your guess ZZ\": 0.2710114036614719}, {\"theta\": 2.0309285841388562, \"ZI\": -0.44406661260577407, \"IZ\": -0.6056096871376666, \"ZZ\": 0.2689310423284663, \"Your guess ZZ\": 0.2689310423284662}, {\"theta\": 2.0943951023931957, \"ZI\": -0.5000000000000002, \"IZ\": -0.49999999999999967, \"ZZ\": 0.25, \"Your guess ZZ\": 0.24999999999999994}, {\"theta\": 2.1578616206475347, \"ZI\": -0.5539200638661104, \"IZ\": -0.38634512569312873, \"ZZ\": 0.21400431669829828, \"Your guess ZZ\": 0.2140043166982983}, {\"theta\": 2.221328138901874, \"ZI\": -0.6056096871376668, \"IZ\": -0.26647381369003453, \"ZZ\": 0.16137912293920276, \"Your guess ZZ\": 0.16137912293920273}, {\"theta\": 2.284794657156213, \"ZI\": -0.654860733945285, \"IZ\": -0.14231483827328523, \"ZZ\": 0.09319639944294805, \"Your guess ZZ\": 0.0931963994429481}, {\"theta\": 2.3482611754105527, \"ZI\": -0.7014748877063215, \"IZ\": -0.015865963834807484, \"ZZ\": 0.011129575199374131, \"Your guess ZZ\": 0.011129575199374138}, {\"theta\": 2.4117276936648917, \"ZI\": -0.7452644496757546, \"IZ\": 0.11083819990101096, \"ZZ\": -0.08260377005227815, \"Your guess ZZ\": -0.0826037700522782}, {\"theta\": 2.475194211919231, \"ZI\": -0.7860530947427874, \"IZ\": 0.23575893550942723, \"ZZ\": -0.18531904087045065, \"Your guess ZZ\": -0.1853190408704505}, {\"theta\": 2.53866073017357, \"ZI\": -0.8236765814298328, \"IZ\": 0.3568862215918716, \"ZZ\": -0.29395882296020265, \"Your guess ZZ\": -0.2939588229602026}, {\"theta\": 2.6021272484279097, \"ZI\": -0.8579834132349771, \"IZ\": 0.4722710747726828, \"ZZ\": -0.4052007487056175, \"Your guess ZZ\": -0.40520074870561745}, {\"theta\": 2.6655937666822487, \"ZI\": -0.8888354486549233, \"IZ\": 0.5800569095711978, \"ZZ\": -0.515575143464104, \"Your guess ZZ\": -0.5155751434641038}, {\"theta\": 2.729060284936588, \"ZI\": -0.9161084574320695, \"IZ\": 0.6785094115571322, \"ZZ\": -0.6215882103747457, \"Your guess ZZ\": -0.6215882103747455}, {\"theta\": 2.792526803190927, \"ZI\": -0.9396926207859083, \"IZ\": 0.7660444431189778, \"ZZ\": -0.7198463103929539, \"Your guess ZZ\": -0.7198463103929539}, {\"theta\": 2.8559933214452666, \"ZI\": -0.9594929736144973, \"IZ\": 0.841253532831181, \"ZZ\": -0.8071768537798911, \"Your guess ZZ\": -0.8071768537798909}, {\"theta\": 2.9194598396996057, \"ZI\": -0.9754297868854072, \"IZ\": 0.9029265382866212, \"ZZ\": -0.8807414408140972, \"Your guess ZZ\": -0.8807414408140973}, {\"theta\": 2.982926357953945, \"ZI\": -0.9874388886763942, \"IZ\": 0.9500711177409453, \"ZZ\": -0.9381371686656588, \"Your guess ZZ\": -0.9381371686656587}, {\"theta\": 3.0463928762082846, \"ZI\": -0.9954719225730845, \"IZ\": 0.9819286972627067, \"ZZ\": -0.977482448093791, \"Your guess ZZ\": -0.9774824480937909}, {\"theta\": 3.1098593944626236, \"ZI\": -0.9994965423831852, \"IZ\": 0.9979866764718844, \"ZZ\": -0.9974842324781349, \"Your guess ZZ\": -0.997484232478135}, {\"theta\": 3.173325912716963, \"ZI\": -0.9994965423831852, \"IZ\": 0.9979866764718844, \"ZZ\": -0.9974842324781349, \"Your guess ZZ\": -0.997484232478135}, {\"theta\": 3.236792430971302, \"ZI\": -0.9954719225730846, \"IZ\": 0.9819286972627066, \"ZZ\": -0.9774824480937909, \"Your guess ZZ\": -0.9774824480937909}, {\"theta\": 3.3002589492256416, \"ZI\": -0.9874388886763943, \"IZ\": 0.9500711177409452, \"ZZ\": -0.9381371686656587, \"Your guess ZZ\": -0.9381371686656587}, {\"theta\": 3.3637254674799806, \"ZI\": -0.9754297868854072, \"IZ\": 0.9029265382866213, \"ZZ\": -0.8807414408140973, \"Your guess ZZ\": -0.8807414408140974}, {\"theta\": 3.42719198573432, \"ZI\": -0.9594929736144973, \"IZ\": 0.841253532831181, \"ZZ\": -0.8071768537798911, \"Your guess ZZ\": -0.8071768537798909}, {\"theta\": 3.490658503988659, \"ZI\": -0.9396926207859084, \"IZ\": 0.7660444431189781, \"ZZ\": -0.7198463103929542, \"Your guess ZZ\": -0.7198463103929543}, {\"theta\": 3.5541250222429985, \"ZI\": -0.9161084574320695, \"IZ\": 0.678509411557132, \"ZZ\": -0.6215882103747454, \"Your guess ZZ\": -0.6215882103747453}, {\"theta\": 3.6175915404973376, \"ZI\": -0.8888354486549233, \"IZ\": 0.5800569095711983, \"ZZ\": -0.5155751434641045, \"Your guess ZZ\": -0.5155751434641043}, {\"theta\": 3.681058058751677, \"ZI\": -0.8579834132349771, \"IZ\": 0.4722710747726826, \"ZZ\": -0.4052007487056173, \"Your guess ZZ\": -0.4052007487056173}, {\"theta\": 3.744524577006016, \"ZI\": -0.8236765814298326, \"IZ\": 0.35688622159187205, \"ZZ\": -0.29395882296020287, \"Your guess ZZ\": -0.29395882296020287}, {\"theta\": 3.8079910952603555, \"ZI\": -0.7860530947427873, \"IZ\": 0.235758935509427, \"ZZ\": -0.18531904087045042, \"Your guess ZZ\": -0.1853190408704503}, {\"theta\": 3.8714576135146945, \"ZI\": -0.7452644496757549, \"IZ\": 0.11083819990101124, \"ZZ\": -0.08260377005227842, \"Your guess ZZ\": -0.08260377005227845}, {\"theta\": 3.934924131769034, \"ZI\": -0.7014748877063213, \"IZ\": -0.015865963834807983, \"ZZ\": 0.01112957519937452, \"Your guess ZZ\": 0.011129575199374485}, {\"theta\": 3.998390650023373, \"ZI\": -0.6548607339452852, \"IZ\": -0.14231483827328467, \"ZZ\": 0.09319639944294783, \"Your guess ZZ\": 0.09319639944294776}, {\"theta\": 4.0618571682777125, \"ZI\": -0.6056096871376666, \"IZ\": -0.2664738136900351, \"ZZ\": 0.16137912293920298, \"Your guess ZZ\": 0.161379122939203}, {\"theta\": 4.1253236865320515, \"ZI\": -0.5539200638661104, \"IZ\": -0.3863451256931282, \"ZZ\": 0.21400431669829795, \"Your guess ZZ\": 0.214004316698298}, {\"theta\": 4.188790204786391, \"ZI\": -0.4999999999999998, \"IZ\": -0.5000000000000008, \"ZZ\": 0.2500000000000002, \"Your guess ZZ\": 0.2500000000000003}, {\"theta\": 4.25225672304073, \"ZI\": -0.4440666126057739, \"IZ\": -0.6056096871376668, \"ZZ\": 0.2689310423284663, \"Your guess ZZ\": 0.2689310423284662}, {\"theta\": 4.3157232412950695, \"ZI\": -0.3863451256931286, \"IZ\": -0.7014748877063212, \"ZZ\": 0.27101140366147203, \"Your guess ZZ\": 0.2710114036614719}, {\"theta\": 4.3791897595494085, \"ZI\": -0.32706796331742183, \"IZ\": -0.786053094742787, \"ZZ\": 0.2570927847568797, \"Your guess ZZ\": 0.25709278475687974}, {\"theta\": 4.442656277803748, \"ZI\": -0.26647381369003453, \"IZ\": -0.8579834132349774, \"ZZ\": 0.22863011220751728, \"Your guess ZZ\": 0.22863011220751728}, {\"theta\": 4.506122796058087, \"ZI\": -0.20480666806519054, \"IZ\": -0.9161084574320696, \"ZZ\": 0.18762512075300364, \"Your guess ZZ\": 0.1876251207530036}, {\"theta\": 4.569589314312426, \"ZI\": -0.14231483827328534, \"IZ\": -0.9594929736144973, \"ZZ\": 0.1365500873643008, \"Your guess ZZ\": 0.13655008736430083}, {\"theta\": 4.6330558325667655, \"ZI\": -0.07924995685678876, \"IZ\": -0.9874388886763943, \"ZZ\": 0.07825448932631968, \"Your guess ZZ\": 0.07825448932631969}, {\"theta\": 4.696522350821105, \"ZI\": -0.015865963834807595, \"IZ\": -0.9994965423831852, \"ZZ\": 0.015857975994466866, \"Your guess ZZ\": 0.015857975994466852}, {\"theta\": 4.759988869075444, \"ZI\": 0.04758191582374255, \"IZ\": -0.9954719225730846, \"ZZ\": -0.04736646122477156, \"Your guess ZZ\": -0.04736646122477167}, {\"theta\": 4.823455387329783, \"ZI\": 0.11083819990101107, \"IZ\": -0.9754297868854069, \"ZZ\": -0.10811488170820538, \"Your guess ZZ\": -0.10811488170820537}, {\"theta\": 4.886921905584122, \"ZI\": 0.17364817766692991, \"IZ\": -0.9396926207859086, \"ZZ\": -0.16317591116653457, \"Your guess ZZ\": -0.16317591116653446}, {\"theta\": 4.950388423838462, \"ZI\": 0.23575893550942728, \"IZ\": -0.8888354486549234, \"ZZ\": -0.20955089921792902, \"Your guess ZZ\": -0.20955089921792894}, {\"theta\": 5.013854942092801, \"ZI\": 0.2969203753282751, \"IZ\": -0.8236765814298327, \"ZZ\": -0.24456635970725638, \"Your guess ZZ\": -0.24456635970725646}, {\"theta\": 5.07732146034714, \"ZI\": 0.3568862215918716, \"IZ\": -0.745264449675755, \"ZZ\": -0.2659746135315258, \"Your guess ZZ\": -0.26597461353152574}, {\"theta\": 5.14078797860148, \"ZI\": 0.41541501300188666, \"IZ\": -0.6548607339452844, \"ZZ\": -0.27203898030630536, \"Your guess ZZ\": -0.27203898030630536}, {\"theta\": 5.204254496855819, \"ZI\": 0.47227107477268293, \"IZ\": -0.55392006386611, \"ZZ\": -0.2616004239002009, \"Your guess ZZ\": -0.26160042390020094}, {\"theta\": 5.267721015110158, \"ZI\": 0.5272254676105024, \"IZ\": -0.4440666126057742, \"ZZ\": -0.23412322748129122, \"Your guess ZZ\": -0.2341232274812911}, {\"theta\": 5.331187533364497, \"ZI\": 0.5800569095711979, \"IZ\": -0.32706796331742205, \"ZZ\": -0.18971803202164975, \"Your guess ZZ\": -0.18971803202164977}, {\"theta\": 5.394654051618837, \"ZI\": 0.6305526670845228, \"IZ\": -0.20480666806518988, \"ZZ\": -0.1291413907852, \"Your guess ZZ\": -0.12914139078520004}, {\"theta\": 5.458120569873176, \"ZI\": 0.6785094115571322, \"IZ\": -0.07924995685678798, \"ZZ\": -0.05377184159282726, \"Your guess ZZ\": -0.05377184159282733}, {\"theta\": 5.521587088127515, \"ZI\": 0.72373403810507, \"IZ\": 0.047581915823742243, \"ZZ\": 0.034436652079892466, \"Your guess ZZ\": 0.0344366520798925}, {\"theta\": 5.585053606381854, \"ZI\": 0.7660444431189777, \"IZ\": 0.1736481776669296, \"ZZ\": 0.13302222155948842, \"Your guess ZZ\": 0.1330222215594884}, {\"theta\": 5.648520124636194, \"ZI\": 0.8052702575310587, \"IZ\": 0.2969203753282756, \"ZZ\": 0.23910114710681912, \"Your guess ZZ\": 0.2391011471068191}, {\"theta\": 5.711986642890533, \"ZI\": 0.8412535328311811, \"IZ\": 0.41541501300188666, \"ZZ\": 0.3494693472789482, \"Your guess ZZ\": 0.3494693472789482}, {\"theta\": 5.775453161144872, \"ZI\": 0.8738493770697847, \"IZ\": 0.5272254676105022, \"ZZ\": 0.4607156464467633, \"Your guess ZZ\": 0.46071564644676327}, {\"theta\": 5.838919679399211, \"ZI\": 0.9029265382866211, \"IZ\": 0.630552667084522, \"ZZ\": 0.5693427368980236, \"Your guess ZZ\": 0.5693427368980236}, {\"theta\": 5.902386197653551, \"ZI\": 0.9283679330160725, \"IZ\": 0.7237340381050704, \"ZZ\": 0.6718914730089799, \"Your guess ZZ\": 0.6718914730089797}, {\"theta\": 5.96585271590789, \"ZI\": 0.9500711177409453, \"IZ\": 0.8052702575310586, \"ZZ\": 0.7650640136560718, \"Your guess ZZ\": 0.7650640136560718}, {\"theta\": 6.029319234162229, \"ZI\": 0.9679487013963565, \"IZ\": 0.8738493770697849, \"ZZ\": 0.8458413697507131, \"Your guess ZZ\": 0.8458413697507133}, {\"theta\": 6.092785752416569, \"ZI\": 0.9819286972627069, \"IZ\": 0.9283679330160731, \"ZZ\": 0.9115911150469443, \"Your guess ZZ\": 0.9115911150469447}, {\"theta\": 6.156252270670908, \"ZI\": 0.9919548128307956, \"IZ\": 0.9679487013963566, \"ZZ\": 0.9601613729234344, \"Your guess ZZ\": 0.9601613729234345}, {\"theta\": 6.219718788925247, \"ZI\": 0.9979866764718844, \"IZ\": 0.9919548128307955, \"ZZ\": 0.9899576868672956, \"Your guess ZZ\": 0.9899576868672958}, {\"theta\": 6.283185307179586, \"ZI\": 1.0, \"IZ\": 1.0, \"ZZ\": 1.0, \"Your guess ZZ\": 1.0}]}}, {\"mode\": \"vega-lite\"});\n",
       "</script>"
      ],
      "text/plain": [
       "alt.Chart(...)"
      ]
     },
     "execution_count": 6,
     "metadata": {},
     "output_type": "execute_result"
    }
   ],
   "source": [
    "dev = qml.device(\"default.qubit\", wires=2)\n",
    "\n",
    "\n",
    "@qml.qnode(dev)\n",
    "def circuit_1(theta):\n",
    "    \"\"\"Implement the circuit and measure Z I and I Z.\n",
    "\n",
    "    Args:\n",
    "        theta (float): a rotation angle.\n",
    "\n",
    "    Returns:\n",
    "        float, float: The expectation values of the observables Z I, and I Z\n",
    "    \"\"\"\n",
    "    ##################\n",
    "    # YOUR CODE HERE #\n",
    "    ##################\n",
    "\n",
    "    qml.RX(theta, wires=0)\n",
    "    qml.RY(2*theta, wires=1)\n",
    "    \n",
    "    return qml.expval(qml.PauliZ(0) @ qml.Identity(1)), qml.expval(qml.Identity(0) @ qml.PauliZ(1))\n",
    "\n",
    "\n",
    "@qml.qnode(dev)\n",
    "def circuit_2(theta):\n",
    "    \"\"\"Implement the circuit and measure Z Z.\n",
    "\n",
    "    Args:\n",
    "        theta (float): a rotation angle.\n",
    "\n",
    "    Returns:\n",
    "        float: The expectation value of the observable Z Z\n",
    "    \"\"\"\n",
    "\n",
    "    ##################\n",
    "    # YOUR CODE HERE #\n",
    "    ##################\n",
    "\n",
    "    qml.RX(theta, wires=0)\n",
    "    qml.RY(2*theta, wires=1)\n",
    "\n",
    "    return qml.expval(qml.PauliZ(0) @ qml.PauliZ(1))\n",
    "\n",
    "\n",
    "def zi_iz_combination(ZI_results, IZ_results):\n",
    "    \"\"\"Implement a function that acts on the ZI and IZ results to\n",
    "    produce the ZZ results. How do you think they should combine?\n",
    "\n",
    "    Args:\n",
    "        ZI_results (np.array[float]): Results from the expectation value of\n",
    "            ZI in circuit_1.\n",
    "        IZ_results (np.array[float]): Results from the expectation value of\n",
    "            IZ in circuit_2.\n",
    "\n",
    "    Returns:\n",
    "        np.array[float]: A combination of ZI_results and IZ_results that\n",
    "        produces results equivalent to measuring ZZ.\n",
    "    \"\"\"\n",
    "\n",
    "    combined_results = np.zeros(len(ZI_results))\n",
    "\n",
    "    ##################\n",
    "    # YOUR CODE HERE #\n",
    "    ##################\n",
    "\n",
    "    combined_results = np.multiply(ZI_results, IZ_results)\n",
    "    return combined_results\n",
    "\n",
    "\n",
    "theta = np.linspace(0, 2 * np.pi, 100)\n",
    "\n",
    "# Run circuit 1, and process the results\n",
    "circuit_1_results = np.array([circuit_1(t) for t in theta])\n",
    "\n",
    "ZI_results = circuit_1_results[:, 0]\n",
    "IZ_results = circuit_1_results[:, 1]\n",
    "combined_results = zi_iz_combination(ZI_results, IZ_results)\n",
    "\n",
    "# Run circuit 2\n",
    "ZZ_results = np.array([circuit_2(t) for t in theta])\n",
    "\n",
    "# Plot your results\n",
    "plot = plotter(theta, ZI_results, IZ_results, ZZ_results, combined_results)\n",
    "plot"
   ]
  },
  {
   "cell_type": "markdown",
   "id": "bbbcfc2c-b4b1-41f5-a705-8b522a3fac33",
   "metadata": {},
   "source": [
    "This notebook is done by `Myanmar Youths` for `Womanium Quantum + AI 2024` program.\n",
    "- <a href=\"https://www.linkedin.com/in/la-wun-nannda-b047681b5/\"><u>La Wun Nannda</u></a>\n",
    "- <a href=\"https://www.linkedin.com/in/chit-zin-win-46a2a3263/\"><u>Chit Zin Win</u></a>"
   ]
  }
 ],
 "metadata": {
  "kernelspec": {
   "display_name": "Python 3 (ipykernel)",
   "language": "python",
   "name": "python3"
  },
  "language_info": {
   "codemirror_mode": {
    "name": "ipython",
    "version": 3
   },
   "file_extension": ".py",
   "mimetype": "text/x-python",
   "name": "python",
   "nbconvert_exporter": "python",
   "pygments_lexer": "ipython3",
   "version": "3.11.9"
  }
 },
 "nbformat": 4,
 "nbformat_minor": 5
}
