{
 "cells": [
  {
   "cell_type": "markdown",
   "id": "8e925fab-62a6-4c8b-88b2-59c380c6d614",
   "metadata": {},
   "source": [
    "# Pennylane: I. Introduction to Quantum Computing\n",
    "## I.12. All Tied Up"
   ]
  },
  {
   "cell_type": "code",
   "execution_count": 1,
   "id": "262240ca-644d-470d-8116-c091f1972089",
   "metadata": {},
   "outputs": [],
   "source": [
    "# preparation\n",
    "import numpy as np\n",
    "import pennylane as qml"
   ]
  },
  {
   "cell_type": "markdown",
   "id": "43782b03-e373-4573-af64-1a2bb741df84",
   "metadata": {},
   "source": [
    "### Codercise I.12.1 - Entangling Operations\n",
    "\n",
    "**Task**: Create a circuit that implements a CNOT gate. Test it out on four computational basis states. Express the answer in a dictionary that takes the form of a *truth table*.\n",
    "\n",
    "**Solution**: Using `qml.CNOT(wires=[control, target]`, we can create the CX gate."
   ]
  },
  {
   "cell_type": "code",
   "execution_count": 2,
   "id": "f73eb548-e0d4-4eb6-90dc-3fb5f81dfe6c",
   "metadata": {},
   "outputs": [
    {
     "name": "stdout",
     "output_type": "stream",
     "text": [
      "[1.+0.j 0.+0.j 0.+0.j 0.+0.j]\n",
      "[0.+0.j 1.+0.j 0.+0.j 0.+0.j]\n",
      "[0.+0.j 0.+0.j 0.+0.j 1.+0.j]\n",
      "[0.+0.j 0.+0.j 1.+0.j 0.+0.j]\n"
     ]
    }
   ],
   "source": [
    "num_wires = 2\n",
    "dev = qml.device(\"default.qubit\", wires=num_wires)\n",
    "\n",
    "\n",
    "@qml.qnode(dev)\n",
    "def apply_cnot(basis_id):\n",
    "    \"\"\"Apply a CNOT to |basis_id>.\n",
    "\n",
    "    Args:\n",
    "        basis_id (int): An integer value identifying the basis state to construct.\n",
    "\n",
    "    Returns:\n",
    "        np.array[complex]: The resulting state after applying CNOT|basis_id>.\n",
    "    \"\"\"\n",
    "\n",
    "    # Prepare the basis state |basis_id>\n",
    "    bits = [int(x) for x in np.binary_repr(basis_id, width=num_wires)]\n",
    "    qml.BasisStatePreparation(bits, wires=[0, 1])\n",
    "\n",
    "    ##################\n",
    "    # YOUR CODE HERE #\n",
    "    ##################\n",
    "\n",
    "    # APPLY THE CNOT\n",
    "    qml.CNOT(wires=[0, 1]) # control is index 0 # target is index 1\n",
    "    return qml.state()\n",
    "\n",
    "\n",
    "##################\n",
    "# YOUR CODE HERE #\n",
    "##################\n",
    "\n",
    "# REPLACE THE BIT STRINGS VALUES BELOW WITH THE CORRECT ONES\n",
    "cnot_truth_table = {\"00\": \"00\", \"01\": \"01\", \"10\": \"11\", \"11\": \"10\"}\n",
    "\n",
    "\n",
    "# Run your QNode with various inputs to help fill in your truth table\n",
    "print(apply_cnot(0))\n",
    "print(apply_cnot(1))\n",
    "print(apply_cnot(2))\n",
    "print(apply_cnot(3))"
   ]
  },
  {
   "attachments": {},
   "cell_type": "markdown",
   "id": "f21e0902-08a4-42c5-92a5-c3b775c97bd8",
   "metadata": {},
   "source": [
    "### Codercise I.12.2 - Separable or entangled?\n",
    "\n",
    "**Task**: Implement the circuit. Why is this state entangled?\n",
    "\n",
    "<img height=\"25%\" width=\"25%\" src=\"https://assets.cloud.pennylane.ai/codebook/bell_normal.svg\"/>\n",
    "\n",
    "**Solution**: The above circuit represent a special state called a *Bell state* which has maximum entanglement. It is $$\\frac{1}{\\sqrt{2}}(|00\\rangle+|11\\rangle)$$"
   ]
  },
  {
   "cell_type": "code",
   "execution_count": 3,
   "id": "4e181317-d21a-49b3-a937-31f75e271a48",
   "metadata": {},
   "outputs": [
    {
     "name": "stdout",
     "output_type": "stream",
     "text": [
      "[0.70710678+0.j 0.        +0.j 0.        +0.j 0.70710678+0.j]\n"
     ]
    }
   ],
   "source": [
    "dev = qml.device(\"default.qubit\", wires=2)\n",
    "\n",
    "\n",
    "@qml.qnode(dev)\n",
    "def apply_h_cnot():\n",
    "    ##################\n",
    "    # YOUR CODE HERE #\n",
    "    ##################\n",
    "\n",
    "    # APPLY THE OPERATIONS IN THE CIRCUIT\n",
    "    qml.Hadamard(wires=0)\n",
    "    qml.CNOT(wires=[0, 1]) # control: [0] # target: [1]\n",
    "    return qml.state()\n",
    "\n",
    "\n",
    "print(apply_h_cnot())\n",
    "\n",
    "##################\n",
    "# YOUR CODE HERE #\n",
    "##################\n",
    "\n",
    "# SET THIS AS 'separable' OR 'entangled' BASED ON YOUR OUTCOME\n",
    "state_status = \"entangled\""
   ]
  },
  {
   "cell_type": "markdown",
   "id": "af48ad57-bdfa-40e8-9253-df42adae5bac",
   "metadata": {},
   "source": [
    "### Codercise I.12.3 - Controlled rotations\n",
    "\n",
    "In PennyLane, there are common controlled rotations: `qml.CRX()`, `qml.CRY()`, and `qml.CRZ()`. They take two parameters; angle of rotation (in radians), and wires.\n",
    "\n",
    "**Task**: Implement the following circuit. Return the measurement outcome probabilities.\n",
    "\n",
    "<img height=\"40%\" width=\"40%\" src=\"https://assets.cloud.pennylane.ai/codebook/circuit_i-12-3.svg\"/>\n",
    "\n",
    "**Solution**: It is a simple implementation."
   ]
  },
  {
   "cell_type": "code",
   "execution_count": 4,
   "id": "68ed55e1-c7c5-475d-8da0-76836e1dfbfa",
   "metadata": {},
   "outputs": [
    {
     "name": "stdout",
     "output_type": "stream",
     "text": [
      "[5.00000000e-01 0.00000000e+00 0.00000000e+00 0.00000000e+00\n",
      " 4.98751041e-01 0.00000000e+00 1.23651067e-03 1.24480103e-05]\n"
     ]
    }
   ],
   "source": [
    "dev = qml.device(\"default.qubit\", wires=3)\n",
    "\n",
    "\n",
    "@qml.qnode(dev)\n",
    "def controlled_rotations(theta, phi, omega):\n",
    "    \"\"\"Implement the circuit above and return measurement outcome probabilities.\n",
    "\n",
    "    Args:\n",
    "        theta (float): A rotation angle\n",
    "        phi (float): A rotation angle\n",
    "        omega (float): A rotation angle\n",
    "\n",
    "    Returns:\n",
    "        np.array[float]: Measurement outcome probabilities of the 3-qubit\n",
    "        computational basis states.\n",
    "    \"\"\"\n",
    "\n",
    "    ##################\n",
    "    # YOUR CODE HERE #\n",
    "    ##################\n",
    "\n",
    "    # APPLY THE OPERATIONS IN THE CIRCUIT AND RETURN MEASUREMENT PROBABILITIES\n",
    "    qml.Hadamard(0)\n",
    "    qml.CRX(theta, wires=[0, 1]) # control, target\n",
    "    qml.CRY(phi, wires=[1, 2]) # control, target\n",
    "    qml.CRZ(omega, wires=[2, 0]) # control, target\n",
    "    return qml.probs()\n",
    "\n",
    "\n",
    "theta, phi, omega = 0.1, 0.2, 0.3\n",
    "print(controlled_rotations(theta, phi, omega))"
   ]
  },
  {
   "cell_type": "markdown",
   "id": "ce263773-0007-4ede-97b9-a71d287ae699",
   "metadata": {},
   "source": [
    "This notebook is done by `Myanmar Youths` for `Womanium Quantum + AI 2024` program.\n",
    "- <a href=\"https://www.linkedin.com/in/la-wun-nannda-b047681b5/\"><u>La Wun Nannda</u></a>\n",
    "- <a href=\"https://www.linkedin.com/in/chit-zin-win-46a2a3263/\"><u>Chit Zin Win</u></a>"
   ]
  }
 ],
 "metadata": {
  "kernelspec": {
   "display_name": "Python 3 (ipykernel)",
   "language": "python",
   "name": "python3"
  },
  "language_info": {
   "codemirror_mode": {
    "name": "ipython",
    "version": 3
   },
   "file_extension": ".py",
   "mimetype": "text/x-python",
   "name": "python",
   "nbconvert_exporter": "python",
   "pygments_lexer": "ipython3",
   "version": "3.11.9"
  }
 },
 "nbformat": 4,
 "nbformat_minor": 5
}
