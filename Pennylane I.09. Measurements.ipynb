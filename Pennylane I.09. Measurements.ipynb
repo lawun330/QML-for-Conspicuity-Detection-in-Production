{
 "cells": [
  {
   "cell_type": "markdown",
   "id": "92cdab97-e084-44f5-a740-e9c23833bd0f",
   "metadata": {},
   "source": [
    "# Pennylane: I. Introduction to Quantum Computing\n",
    "## I.9. Measurements"
   ]
  },
  {
   "cell_type": "code",
   "execution_count": 1,
   "id": "8a339928-a4ac-4163-ada8-9c28b7428645",
   "metadata": {},
   "outputs": [],
   "source": [
    "# preparation\n",
    "import numpy as np\n",
    "import pennylane as qml"
   ]
  },
  {
   "cell_type": "markdown",
   "id": "bc3f517c-dc7b-4ea9-947c-dbfd2b368d18",
   "metadata": {},
   "source": [
    "### Codercise I.9.1 - Measuring a superposition\n",
    "\n",
    "Outcome probabilities can be returned directly in PennyLane with `qml.probs()` function that takes *wires* as an argument.\n",
    "\n",
    "**Task**: Apply a Hadamard gate to the state $|0\\rangle$ or $|1\\rangle$. Measure outcome probabilities.\n",
    "\n",
    "**Solution**: We need to apply the new function."
   ]
  },
  {
   "cell_type": "code",
   "execution_count": 2,
   "id": "6a1f1d79-a5c7-4609-b00f-fdc3f58738ef",
   "metadata": {},
   "outputs": [
    {
     "name": "stdout",
     "output_type": "stream",
     "text": [
      "[0.5 0.5]\n",
      "[0.5 0.5]\n"
     ]
    }
   ],
   "source": [
    "dev = qml.device(\"default.qubit\", wires=1)\n",
    "\n",
    "\n",
    "@qml.qnode(dev)\n",
    "def apply_h_and_measure(state):\n",
    "    \"\"\"Complete the function such that we apply the Hadamard gate\n",
    "    and measure in the computational basis.\n",
    "\n",
    "    Args:\n",
    "        state (int): Either 0 or 1. If 1, prepare the qubit in state |1>,\n",
    "            otherwise leave it in state 0.\n",
    "\n",
    "    Returns:\n",
    "        np.array[float]: The measurement outcome probabilities.\n",
    "    \"\"\"\n",
    "    if state == 1:\n",
    "        qml.PauliX(wires=0)\n",
    "\n",
    "    ##################\n",
    "    # YOUR CODE HERE #\n",
    "    ##################\n",
    "\n",
    "    # APPLY HADAMARD AND MEASURE\n",
    "    qml.Hadamard(wires=0)\n",
    "    return qml.probs(wires=0)\n",
    "\n",
    "\n",
    "print(apply_h_and_measure(0))\n",
    "print(apply_h_and_measure(1))"
   ]
  },
  {
   "cell_type": "markdown",
   "id": "a018a1f1-4dc4-426b-8c5f-bdd73d408672",
   "metadata": {},
   "source": [
    "### Codercise I.9.2 - Y basis rotation\n",
    "\n",
    "**Task**: Prepare $$|\\psi\\rangle=\\frac{1}{2}|0\\rangle+i\\frac{\\sqrt{3}}{2}|1\\rangle$$ and make a measurement in the basis:\n",
    "$$|y_+\\rangle=\\frac{1}{\\sqrt{2}}(|0\\rangle+i|1\\rangle)$$\n",
    "$$|y_-\\rangle=\\frac{1}{\\sqrt{2}}(|0\\rangle-i|1\\rangle)$$\n",
    "The functions should be subroutines, i.e., they do not return any values. There is no need to implement QNode now.\n",
    "\n",
    "**Solution**:\n",
    "- The quantum state $|\\psi\\rangle$ can be implemented using the Hadamard, S, and RX gates.\n",
    "- The default basis is the computation basis, i.e., $|0\\rangle$ and $|1\\rangle$.\n",
    "- Now, the Y-basis is used. So the basis is changed.\n",
    "$$|\\psi\\rangle=d_0|y_+\\rangle+d_1|y_-\\rangle$$\n",
    "- $|y_+\\rangle$ and $|y_-\\rangle$ are **eigenvectors** of the Pauli-Y operation.\n",
    "- To get the new Y-basis, we need to perform mappings as follows-\n",
    "    1. $|0\\rangle$ to $|y_+\\rangle$ and\n",
    "    2. $|1\\rangle$ to $|y_-\\rangle$ according to the given relationships.\n",
    "- Checking the relationships (equations) shows us that the state $|0\\rangle$ can be transformed into $|y_+\\rangle$ with the Hadamard and S gates.\n",
    "- The same gates are applicable for the state $|1\\rangle$."
   ]
  },
  {
   "cell_type": "code",
   "execution_count": 3,
   "id": "6007a522-0fb2-4b0e-8bad-d854ac109c3f",
   "metadata": {},
   "outputs": [],
   "source": [
    "##################\n",
    "# YOUR CODE HERE #\n",
    "##################\n",
    "\n",
    "\n",
    "# WRITE A QUANTUM FUNCTION THAT PREPARES (1/2)|0> + i(sqrt(3)/2)|1>\n",
    "def prepare_psi():\n",
    "    qml.Hadamard(wires=0)\n",
    "    qml.S(wires=0)\n",
    "    qml.RX(-np.pi/6, wires=0)\n",
    "\n",
    "\n",
    "# WRITE A QUANTUM FUNCTION THAT SENDS BOTH |0> TO |y_+> and |1> TO |y_->\n",
    "def y_basis_rotation():\n",
    "    qml.Hadamard(wires=0)\n",
    "    qml.S(wires=0)"
   ]
  },
  {
   "cell_type": "markdown",
   "id": "52368cd4-cfd8-4433-b7f5-9d6ae03476db",
   "metadata": {},
   "source": [
    "### Codercise I.9.3 - Measurement in the Y basis\n",
    "\n",
    "**Task**: Use above functions and perform the basis rotation to return the measurement outcome probabilities.\n",
    "\n",
    "**Solution**: We need to use `qml.adjoint()` function to perform the rotation from the Y-basis to the computational basis."
   ]
  },
  {
   "cell_type": "code",
   "execution_count": 4,
   "id": "f00c17b9-3785-4ccb-9fc6-af402832e5b9",
   "metadata": {},
   "outputs": [
    {
     "name": "stdout",
     "output_type": "stream",
     "text": [
      "[0.9330127 0.0669873]\n"
     ]
    }
   ],
   "source": [
    "dev = qml.device(\"default.qubit\", wires=1)\n",
    "\n",
    "\n",
    "@qml.qnode(dev)\n",
    "def measure_in_y_basis():\n",
    "    ##################\n",
    "    # YOUR CODE HERE #\n",
    "    ##################\n",
    "\n",
    "    # PREPARE THE STATE\n",
    "    prepare_psi()\n",
    "    # PERFORM THE ROTATION BACK TO COMPUTATIONAL BASIS\n",
    "    qml.adjoint(y_basis_rotation)()\n",
    "    # RETURN THE MEASUREMENT OUTCOME PROBABILITIES\n",
    "    return qml.probs(wires=0)\n",
    "\n",
    "\n",
    "print(measure_in_y_basis())"
   ]
  },
  {
   "cell_type": "markdown",
   "id": "ca4fea33-ecd1-495b-8ba2-670818530364",
   "metadata": {},
   "source": [
    "This notebook is done by `Myanmar Youths` for `Womanium Quantum + AI 2024` program.\n",
    "- <a href=\"https://www.linkedin.com/in/la-wun-nannda-b047681b5/\"><u>La Wun Nannda</u></a>\n",
    "- <a href=\"https://www.linkedin.com/in/chit-zin-win-46a2a3263/\"><u>Chit Zin Win</u></a>"
   ]
  }
 ],
 "metadata": {
  "kernelspec": {
   "display_name": "Python 3 (ipykernel)",
   "language": "python",
   "name": "python3"
  },
  "language_info": {
   "codemirror_mode": {
    "name": "ipython",
    "version": 3
   },
   "file_extension": ".py",
   "mimetype": "text/x-python",
   "name": "python",
   "nbconvert_exporter": "python",
   "pygments_lexer": "ipython3",
   "version": "3.11.9"
  }
 },
 "nbformat": 4,
 "nbformat_minor": 5
}
