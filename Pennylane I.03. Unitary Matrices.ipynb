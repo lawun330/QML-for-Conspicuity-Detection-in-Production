{
 "cells": [
  {
   "cell_type": "markdown",
   "id": "e5bdc9a5-4c41-43b7-b6d9-007187491466",
   "metadata": {},
   "source": [
    "# Pennylane: I. Introduction to Quantum Computing\n",
    "## I.3. Unitary Matrices"
   ]
  },
  {
   "cell_type": "code",
   "execution_count": 1,
   "id": "50134406-d644-4f78-9f20-3c80524e2589",
   "metadata": {},
   "outputs": [],
   "source": [
    "# preparation\n",
    "import numpy as np\n",
    "import pennylane as qml"
   ]
  },
  {
   "cell_type": "markdown",
   "id": "ddbc0cd5-9d2e-4549-8ccb-3b2cd3bdb010",
   "metadata": {},
   "source": [
    "### Codercise I.3.1 - Unitaries in PennyLane\n",
    "\n",
    "**Task**: Use `QubitUnitary()` operation to perform $U|\\psi\\rangle$.\n",
    "\n",
    "**Solution**: The `QubitUnitary()` function takes two parameters:\n",
    "1. Unitary matrix\n",
    "2. Wires\n",
    "\n",
    "Wires are specified in the device and can be recalled using `dev.wires`."
   ]
  },
  {
   "cell_type": "code",
   "execution_count": 2,
   "id": "e420db7b-80d5-4269-885e-58155112ae2e",
   "metadata": {},
   "outputs": [],
   "source": [
    "dev = qml.device(\"default.qubit\", wires=1)\n",
    "\n",
    "U = np.array([[1, 1], [1, -1]]) / np.sqrt(2)\n",
    "\n",
    "\n",
    "@qml.qnode(dev)\n",
    "def apply_u():\n",
    "\n",
    "    ##################\n",
    "    # YOUR CODE HERE #\n",
    "    ##################\n",
    "\n",
    "    # USE QubitUnitary TO APPLY U TO THE QUBIT\n",
    "    qml.QubitUnitary(U, wires=dev.wires)\n",
    "    \n",
    "    # Return the state\n",
    "    return qml.state()"
   ]
  },
  {
   "cell_type": "markdown",
   "id": "c89ddc28-0477-4054-9b33-787a37fcea74",
   "metadata": {},
   "source": [
    "### Codercise I.3.2 - Parametrized unitaries\n",
    "\n",
    "**Task**: Unitary matrices can be parametrized with a gate called \"Rot\" using `qml.Rot()` which takes three angles and wires as parameters. Show an example.\n",
    "\n",
    "**Solution**: We need to pass parameters to the function. As in above, wires are specified in the device and can be recalled using `dev.wires`."
   ]
  },
  {
   "cell_type": "code",
   "execution_count": 3,
   "id": "bf9ee3ca-3ea9-4da3-b0c1-bc1e47103963",
   "metadata": {},
   "outputs": [],
   "source": [
    "dev = qml.device(\"default.qubit\", wires=1)\n",
    "\n",
    "\n",
    "@qml.qnode(dev)\n",
    "def apply_u_as_rot(phi, theta, omega):\n",
    "\n",
    "    ##################\n",
    "    # YOUR CODE HERE #\n",
    "    ##################\n",
    "\n",
    "    # APPLY A ROT GATE USING THE PROVIDED INPUT PARAMETERS\n",
    "    qml.Rot(phi, theta, omega, wires=dev.wires)\n",
    "\n",
    "    # RETURN THE QUANTUM STATE VECTOR\n",
    "\n",
    "    return qml.state()"
   ]
  },
  {
   "cell_type": "markdown",
   "id": "1e53974f-5ae2-4033-9fc0-aae6e973843f",
   "metadata": {},
   "source": [
    "This notebook is done by `Myanmar Youths` for `Womanium Quantum + AI 2024` program.\n",
    "- <a href=\"https://www.linkedin.com/in/la-wun-nannda-b047681b5/\"><u>La Wun Nannda</u></a>\n",
    "- <a href=\"https://www.linkedin.com/in/chit-zin-win-46a2a3263/\"><u>Chit Zin Win</u></a>"
   ]
  }
 ],
 "metadata": {
  "kernelspec": {
   "display_name": "Python 3 (ipykernel)",
   "language": "python",
   "name": "python3"
  },
  "language_info": {
   "codemirror_mode": {
    "name": "ipython",
    "version": 3
   },
   "file_extension": ".py",
   "mimetype": "text/x-python",
   "name": "python",
   "nbconvert_exporter": "python",
   "pygments_lexer": "ipython3",
   "version": "3.11.9"
  }
 },
 "nbformat": 4,
 "nbformat_minor": 5
}
