{
 "cells": [
  {
   "cell_type": "markdown",
   "id": "6e71f6e6-f611-4504-8964-6e2d2fe963dd",
   "metadata": {},
   "source": [
    "# Pennylane: I. Introduction to Quantum Computing\n",
    "## I.7. Universal Gate Sets"
   ]
  },
  {
   "cell_type": "code",
   "execution_count": 1,
   "id": "47992aa8-95a1-46c8-abb7-f3747c57a35e",
   "metadata": {},
   "outputs": [],
   "source": [
    "# preparation\n",
    "import numpy as np\n",
    "import pennylane as qml"
   ]
  },
  {
   "cell_type": "markdown",
   "id": "ffbbe647-5ddb-48b7-89c6-f60880193284",
   "metadata": {},
   "source": [
    "### Codercise I.7.1 - Universality of rotations\n",
    "\n",
    "The `Rot()` in codercise I.3.2 is actually a sequence of RZ, RY and RZ operations. These two rotations form a universal gate set for single-qubit operations.\n",
    "\n",
    "**Task**: Find a set of angles $\\phi$, $\\theta$, $\\omega$ to act the same as a Hadamard gate (up to a global phase).\n",
    "\n",
    "**Solution**: Recall that $$H=\\frac{1}{\\sqrt{2}}\\begin{pmatrix}1 & 1\\\\ 1 & -1\\end{pmatrix}$$ $$RX(\\theta)=\\begin{pmatrix}\n",
    "cos(\\frac{\\theta}{2}) & -i ~ sin(\\frac{\\theta}{2})\\\\\n",
    "-i ~ sin(\\frac{\\theta}{2}) & cos(\\frac{\\theta}{2})\n",
    "\\end{pmatrix} ~~~,~~~\n",
    "RZ(\\theta)=\\begin{pmatrix}\n",
    "e^{-i\\frac{\\theta}{2}} & 0\\\\\n",
    "0 & e^{i\\frac{\\theta}{2}}\n",
    "\\end{pmatrix}$$\n",
    "From these, we know that we need to implement a unitary, $U(\\phi,\\theta,\\omega)=RZ(\\phi)RX(\\theta)RZ(\\omega)$."
   ]
  },
  {
   "cell_type": "code",
   "execution_count": 2,
   "id": "7d54e336-f6bc-44c1-8ed5-530c6e5e7c70",
   "metadata": {},
   "outputs": [],
   "source": [
    "dev = qml.device(\"default.qubit\", wires=1)\n",
    "\n",
    "##################\n",
    "# YOUR CODE HERE #\n",
    "##################\n",
    "\n",
    "# ADJUST THE VALUES OF PHI, THETA, AND OMEGA\n",
    "phi, theta, omega = np.pi/2, np.pi/2, np.pi/2 \n",
    "\n",
    "\n",
    "@qml.qnode(dev)\n",
    "def hadamard_with_rz_rx():\n",
    "    qml.RZ(phi, wires=0)\n",
    "    qml.RX(theta, wires=0)\n",
    "    qml.RZ(omega, wires=0)\n",
    "    return qml.state()"
   ]
  },
  {
   "cell_type": "code",
   "execution_count": 3,
   "id": "08e95695-a198-4851-bd12-68e8a567f79b",
   "metadata": {},
   "outputs": [
    {
     "data": {
      "text/plain": [
       "tensor([0.-0.70710678j, 0.-0.70710678j], requires_grad=True)"
      ]
     },
     "execution_count": 3,
     "metadata": {},
     "output_type": "execute_result"
    }
   ],
   "source": [
    "# test\n",
    "hadamard_with_rz_rx()"
   ]
  },
  {
   "cell_type": "markdown",
   "id": "b0f8a856-96a7-40f4-b0ec-d3767e97cc8a",
   "metadata": {},
   "source": [
    "### Codercise I.7.2 - Synthesizing a circuit\n",
    "\n",
    "**Task**: Rewrite the following circuit using RZ and RX (up to a global phase).\n",
    "\n",
    "<img height=\"40%\" width=\"40%\" src=\"https://assets.cloud.pennylane.ai/codebook/circuit_i-7-2.svg\"/>\n",
    "\n",
    "**Solution**: From left to right, we implement the circuit.\n",
    "- H gate: We know that three angles, $\\phi=\\theta=\\omega=\\frac{\\pi}{2}$.\n",
    "- S gate: Recall that $S=RZ(\\pi/2)$.\n",
    "- T' gate: Recall that $T=RZ(\\pi/4)$ which makes $T^\\dagger=RZ(-\\pi/4)$.\n",
    "- Y gate: Simply, $Y=RY(\\pi)$. Since we cannot use RY, so we need to decompose further: $Y=S~RX(-\\pi)~S^\\dagger$."
   ]
  },
  {
   "cell_type": "code",
   "execution_count": 4,
   "id": "01599a7d-7756-4eae-ad21-e3047141ed32",
   "metadata": {},
   "outputs": [],
   "source": [
    "dev = qml.device(\"default.qubit\", wires=1)\n",
    "\n",
    "\n",
    "@qml.qnode(dev)\n",
    "def convert_to_rz_rx():\n",
    "    ##################\n",
    "    # YOUR CODE HERE #\n",
    "    ##################\n",
    "\n",
    "    # IMPLEMENT THE CIRCUIT IN THE PICTURE USING ONLY RZ AND RX\n",
    "    qml.RZ(np.pi/2, wires=0) # H gate # phi\n",
    "    qml.RX(np.pi/2, wires=0) # H gate # theta\n",
    "    qml.RZ(np.pi/2, wires=0) # H gate # omega\n",
    "    qml.RZ(np.pi/2, wires=0) # S gate\n",
    "    qml.RZ(-np.pi/4, wires=0) # T' gate\n",
    "    qml.RZ(-np.pi/2, 0) # Y gate # adj S\n",
    "    qml.RX(-np.pi, 0) # Y gate # RX(-pi)\n",
    "    qml.RZ(np.pi/2, 0) # Y gate # S\n",
    "\n",
    "    return qml.state()"
   ]
  },
  {
   "cell_type": "code",
   "execution_count": 5,
   "id": "8f174d45-6083-4d96-8ca9-30849d6c279d",
   "metadata": {},
   "outputs": [
    {
     "data": {
      "text/plain": [
       "tensor([0.27059805-0.65328148j, 0.27059805+0.65328148j], requires_grad=True)"
      ]
     },
     "execution_count": 5,
     "metadata": {},
     "output_type": "execute_result"
    }
   ],
   "source": [
    "# test\n",
    "convert_to_rz_rx()"
   ]
  },
  {
   "cell_type": "markdown",
   "id": "f68f3d62-86a5-4df3-a47b-387d07f18180",
   "metadata": {},
   "source": [
    "### Codercise I.7.3 - Universality of H and T\n",
    "\n",
    "Just like RZ and RY. The two gates H and T are a **universal gate set**.\n",
    "\n",
    "**Task**: Write a circuit that applies the following unitary matrix using 6 H and T gates.\n",
    "\n",
    "$$U=\\frac{1}{\\sqrt{2}^3}\n",
    "\\begin{pmatrix}\n",
    "1+e^{i\\pi/4}+i(1-e^{i\\pi/4}) & 1-e^{i\\pi/4}+i(1+e^{i\\pi/4})\\\\\n",
    "1+e^{i\\pi/4}-i(1-e^{i\\pi/4}) & 1-e^{i\\pi/4}-i(1+e^{i\\pi/4})\n",
    "\\end{pmatrix}$$\n",
    "\n",
    "Note that $T = \\begin{pmatrix}1 & 0\\\\ 0 & e^{i\\pi/4}\\end{pmatrix}$.\n",
    "\n",
    "**Solution**: Since we have $\\sqrt{2}$  to the power of 3, we need to use 3 H gates. Since two consecutive H gates cancel out each other, they have to be put apart. The number of T gates required is 3 since the total gate count is 6. So, the circuit will have\n",
    "1. 3 H gates\n",
    "2. 3 T gates"
   ]
  },
  {
   "cell_type": "code",
   "execution_count": 6,
   "id": "808ae324-7665-4db4-9241-1fbdb4b3fc70",
   "metadata": {},
   "outputs": [],
   "source": [
    "dev = qml.device(\"default.qubit\", wires=1)\n",
    "\n",
    "\n",
    "@qml.qnode(dev)\n",
    "def unitary_with_h_and_t():\n",
    "    ##################\n",
    "    # YOUR CODE HERE #\n",
    "    ##################\n",
    "\n",
    "    # APPLY ONLY H AND T TO PRODUCE A CIRCUIT THAT EFFECTS THE GIVEN MATRIX\n",
    "    qml.Hadamard(wires=0)\n",
    "    qml.T(wires=0)\n",
    "    qml.Hadamard(wires=0)\n",
    "    qml.T(wires=0)\n",
    "    qml.T(wires=0)\n",
    "    qml.Hadamard(wires=0)\n",
    " \n",
    "    return qml.state()"
   ]
  },
  {
   "cell_type": "markdown",
   "id": "315a2575-91be-4a20-bbe8-9c1defd2b7a2",
   "metadata": {},
   "source": [
    "This notebook is done by `Myanmar Youths` for `Womanium Quantum + AI 2024` program.\n",
    "- <a href=\"https://www.linkedin.com/in/la-wun-nannda-b047681b5/\"><u>La Wun Nannda</u></a>\n",
    "- <a href=\"https://www.linkedin.com/in/chit-zin-win-46a2a3263/\"><u>Chit Zin Win</u></a>"
   ]
  }
 ],
 "metadata": {
  "kernelspec": {
   "display_name": "Python 3 (ipykernel)",
   "language": "python",
   "name": "python3"
  },
  "language_info": {
   "codemirror_mode": {
    "name": "ipython",
    "version": 3
   },
   "file_extension": ".py",
   "mimetype": "text/x-python",
   "name": "python",
   "nbconvert_exporter": "python",
   "pygments_lexer": "ipython3",
   "version": "3.11.9"
  }
 },
 "nbformat": 4,
 "nbformat_minor": 5
}
