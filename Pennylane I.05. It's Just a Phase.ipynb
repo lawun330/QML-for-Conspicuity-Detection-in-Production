{
 "cells": [
  {
   "cell_type": "markdown",
   "id": "27598917-1f73-409b-8b3c-5b5d558b157c",
   "metadata": {},
   "source": [
    "# Pennylane: I. Introduction to Quantum Computing\n",
    "## I.5. It's Just a Phase"
   ]
  },
  {
   "cell_type": "code",
   "execution_count": 1,
   "id": "d194b63d-0d9a-4e5f-8558-b74d7c6ab2a4",
   "metadata": {},
   "outputs": [],
   "source": [
    "# preparation\n",
    "import numpy as np\n",
    "import pennylane as qml"
   ]
  },
  {
   "cell_type": "markdown",
   "id": "49efce7d-b5f4-40bb-b4aa-38f6cf261cf8",
   "metadata": {},
   "source": [
    "### Codercise I.5.1 - The Pauli Z gate\n",
    "\n",
    "The Pauli Z gate can flip the phase of a quantum state.\n",
    "\n",
    "$$Z|0\\rangle=|0\\rangle$$\n",
    "$$Z|1\\rangle=-|1\\rangle$$\n",
    "$$Z|+\\rangle=\\frac{1}{\\sqrt{2}}(|0\\rangle-|1\\rangle)=|-\\rangle$$\n",
    "$$Z|-\\rangle=\\frac{1}{\\sqrt{2}}(|0\\rangle+|1\\rangle)=|+\\rangle$$\n",
    "\n",
    "Mathematically, $Z=HXH$.\n",
    "\n",
    "**Task**: Use `qml.PauliZ()` to the $|+\\rangle$ state.\n",
    "\n",
    "**Solution**: We can prepare the $|+\\rangle$ state by applying the Hadamard gate to the state $|0\\rangle$. Next, we perform the Pauli Z operation. We can see that the result contains a negative sign in front of the state $|1\\rangle$. This means the result is $|-\\rangle$ as we expected."
   ]
  },
  {
   "cell_type": "code",
   "execution_count": 2,
   "id": "e6ed0700-fb99-42a5-a1f3-d8c5ff031b84",
   "metadata": {},
   "outputs": [
    {
     "name": "stdout",
     "output_type": "stream",
     "text": [
      "[ 0.70710678+0.j -0.70710678+0.j]\n"
     ]
    }
   ],
   "source": [
    "dev = qml.device(\"default.qubit\", wires=1)\n",
    "\n",
    "@qml.qnode(dev)\n",
    "def apply_z_to_plus():\n",
    "    \"\"\"Write a circuit that applies PauliZ to the |+> state and returns\n",
    "    the state.\n",
    "\n",
    "    Returns:\n",
    "        np.array[complex]: The state of the qubit after the operations.\n",
    "    \"\"\"\n",
    "\n",
    "    ##################\n",
    "    # YOUR CODE HERE #\n",
    "    ##################\n",
    "\n",
    "    # CREATE THE |+> STATE\n",
    "    qml.Hadamard(dev.wires)\n",
    "\n",
    "    # APPLY PAULI Z\n",
    "    qml.PauliZ(dev.wires)\n",
    "\n",
    "    # RETURN THE STATE\n",
    "    return qml.state()\n",
    "\n",
    "\n",
    "print(apply_z_to_plus())"
   ]
  },
  {
   "cell_type": "markdown",
   "id": "0a77a805-1352-4cea-8771-14d0a4f184a4",
   "metadata": {},
   "source": [
    "### Codercise I.5.2 - The Z Rotation\n",
    "\n",
    "Given a quantum state $|\\psi\\rangle=\\alpha|0\\rangle+\\beta|1\\rangle$ and angle of rotation (radians) $\\omega$, the Z rotation gate RZ is defined as\n",
    "\n",
    "$$RZ(\\omega)|\\psi\\rangle=e^{-i\\frac{\\omega}{2}}\\alpha|0\\rangle+\\beta e^{i\\frac{\\omega}{2}}|1\\rangle$$\n",
    "\n",
    "The prefactor of $e^{-i\\frac{\\omega}{2}}$ is called the **global phase**.\n",
    "\n",
    "After factoring, the equation becomes\n",
    "\n",
    "$$RZ(\\omega)|\\psi\\rangle=e^{-i\\frac{\\omega}{2}}\\alpha|0\\rangle+\\beta e^{i\\frac{\\omega}{2}}|1\\rangle \\sim \\alpha|0\\rangle+\\beta e^{i\\omega}|1\\rangle$$\n",
    "\n",
    "\n",
    "The remaining phase $e^{i\\omega}$ is known as the **relative phase**. Neither of these phases affect the outcome probabilities.\n",
    "\n",
    "In PennyLane, all of these are abstracted away with `qml.RZ()`. Unlike the Pauli Z, it takes one more parameter: angle of rotation.\n",
    "\n",
    "**Task**: Apply `qml.RZ()` to the $|+\\rangle$ state. The internal representation of RZ in PennyLane yields a state with the $e^{-i\\frac{\\omega}{2}}/e^{i\\frac{\\omega}{2}}$ phase prefactors. Use the global phase relationships above to help determine if you have the correct implementation.\n",
    "\n",
    "**Solution**: We know that the Pauli Z operation changes the $|+\\rangle$ state into $|-\\rangle$. On a bloch sphere, these two states are 180 degrees apart. Since the angle of rotation, $\\omega$, is in radians, we need a conversion."
   ]
  },
  {
   "cell_type": "code",
   "execution_count": 3,
   "id": "2c7f3424-6c23-4c8d-a108-aba1cefb0484",
   "metadata": {},
   "outputs": [],
   "source": [
    "dev = qml.device(\"default.qubit\", wires=1)\n",
    "\n",
    "\n",
    "@qml.qnode(dev)\n",
    "def fake_z():\n",
    "    \"\"\"Use RZ to produce the same action as Pauli Z on the |+> state.\n",
    "\n",
    "    Returns:\n",
    "        np.array[complex]: The state of the qubit after the operations.\n",
    "    \"\"\"\n",
    "\n",
    "    ##################\n",
    "    # YOUR CODE HERE #\n",
    "    ##################\n",
    "\n",
    "    # CREATE THE |+> STATE\n",
    "    qml.Hadamard(dev.wires)\n",
    "\n",
    "    # APPLY RZ\n",
    "    qml.RZ(np.pi, dev.wires) # 180 degrees is 22/7 radians\n",
    "\n",
    "    # RETURN THE STATE\n",
    "    return qml.state()"
   ]
  },
  {
   "attachments": {},
   "cell_type": "markdown",
   "id": "80d1502f-3f31-458a-80c3-07e1ce09ec78",
   "metadata": {},
   "source": [
    "### Codercise I.5.3 - The S and T gates\n",
    "\n",
    "The quarter turn $RZ(\\pi/2)$ is called the **phase gate** with a symbol $S$.\n",
    "\n",
    "The eighth turn $RZ(\\pi/4)$ is called the **T gate** with a symbol $T$.\n",
    "\n",
    "In PennyLane, adjoints are computed with `qml.adjoint()` transform to an operation before specifications. Also note that,\n",
    "$$RZ^\\dagger(\\omega)=RZ(-\\omega)$$\n",
    "\n",
    "**Task**: Implement the circuit below.\n",
    "\n",
    "<img height=\"50%\" width=\"50%\" src=\"https://assets.cloud.pennylane.ai/codebook/circuit_153.svg\"/>\n",
    "\n",
    "**Solution**: From left to right, we implement the circuit, adding a gate at a time. There are two ways to perform adjoints:\n",
    "1. qml.adjoint(qml._gate_name_)($\\omega$, wires)\n",
    "2. qml._gate_name_(-$\\omega$, wires)"
   ]
  },
  {
   "cell_type": "code",
   "execution_count": 4,
   "id": "b62eaa38-e3c0-48e8-82c6-f25081c6914c",
   "metadata": {},
   "outputs": [],
   "source": [
    "dev = qml.device(\"default.qubit\", wires=1)\n",
    "\n",
    "\n",
    "@qml.qnode(dev)\n",
    "def many_rotations():\n",
    "    \"\"\"Implement the circuit depicted above and return the quantum state.\n",
    "\n",
    "    Returns:\n",
    "        np.array[complex]: The state of the qubit after the operations.\n",
    "    \"\"\"\n",
    "\n",
    "    ##################\n",
    "    # YOUR CODE HERE #\n",
    "    ##################\n",
    "\n",
    "    # IMPLEMENT THE CIRCUIT\n",
    "    qml.Hadamard(dev.wires)\n",
    "    qml.S(dev.wires)\n",
    "    qml.adjoint(qml.T)(wires=dev.wires)\n",
    "    qml.RZ(0.3, dev.wires)\n",
    "    qml.adjoint(qml.S)(wires=dev.wires)\n",
    "    \n",
    "    # RETURN THE STATE\n",
    "    return qml.state()"
   ]
  },
  {
   "cell_type": "markdown",
   "id": "2159e8d3-672a-41e8-a223-45f98024bfb2",
   "metadata": {},
   "source": [
    "This notebook is done by `Myanmar Youths` for `Womanium Quantum + AI 2024` program.\n",
    "- <a href=\"https://www.linkedin.com/in/la-wun-nannda-b047681b5/\"><u>La Wun Nannda</u></a>\n",
    "- <a href=\"https://www.linkedin.com/in/chit-zin-win-46a2a3263/\"><u>Chit Zin Win</u></a>"
   ]
  }
 ],
 "metadata": {
  "kernelspec": {
   "display_name": "Python 3 (ipykernel)",
   "language": "python",
   "name": "python3"
  },
  "language_info": {
   "codemirror_mode": {
    "name": "ipython",
    "version": 3
   },
   "file_extension": ".py",
   "mimetype": "text/x-python",
   "name": "python",
   "nbconvert_exporter": "python",
   "pygments_lexer": "ipython3",
   "version": "3.11.9"
  }
 },
 "nbformat": 4,
 "nbformat_minor": 5
}
