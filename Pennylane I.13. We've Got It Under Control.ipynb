{
 "cells": [
  {
   "cell_type": "markdown",
   "id": "69c944dd-5d01-4508-ad45-b3262d864510",
   "metadata": {},
   "source": [
    "# Pennylane: I. Introduction to Quantum Computing\n",
    "## I.13. We've Got It Under Control"
   ]
  },
  {
   "cell_type": "code",
   "execution_count": 1,
   "id": "8f03653b-29f2-4e2d-9099-7eaf71e3d51a",
   "metadata": {},
   "outputs": [],
   "source": [
    "# preparation\n",
    "import numpy as np\n",
    "import pennylane as qml"
   ]
  },
  {
   "cell_type": "markdown",
   "id": "dd5ea6a0-1eef-4b8f-9af5-e7567191c15d",
   "metadata": {},
   "source": [
    "### Prepare the States\n",
    "This function prepares  a two-qubit state as a function of phi, theta, and omega. There are different ways of doing this. For now, we prepare as follows."
   ]
  },
  {
   "cell_type": "code",
   "execution_count": 2,
   "id": "f4f44fd9-47e5-4066-8af5-424e040c1108",
   "metadata": {},
   "outputs": [],
   "source": [
    "# define prepare_states function\n",
    "def prepare_states(phi, theta, omega):\n",
    "    # prepare 0\n",
    "    qml.RX(phi, wires=0)\n",
    "    qml.RY(theta, wires=0)\n",
    "    qml.RZ(omega, wires=0)\n",
    "\n",
    "    # make 00, 01\n",
    "    qml.Hadamard(wires=1)\n",
    "    qml.CNOT(wires=[0, 1])"
   ]
  },
  {
   "cell_type": "markdown",
   "id": "5229efc7-8e01-4d7f-9ff0-337b29e0f667",
   "metadata": {},
   "source": [
    "### Codercise I.13.1 - The imposter CZ\n",
    "\n",
    "**Task**: Implement two methods for constructing the controlled-Z gate.\n",
    "\n",
    "**Solution**: \n",
    "- Using `qml.CZ(wires=[control, target]`, we can create the CZ gate truly.\n",
    "- For the imposter CZ, note that\n",
    "$CZ=\\begin{pmatrix}\n",
    "1 & 0 & 0 & 0\\\\\n",
    "0 & 1 & 0 & 0\\\\\n",
    "0 & 0 & 1 & 0\\\\\n",
    "0 & 0 & 0 & -1\n",
    "\\end{pmatrix}$.\n",
    "- Recall that\n",
    "$$H=\\frac{1}{\\sqrt{2}}\n",
    "\\begin{pmatrix}\n",
    "1 & 1\\\\\n",
    "1 & -1\n",
    "\\end{pmatrix}, ~~~\n",
    "CNOT=\\begin{pmatrix}\n",
    "1 & 0 & 0 & 0\\\\\n",
    "0 & 1 & 0 & 0\\\\\n",
    "0 & 0 & 0 & 1\\\\\n",
    "0 & 0 & 1 & 0\n",
    "\\end{pmatrix}$$\n",
    "- When we implemented the Z gate, we sandwiched the X gate between two Hadamard gates.\n",
    "- Now, we do it again, but use CNOT instead of X to make CZ.\n",
    "$$CZ=H~~CNOT~~H$$"
   ]
  },
  {
   "cell_type": "code",
   "execution_count": 3,
   "id": "786a3c7a-6cd1-4125-b143-45bd8772804c",
   "metadata": {},
   "outputs": [
    {
     "name": "stdout",
     "output_type": "stream",
     "text": [
      "True CZ output state [ 0.33067914-0.2833615j   0.33067914-0.2833615j   0.09310021+0.54926307j\n",
      " -0.09310021-0.54926307j]\n",
      "Imposter CZ output state [ 0.33067914-0.2833615j   0.33067914-0.2833615j   0.09310021+0.54926307j\n",
      " -0.09310021-0.54926307j]\n"
     ]
    }
   ],
   "source": [
    "dev = qml.device(\"default.qubit\", wires=2)\n",
    "\n",
    "# Prepare a two-qubit state; change up the angles if you like\n",
    "phi, theta, omega = 1.2, 2.3, 3.4\n",
    "\n",
    "\n",
    "@qml.qnode(device=dev)\n",
    "def true_cz(phi, theta, omega):\n",
    "    prepare_states(phi, theta, omega)\n",
    "\n",
    "    ##################\n",
    "    # YOUR CODE HERE #\n",
    "    ##################\n",
    "\n",
    "    # IMPLEMENT THE REGULAR CZ GATE HERE\n",
    "    qml.CZ(wires=[0, 1])\n",
    "    return qml.state()\n",
    "\n",
    "\n",
    "@qml.qnode(dev)\n",
    "def imposter_cz(phi, theta, omega):\n",
    "    prepare_states(phi, theta, omega)\n",
    "\n",
    "    ##################\n",
    "    # YOUR CODE HERE #\n",
    "    ##################\n",
    "\n",
    "    # IMPLEMENT CZ USING ONLY H AND CNOT\n",
    "    qml.Hadamard(0)\n",
    "    qml.CNOT(wires=[1, 0]) # control: [1] # target: [0]\n",
    "    qml.Hadamard(0)\n",
    "    return qml.state()\n",
    "\n",
    "\n",
    "print(f\"True CZ output state {true_cz(phi, theta, omega)}\")\n",
    "print(f\"Imposter CZ output state {imposter_cz(phi, theta, omega)}\")"
   ]
  },
  {
   "cell_type": "markdown",
   "id": "8468b9e9-62dd-4164-92b5-87e65c0bba9b",
   "metadata": {},
   "source": [
    "### Codercise I.13.2 - The SWAP gate\n",
    "\n",
    "**Task**: The SWAP gate can be implemented using CNOT gates.\n",
    "\n",
    "<img height=\"20%\" width=\"20%\" src=\"https://assets.cloud.pennylane.ai/codebook/swap.svg\"/>\n",
    "\n",
    "**Solution**: Using `qml.SWAP(wires=[control, target])`, we can create the SWAP gate directly. Similarly, we can use 3 CNOT gates to perform the same operation. The middle CNOT has to be placed in opposite direction with respect to outer two CNOT gates."
   ]
  },
  {
   "cell_type": "code",
   "execution_count": 4,
   "id": "11e85b55-e2fd-4be0-97aa-58e7dd2ffad4",
   "metadata": {},
   "outputs": [
    {
     "name": "stdout",
     "output_type": "stream",
     "text": [
      "Regular SWAP state = [0.33067914-0.2833615j  0.09310021+0.54926307j 0.33067914-0.2833615j\n",
      " 0.09310021+0.54926307j]\n",
      "CNOT SWAP state = [0.33067914-0.2833615j  0.09310021+0.54926307j 0.33067914-0.2833615j\n",
      " 0.09310021+0.54926307j]\n"
     ]
    }
   ],
   "source": [
    "dev = qml.device(\"default.qubit\", wires=2)\n",
    "\n",
    "# Prepare a two-qubit state; change up the angles if you like\n",
    "phi, theta, omega = 1.2, 2.3, 3.4\n",
    "\n",
    "\n",
    "@qml.qnode(dev)\n",
    "def apply_swap(phi, theta, omega):\n",
    "    prepare_states(phi, theta, omega)\n",
    "\n",
    "    ##################\n",
    "    # YOUR CODE HERE #\n",
    "    ##################\n",
    "\n",
    "    # IMPLEMENT THE REGULAR SWAP GATE HERE\n",
    "    qml.SWAP(wires=[0, 1])\n",
    "    return qml.state()\n",
    "\n",
    "\n",
    "@qml.qnode(dev)\n",
    "def apply_swap_with_cnots(phi, theta, omega):\n",
    "    prepare_states(phi, theta, omega)\n",
    "\n",
    "    ##################\n",
    "    # YOUR CODE HERE #\n",
    "    ##################\n",
    "\n",
    "    # IMPLEMENT THE SWAP GATE USING A SEQUENCE OF CNOTS\n",
    "    qml.CNOT(wires=[0, 1])\n",
    "    qml.CNOT(wires=[1, 0])\n",
    "    qml.CNOT(wires=[0, 1])\n",
    "    return qml.state()\n",
    "\n",
    "\n",
    "print(f\"Regular SWAP state = {apply_swap(phi, theta, omega)}\")\n",
    "print(f\"CNOT SWAP state = {apply_swap_with_cnots(phi, theta, omega)}\")"
   ]
  },
  {
   "cell_type": "markdown",
   "id": "4c97117c-d824-4334-9091-e3d0ddc33dca",
   "metadata": {},
   "source": [
    "### Codercise I.13.3 - The Toffoli gate\n",
    "\n",
    "<img height=\"15%\" width=\"15%\" src=\"https://assets.cloud.pennylane.ai/codebook/toffoli.svg\"/>\n",
    "\n",
    "The gate shown above is called the **Toffoli gate**. It flips a target qubit if two control-inputs are in the state $|1\\rangle$.\n",
    "\n",
    "For a three-qubit system, its mathematical description is $TOF|abc\\rangle=|ab(c\\otimes ab)\\rangle$.\n",
    "\n",
    "**Task**: Implement the **Fredkin gate**, also known as the **controlled SWAP** operation.\n",
    "\n",
    "<img height=\"15%\" width=\"15%\" src=\"https://upload.wikimedia.org/wikipedia/commons/thumb/9/98/Qcircuit_Fredkin.svg/1200px-Qcircuit_Fredkin.svg.png\"/>\n",
    "\n",
    "**Solution**: Using `qml.Toffoli(wires=[control1, control2, target]`, we can create a 2-qubit controlled gate. To create the controlled SWAP gate, we need 3 Toffoli gates in a sequence. The implementation of the controlled SWAP gate is similar to the implementation of the SWAP gate. The middle Toffoli has to be placed in opposite direction while being sandwiched by the remaining 2 Toffolis."
   ]
  },
  {
   "cell_type": "code",
   "execution_count": 5,
   "id": "b958019a-c44e-43a2-ba22-9ca6721c13a3",
   "metadata": {},
   "outputs": [
    {
     "name": "stdout",
     "output_type": "stream",
     "text": [
      "[0.33067914-0.2833615j  0.        +0.j         0.33067914-0.2833615j\n",
      " 0.        +0.j         0.09310021+0.54926307j 0.        +0.j\n",
      " 0.09310021+0.54926307j 0.        +0.j        ]\n",
      "[0.33067914-0.2833615j  0.        +0.j         0.33067914-0.2833615j\n",
      " 0.        +0.j         0.09310021+0.54926307j 0.09310021+0.54926307j\n",
      " 0.        +0.j         0.        +0.j        ]\n"
     ]
    }
   ],
   "source": [
    "dev = qml.device(\"default.qubit\", wires=3)\n",
    "\n",
    "# Prepare first qubit in |1>, and arbitrary states on the second two qubits\n",
    "phi, theta, omega = 1.2, 2.3, 3.4\n",
    "\n",
    "\n",
    "# A helper function just so you can visualize the initial state\n",
    "# before the controlled SWAP occurs.\n",
    "@qml.qnode(dev)\n",
    "def no_swap(phi, theta, omega):\n",
    "    prepare_states(phi, theta, omega)\n",
    "    return qml.state()\n",
    "\n",
    "\n",
    "@qml.qnode(dev)\n",
    "def controlled_swap(phi, theta, omega):\n",
    "    prepare_states(phi, theta, omega)\n",
    "\n",
    "    ##################\n",
    "    # YOUR CODE HERE #\n",
    "    ##################\n",
    "\n",
    "    # PERFORM A CONTROLLED SWAP USING A SEQUENCE OF TOFFOLIS\n",
    "    qml.Toffoli(wires=[0, 1, 2])\n",
    "    qml.Toffoli(wires=[0, 2, 1])\n",
    "    qml.Toffoli(wires=[0, 1, 2])\n",
    "    return qml.state()\n",
    "\n",
    "\n",
    "print(no_swap(phi, theta, omega))\n",
    "print(controlled_swap(phi, theta, omega))"
   ]
  },
  {
   "cell_type": "markdown",
   "id": "5a5b4bb6-c81d-4e12-a983-fc4522585650",
   "metadata": {},
   "source": [
    "### Codercise I.13.3 - Mixed Controlled Gates\n",
    "\n",
    "In some cases, we want to control on a qubit being in the state $|0\\rangle$. In PennyLane, `MultiControlledX()` operation can create mixed-polarity multi-controlled Toffoli gates. This gate allows us to define an arbitary bit-string for control.\n",
    "\n",
    "**Task**: Write a 4-qubit PennyLane circuit that applies a Hadamard to the control qubits, then applies a `MultiControlledX()` on the fourth qubit, controlled on the first 3 qubits being in the state $001|\\rangle$. This is depicted in the circuit below: \"control on 0\" is denoted by an open circle on the control qubits, rather than a filled circle. What do you expect will happen to the target qubit?\n",
    "\n",
    "<img height=\"15%\" width=\"15%\" src=\"https://assets.cloud.pennylane.ai/codebook/mcx.svg\"/>\n",
    "\n",
    "**Solution**: This is a simple implmentation."
   ]
  },
  {
   "cell_type": "code",
   "execution_count": 6,
   "id": "fdec7dc5-cb08-4794-99f4-9e371eb348ca",
   "metadata": {},
   "outputs": [
    {
     "name": "stdout",
     "output_type": "stream",
     "text": [
      "[0.35355339+0.j 0.        +0.j 0.        +0.j 0.35355339+0.j\n",
      " 0.35355339+0.j 0.        +0.j 0.35355339+0.j 0.        +0.j\n",
      " 0.35355339+0.j 0.        +0.j 0.35355339+0.j 0.        +0.j\n",
      " 0.35355339+0.j 0.        +0.j 0.35355339+0.j 0.        +0.j]\n"
     ]
    }
   ],
   "source": [
    "dev = qml.device(\"default.qubit\", wires=4)\n",
    "\n",
    "\n",
    "@qml.qnode(dev)\n",
    "def four_qubit_mcx():\n",
    "    ##################\n",
    "    # YOUR CODE HERE #\n",
    "    ##################\n",
    "\n",
    "    # IMPLEMENT THE CIRCUIT ABOVE USING A 4-QUBIT MULTI-CONTROLLED X\n",
    "    qml.Hadamard(0)\n",
    "    qml.Hadamard(1)\n",
    "    qml.Hadamard(2)    \n",
    "    qml.MultiControlledX(wires=[0, 1, 2, 3], control_values=[0, 0, 1]) # control: [0], [1], [2] # target: [3] # control when \"001\"\n",
    "    return qml.state()\n",
    "\n",
    "\n",
    "print(four_qubit_mcx())"
   ]
  },
  {
   "cell_type": "markdown",
   "id": "a092173c-4eb8-4a67-8fa1-6707c5e757b8",
   "metadata": {},
   "source": [
    "### Codercise I.13.5 - The 3-controlled-NOT\n",
    "\n",
    "As an example, suppose we have a four-qubit circuit.\n",
    "\n",
    "Three Hadamard gates in this circuit put the first 3 qubits to be in a linear superposition.\n",
    "$$(H\\otimes H\\otimes H)|000\\rangle=\\frac{1}{\\sqrt{2}^3}(|000\\rangle+|001\\rangle+...+|111\\rangle)$$\n",
    "\n",
    "With an additional Identity gate, the last qubit is not changed. It is still in the state $|0\\rangle$.\n",
    "$$(H\\otimes H\\otimes H\\otimes I)|0000\\rangle=\\frac{1}{\\sqrt{2}^3}(|0000\\rangle+|0010\\rangle+...+|1110\\rangle)$$\n",
    "\n",
    "If the state of the first 3 qubits is $|001\\rangle$, the multi-controlled gate (MCX) is triggered. When MCX is triggered, it flips the fourth qubit for that term.\n",
    "- $|0010\\rangle$ --> MCX --> $|0011\\rangle$\n",
    "- $|0011\\rangle$ --> MCX --> $|0010\\rangle$\n",
    "\n",
    "The remaining gates are not affected.\n",
    "$$MCX(H\\otimes H\\otimes H\\otimes I)|0000\\rangle=\\frac{1}{\\sqrt{2}^3}(|0000\\rangle+|0011\\rangle+...+|1110\\rangle)$$\n",
    "\n",
    "**Task**: Implement this 3-controlled-NOT gate using only Toffolis. An auxiliary qubit, initiated in $|0\\rangle$, is necessary for this. And this auxiliary qubit must remain its initial state at the end of the circuit. \n",
    "\n",
    "<img height=\"60%\" width=\"60%\" src=\"https://assets.cloud.pennylane.ai/codebook/4cx.svg\"/>\n",
    "\n",
    "**Solution**: A total of 3 Toffoli gates are required. The first Toffoli gate flips the auxiliary qubit to $|1\\rangle$. The middle Toffoli gate takes that auxiliary and another control qubits as inputs to set the target qubit. The last Toffoli gate resets (flips again) the auxiliary qubit to $|0\\rangle$."
   ]
  },
  {
   "cell_type": "code",
   "execution_count": 7,
   "id": "10e7d7f0-9649-4521-9ab0-d0ddd5b6fcda",
   "metadata": {},
   "outputs": [
    {
     "name": "stdout",
     "output_type": "stream",
     "text": [
      "[0.+0.j 0.+0.j 0.+0.j 0.+0.j 0.+0.j 0.+0.j 0.+0.j 0.+0.j 0.+0.j 0.+0.j\n",
      " 0.+0.j 0.+0.j 0.+0.j 0.+0.j 0.+0.j 0.+0.j 0.+0.j 0.+0.j 0.+0.j 0.+0.j\n",
      " 0.+0.j 0.+0.j 0.+0.j 0.+0.j 0.+0.j 0.+0.j 0.+0.j 0.+0.j 0.+0.j 1.+0.j\n",
      " 0.+0.j 0.+0.j]\n"
     ]
    }
   ],
   "source": [
    "# Wires 0, 1, 2 are the control qubits\n",
    "# Wire 3 is the auxiliary qubit\n",
    "# Wire 4 is the target\n",
    "dev = qml.device(\"default.qubit\", wires=5)\n",
    "\n",
    "\n",
    "@qml.qnode(dev)\n",
    "def four_qubit_mcx_only_tofs():\n",
    "    # We will initialize the control qubits in state |1> so you can see\n",
    "    # how the output state gets changed.\n",
    "    qml.PauliX(wires=0)\n",
    "    qml.PauliX(wires=1)\n",
    "    qml.PauliX(wires=2)\n",
    "\n",
    "    ##################\n",
    "    # YOUR CODE HERE #\n",
    "    ##################\n",
    "\n",
    "    # IMPLEMENT A 3-CONTROLLED NOT WITH TOFFOLIS\n",
    "    qml.Toffoli(wires=[0, 1, 3]) # flip the auxiliary\n",
    "    qml.Toffoli(wires=[2, 3, 4]) # flip the target wire 4\n",
    "    qml.Toffoli(wires=[0, 1, 3]) # flip the auxiliary\n",
    "    return qml.state()\n",
    "\n",
    "\n",
    "print(four_qubit_mcx_only_tofs())"
   ]
  },
  {
   "cell_type": "markdown",
   "id": "7efe1cad-f7ee-4cac-99a8-81bfe3c9a789",
   "metadata": {},
   "source": [
    "This notebook is done by `Myanmar Youths` for `Womanium Quantum + AI 2024` program.\n",
    "- <a href=\"https://www.linkedin.com/in/la-wun-nannda-b047681b5/\"><u>La Wun Nannda</u></a>\n",
    "- <a href=\"https://www.linkedin.com/in/chit-zin-win-46a2a3263/\"><u>Chit Zin Win</u></a>"
   ]
  }
 ],
 "metadata": {
  "kernelspec": {
   "display_name": "Python 3 (ipykernel)",
   "language": "python",
   "name": "python3"
  },
  "language_info": {
   "codemirror_mode": {
    "name": "ipython",
    "version": 3
   },
   "file_extension": ".py",
   "mimetype": "text/x-python",
   "name": "python",
   "nbconvert_exporter": "python",
   "pygments_lexer": "ipython3",
   "version": "3.11.9"
  }
 },
 "nbformat": 4,
 "nbformat_minor": 5
}
