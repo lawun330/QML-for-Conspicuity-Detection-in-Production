{
 "cells": [
  {
   "cell_type": "markdown",
   "id": "da14c49f-8f8b-483d-8b40-3b9860d4b36f",
   "metadata": {},
   "source": [
    "# Pennylane: I. Introduction to Quantum Computing\n",
    "## I.2. Quantum Circuits"
   ]
  },
  {
   "cell_type": "code",
   "execution_count": 1,
   "id": "22ff31cf-f71f-45e7-a335-37d3ad782ac3",
   "metadata": {},
   "outputs": [],
   "source": [
    "# preparation\n",
    "import numpy as np\n",
    "import pennylane as qml"
   ]
  },
  {
   "attachments": {
    "77f95c16-1e30-4035-b0c9-4e89db945caf.png": {
     "image/png": "[encoded data removed]"
    }
   },
   "cell_type": "markdown",
   "id": "aee54f48-f0f3-403e-9f4f-b00215844718",
   "metadata": {},
   "source": [
    "### Codercise I.2.1 - Order of operations\n",
    "\n",
    "**Task**: Given the following quantum circuit, we should rearrange the code to match the order of operations in that circuit.\n",
    "\n",
    "![image.png](attachment:77f95c16-1e30-4035-b0c9-4e89db945caf.png)\n",
    "\n",
    "**Solution**: We can simply reorder the lines of code by going through all gates from left to right in a circuit. We can see that the circuit is ordered by gates as follows-\n",
    "1. CX\n",
    "2. $R_x$\n",
    "3. H\n",
    "4. CX\n",
    "5. $R_y$"
   ]
  },
  {
   "cell_type": "code",
   "execution_count": 2,
   "id": "90f3cdf5-029c-4729-90aa-c4c1752fa112",
   "metadata": {},
   "outputs": [],
   "source": [
    "def my_circuit(theta, phi):\n",
    "    ##################\n",
    "    # YOUR CODE HERE #\n",
    "    ##################\n",
    "\n",
    "    # REORDER THESE 5 GATES TO MATCH THE CIRCUIT IN THE PICTURE\n",
    "\n",
    "    qml.CNOT(wires=[0, 1])\n",
    "    qml.RX(theta, wires=2)\n",
    "    qml.Hadamard(wires=0)\n",
    "    qml.CNOT(wires=[2, 0])\n",
    "    qml.RY(phi, wires=1)\n",
    "\n",
    "    # This is the measurement; we return the probabilities of all possible output states\n",
    "    # You'll learn more about what types of measurements are available in a later node\n",
    "    return qml.probs(wires=[0, 1, 2])"
   ]
  },
  {
   "attachments": {
    "acee8560-f3f7-499e-935d-087a1cb01b07.png": {
     "image/png": "[encoded data removed]"
    }
   },
   "cell_type": "markdown",
   "id": "b6e51642-aeaf-4f0d-99cf-60fe046af1c1",
   "metadata": {},
   "source": [
    "### Codercise I.2.2 - Building a QNode\n",
    "\n",
    "**Task**: Given the following circuit, construct a QNode using `qml.QNode` to run the circuit.\n",
    "\n",
    "![image.png](attachment:acee8560-f3f7-499e-935d-087a1cb01b07.png)\n",
    "\n",
    "**Solution**: We can simply add the gates according to the picture."
   ]
  },
  {
   "cell_type": "code",
   "execution_count": 3,
   "id": "32be59ad-f15a-4b00-9304-22d260c4e769",
   "metadata": {},
   "outputs": [
    {
     "data": {
      "text/plain": [
       "tensor([9.87560268e-01, 0.00000000e+00, 0.00000000e+00, 2.47302134e-03,\n",
       "        2.48960206e-05, 0.00000000e+00, 0.00000000e+00, 9.94181506e-03], requires_grad=True)"
      ]
     },
     "execution_count": 3,
     "metadata": {},
     "output_type": "execute_result"
    }
   ],
   "source": [
    "# This creates a device with three wires on which PennyLane can run computations\n",
    "dev = qml.device(\"default.qubit\", wires=3)\n",
    "\n",
    "\n",
    "def my_circuit(theta, phi, omega):\n",
    "\n",
    "    ##################\n",
    "    # YOUR CODE HERE #\n",
    "    ##################\n",
    "\n",
    "    # IMPLEMENT THE CIRCUIT BY ADDING THE GATES\n",
    "\n",
    "    # Here are two examples, so you can see the format:\n",
    "    # qml.CNOT(wires=[0, 1])\n",
    "    # qml.RX(theta, wires=0)\n",
    "    qml.RX(theta, wires=0)\n",
    "    qml.RY(phi, wires=1)\n",
    "    qml.RZ(omega, wires=2)\n",
    "    qml.CNOT(wires=[0, 1])\n",
    "    qml.CNOT(wires=[1, 2])\n",
    "    qml.CNOT(wires=[2, 0])\n",
    "\n",
    "    return qml.probs(wires=[0, 1, 2])\n",
    "\n",
    "\n",
    "# This creates a QNode, binding the function and device\n",
    "my_qnode = qml.QNode(my_circuit, dev)\n",
    "\n",
    "# We set up some values for the input parameters\n",
    "theta, phi, omega = 0.1, 0.2, 0.3\n",
    "\n",
    "# Now we can execute the QNode by calling it like we would a regular function\n",
    "my_qnode(theta, phi, omega)"
   ]
  },
  {
   "cell_type": "markdown",
   "id": "075f8b82-31b6-462d-b6a8-ec5446f545d7",
   "metadata": {},
   "source": [
    "### Codercise I.2.3 - The QNode decorator\n",
    "\n",
    "**Task**: Given the following circuit, construct a QNode using `@qml.qnode(device)` to run the circuit on a device.\n",
    "\n",
    "**Solution**: We can simply follow instructions. Notice that the decorator does not give us a function with a new name, unlike the above one."
   ]
  },
  {
   "cell_type": "code",
   "execution_count": 4,
   "id": "cd905bb3-4d04-4a07-8247-4196c27aa383",
   "metadata": {},
   "outputs": [
    {
     "data": {
      "text/plain": [
       "tensor([9.87560268e-01, 0.00000000e+00, 0.00000000e+00, 2.47302134e-03,\n",
       "        2.48960206e-05, 0.00000000e+00, 0.00000000e+00, 9.94181506e-03], requires_grad=True)"
      ]
     },
     "execution_count": 4,
     "metadata": {},
     "output_type": "execute_result"
    }
   ],
   "source": [
    "dev = qml.device(\"default.qubit\", wires=3)\n",
    "\n",
    "##################\n",
    "# YOUR CODE HERE #\n",
    "##################\n",
    "\n",
    "# DECORATE THE FUNCTION BELOW TO TURN IT INTO A QNODE\n",
    "\n",
    "@qml.qnode(dev)\n",
    "def my_circuit(theta, phi, omega):\n",
    "    qml.RX(theta, wires=0)\n",
    "    qml.RY(phi, wires=1)\n",
    "    qml.RZ(omega, wires=2)\n",
    "    qml.CNOT(wires=[0, 1])\n",
    "    qml.CNOT(wires=[1, 2])\n",
    "    qml.CNOT(wires=[2, 0])\n",
    "    return qml.probs(wires=[0, 1, 2])\n",
    "\n",
    "\n",
    "theta, phi, omega = 0.1, 0.2, 0.3\n",
    "\n",
    "##################\n",
    "# YOUR CODE HERE #\n",
    "##################\n",
    "\n",
    "# RUN THE QNODE WITH THE PROVIDED PARAMETERS\n",
    "my_circuit(theta, phi, omega)"
   ]
  },
  {
   "attachments": {
    "b20749dd-a995-40b8-8548-b8d6551065ab.png": {
     "image/png": "[encoded data removed]"
    }
   },
   "cell_type": "markdown",
   "id": "2910dc58-50ad-4e79-b7fc-1433c6b50759",
   "metadata": {},
   "source": [
    "### Codercise I.2.4 - Circuit depth\n",
    "\n",
    "**Task**: Evaluate the depth of the following circuit.\n",
    "\n",
    "![image.png](attachment:b20749dd-a995-40b8-8548-b8d6551065ab.png)\n",
    "\n",
    "**Solution**: The depth of a circuit is the number of time steps it takes for a circuit to run. In other words, it is the number of layers in a circuit. Measurements are not counted."
   ]
  },
  {
   "cell_type": "code",
   "execution_count": 5,
   "id": "857fba2e-68ed-4ed3-a5c0-997ae8b882cf",
   "metadata": {},
   "outputs": [],
   "source": [
    "dev = qml.device(\"default.qubit\", wires=3)\n",
    "\n",
    "\n",
    "@qml.qnode(dev)\n",
    "def my_circuit(theta, phi, omega):\n",
    "    qml.RX(theta, wires=0)\n",
    "    qml.RY(phi, wires=1)\n",
    "    qml.RZ(omega, wires=2)\n",
    "    qml.CNOT(wires=[0, 1])\n",
    "    qml.CNOT(wires=[1, 2])\n",
    "    qml.CNOT(wires=[2, 0])\n",
    "    return qml.probs(wires=[0, 1, 2])\n",
    "\n",
    "\n",
    "##################\n",
    "# YOUR CODE HERE #\n",
    "##################\n",
    "\n",
    "# FILL IN THE CORRECT CIRCUIT DEPTH\n",
    "depth = 4 # correct answer in the tutorial"
   ]
  },
  {
   "cell_type": "markdown",
   "id": "78a67897-3cbf-4861-901b-46d440b1e5d1",
   "metadata": {},
   "source": [
    "This notebook is done by `Myanmar Youths` for `Womanium Quantum + AI 2024` program.\n",
    "- <a href=\"https://www.linkedin.com/in/la-wun-nannda-b047681b5/\"><u>La Wun Nannda</u></a>\n",
    "- <a href=\"https://www.linkedin.com/in/chit-zin-win-46a2a3263/\"><u>Chit Zin Win</u></a>"
   ]
  }
 ],
 "metadata": {
  "kernelspec": {
   "display_name": "Python 3 (ipykernel)",
   "language": "python",
   "name": "python3"
  },
  "language_info": {
   "codemirror_mode": {
    "name": "ipython",
    "version": 3
   },
   "file_extension": ".py",
   "mimetype": "text/x-python",
   "name": "python",
   "nbconvert_exporter": "python",
   "pygments_lexer": "ipython3",
   "version": "3.11.9"
  }
 },
 "nbformat": 4,
 "nbformat_minor": 5
}
