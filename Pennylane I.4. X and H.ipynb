{
 "cells": [
  {
   "cell_type": "markdown",
   "id": "64658c78-79bb-4775-9622-1b398ac90a42",
   "metadata": {},
   "source": [
    "# Pennylane: I. Introduction to Quantum Computing\n",
    "## I.4. X and H"
   ]
  },
  {
   "cell_type": "code",
   "execution_count": 1,
   "id": "b5302fa8-19ff-43dc-af8f-b7e954aeca8f",
   "metadata": {},
   "outputs": [],
   "source": [
    "# preparation\n",
    "import numpy as np\n",
    "import pennylane as qml"
   ]
  },
  {
   "cell_type": "markdown",
   "id": "1d420a13-da32-4046-b754-b383e33453fe",
   "metadata": {},
   "source": [
    "### Codercise I.4.1 - Flipping bits\n",
    "\n",
    "The Pauli X gate can flip a qubit. For instance, the qubit $|0\\rangle$ can be flipped to $|1\\rangle$ using the X gate.\n",
    "\n",
    "$$X|0\\rangle=|1\\rangle$$\n",
    "$$X|1\\rangle=|0\\rangle$$\n",
    "\n",
    "It is also known as the **bit flip** operation or the **NOT gate**. Its matrix is\n",
    "$\\begin{pmatrix}\n",
    "0 & 1\\\\\n",
    "1 & 0\n",
    "\\end{pmatrix}$.\n",
    "\n",
    "**Task**: Depending on the variable \"state\", prepare the quantum state. Then, perform a unitary operation.\n",
    "\n",
    "**Solution**: Since we can never initialize the quantum state $|1\\rangle$, we use `qml.PauliX` to convert the state $|0\\rangle$ to $|1\\rangle$ if the state is demanded. The unitary part is a simple implementation as shown in previous notebooks."
   ]
  },
  {
   "cell_type": "code",
   "execution_count": 2,
   "id": "9d8a4dff-d333-4638-ab4f-71016ad94afd",
   "metadata": {},
   "outputs": [],
   "source": [
    "dev = qml.device(\"default.qubit\", wires=1)\n",
    "\n",
    "U = np.array([[1, 1], [1, -1]]) / np.sqrt(2)\n",
    "\n",
    "\n",
    "@qml.qnode(dev)\n",
    "def varied_initial_state(state):\n",
    "    \"\"\"Complete the function such that we can apply the operation U to\n",
    "    either |0> or |1> depending on the input argument flag.\n",
    "\n",
    "    Args:\n",
    "        state (int): Either 0 or 1. If 1, prepare the qubit in state |1>,\n",
    "            otherwise, leave it in state 0.\n",
    "\n",
    "    Returns:\n",
    "        np.array[complex]: The state of the qubit after the operations.\n",
    "    \"\"\"\n",
    "    ##################\n",
    "    # YOUR CODE HERE #\n",
    "    ##################\n",
    "\n",
    "    # KEEP THE QUBIT IN |0> OR CHANGE IT TO |1> DEPENDING ON THE state PARAMETER\n",
    "    if state == 1:\n",
    "        qml.PauliX(dev.wires)\n",
    "    \n",
    "    # APPLY U TO THE STATE\n",
    "    qml.QubitUnitary(U, wires=dev.wires)\n",
    "    \n",
    "    return qml.state()"
   ]
  },
  {
   "cell_type": "markdown",
   "id": "f3282353-82e8-4031-bb2a-b9c901368de4",
   "metadata": {},
   "source": [
    "### Codercise I.4.2 - Uniform superposition\n",
    "\n",
    "The **Hadamard gate** is represented as \n",
    "$$U=\\frac{1}{\\sqrt{2}}\n",
    "\\begin{pmatrix}\n",
    "1 & 1\\\\\n",
    "1 & -1\n",
    "\\end{pmatrix}$$\n",
    "\n",
    "The function `qml.Hadamard` can be used to create a uniform superposition of the two states $|0\\rangle$ and $|1\\rangle$.\n",
    "\n",
    "**Task**: Apply a Hadamard gate to the qubit.\n",
    "\n",
    "**Solution**: This is a simple operation that sets an example to use the given function."
   ]
  },
  {
   "cell_type": "code",
   "execution_count": 3,
   "id": "915360ab-bbad-4adf-8008-56ffced8599c",
   "metadata": {},
   "outputs": [],
   "source": [
    "dev = qml.device(\"default.qubit\", wires=1)\n",
    "\n",
    "\n",
    "@qml.qnode(dev)\n",
    "def apply_hadamard():\n",
    "    ##################\n",
    "    # YOUR CODE HERE #\n",
    "    ##################\n",
    "\n",
    "    # APPLY THE HADAMARD GATE\n",
    "    qml.Hadamard(dev.wires)\n",
    "    \n",
    "    # RETURN THE STATE\n",
    "    return qml.state()"
   ]
  },
  {
   "cell_type": "markdown",
   "id": "43f00595-7db8-4f5f-9346-4fa783b0bfa1",
   "metadata": {},
   "source": [
    "### Codercise I.4.3 - Combining X and H\n",
    "\n",
    "**Task**: Now we apply the Hadamard gate to both $|0\\rangle$ and $|1\\rangle$.\n",
    "\n",
    "**Solution**: This is a simple operation that combines the above steps."
   ]
  },
  {
   "cell_type": "code",
   "execution_count": 4,
   "id": "ca1be0ee-4725-4701-9190-c0a66c3248c6",
   "metadata": {},
   "outputs": [
    {
     "name": "stdout",
     "output_type": "stream",
     "text": [
      "[0.70710678+0.j 0.70710678+0.j]\n",
      "[ 0.70710678+0.j -0.70710678+0.j]\n"
     ]
    }
   ],
   "source": [
    "dev = qml.device(\"default.qubit\", wires=1)\n",
    "\n",
    "\n",
    "@qml.qnode(dev)\n",
    "def apply_hadamard_to_state(state):\n",
    "    \"\"\"Complete the function such that we can apply the Hadamard to\n",
    "    either |0> or |1> depending on the input argument flag.\n",
    "\n",
    "    Args:\n",
    "        state (int): Either 0 or 1. If 1, prepare the qubit in state |1>,\n",
    "            otherwise, leave it in state 0.\n",
    "\n",
    "    Returns:\n",
    "        np.array[complex]: The state of the qubit after the operations.\n",
    "    \"\"\"\n",
    "    ##################\n",
    "    # YOUR CODE HERE #\n",
    "    ##################\n",
    "\n",
    "    # KEEP THE QUBIT IN |0> OR CHANGE IT TO |1> DEPENDING ON state\n",
    "    if state == 1:\n",
    "        qml.PauliX(dev.wires)\n",
    "\n",
    "    # APPLY THE HADAMARD\n",
    "    qml.Hadamard(dev.wires)\n",
    "\n",
    "    # RETURN THE STATE\n",
    "    return qml.state()\n",
    "\n",
    "\n",
    "print(apply_hadamard_to_state(0))\n",
    "print(apply_hadamard_to_state(1))"
   ]
  },
  {
   "attachments": {
    "a5132a8b-456e-4475-b605-ea3090b42ad1.png": {
     "image/png": "[encoded data removed]"
    }
   },
   "cell_type": "markdown",
   "id": "b6ede32f-68c1-4b97-91ee-55a5caae8835",
   "metadata": {},
   "source": [
    "### Codercise I.4.4 - A QNode with X and H\n",
    "\n",
    "**Task**: Write a QNode for the following circuit.\n",
    "\n",
    "![image.png](attachment:a5132a8b-456e-4475-b605-ea3090b42ad1.png)\n",
    "\n",
    "**Solution**: We will add gates to our circuit, going from the left to the right. Based on the parameter \"state\", the initial qubit state is prepared."
   ]
  },
  {
   "cell_type": "code",
   "execution_count": 5,
   "id": "d5224206-75d9-448e-a183-3bba0dcfe1bc",
   "metadata": {},
   "outputs": [
    {
     "name": "stdout",
     "output_type": "stream",
     "text": [
      "[1.+0.j 0.+0.j]\n",
      "[ 0.+0.j -1.+0.j]\n"
     ]
    }
   ],
   "source": [
    "##################\n",
    "# YOUR CODE HERE #\n",
    "##################\n",
    "\n",
    "# CREATE A DEVICE\n",
    "dev = qml.device(\"default.qubit\", wires=1)\n",
    "\n",
    "# CREATE A QNODE CALLED apply_hxh THAT APPLIES THE CIRCUIT ABOVE\n",
    "@qml.qnode(dev)\n",
    "def apply_hxh(state):\n",
    "    if state == 1:\n",
    "        qml.PauliX(dev.wires)\n",
    "    qml.Hadamard(dev.wires)\n",
    "    qml.PauliX(dev.wires)\n",
    "    qml.Hadamard(dev.wires)\n",
    "    return qml.state()\n",
    "    \n",
    "# Print your results\n",
    "print(apply_hxh(0))\n",
    "print(apply_hxh(1))"
   ]
  },
  {
   "cell_type": "markdown",
   "id": "b37f20bd-c466-4336-bd78-17c32ca039ed",
   "metadata": {},
   "source": [
    "This notebook is done by `Myanmar Youths` for `Womanium Quantum + AI 2024` program.\n",
    "- <a href=\"https://www.linkedin.com/in/la-wun-nannda-b047681b5/\"><u>La Wun Nannda</u></a>\n",
    "- <a href=\"https://www.linkedin.com/in/chit-zin-win-46a2a3263/\"><u>Chit Zin Win</u></a>"
   ]
  }
 ],
 "metadata": {
  "kernelspec": {
   "display_name": "Python 3 (ipykernel)",
   "language": "python",
   "name": "python3"
  },
  "language_info": {
   "codemirror_mode": {
    "name": "ipython",
    "version": 3
   },
   "file_extension": ".py",
   "mimetype": "text/x-python",
   "name": "python",
   "nbconvert_exporter": "python",
   "pygments_lexer": "ipython3",
   "version": "3.11.9"
  }
 },
 "nbformat": 4,
 "nbformat_minor": 5
}
