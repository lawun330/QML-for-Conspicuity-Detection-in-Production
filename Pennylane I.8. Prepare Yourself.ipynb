{
 "cells": [
  {
   "cell_type": "markdown",
   "id": "9245c99f-3aaf-449c-89eb-34a07943d98b",
   "metadata": {},
   "source": [
    "# Pennylane: I. Introduction to Quantum Computing\n",
    "## I.8. Prepare Yourself"
   ]
  },
  {
   "cell_type": "code",
   "execution_count": 1,
   "id": "1bc8bdbf-6a8d-4365-8f37-558f2f507eb2",
   "metadata": {},
   "outputs": [],
   "source": [
    "# preparation\n",
    "import numpy as np\n",
    "import pennylane as qml"
   ]
  },
  {
   "cell_type": "markdown",
   "id": "cb1b6e72-8d36-4d7f-be65-4501f6cb8195",
   "metadata": {},
   "source": [
    "### Codercise I.8.1 - State preparation\n",
    "\n",
    "With tools from previous notebooks, it is ready for us to prepare a target qubit.\n",
    "\n",
    "**Task**: Prepare the quantum state $$|\\psi\\rangle=\\frac{1}{\\sqrt{2}}|0\\rangle+\\frac{1}{\\sqrt{2}}e^{\\frac{5}{4}i\\pi}|1\\rangle$$ up to a global phase using the minimum number of gates.\n",
    "\n",
    "**Solution**: Since the target qubit is in superpostion, the Hadamard gate is applied. To get the desired phase, one RZ rotation is needed."
   ]
  },
  {
   "cell_type": "code",
   "execution_count": 2,
   "id": "5cb314e4-9dcd-4d5c-826b-00b6dd65d88d",
   "metadata": {},
   "outputs": [],
   "source": [
    "dev = qml.device(\"default.qubit\", wires=1)\n",
    "\n",
    "\n",
    "@qml.qnode(dev)\n",
    "def prepare_state():\n",
    "    ##################\n",
    "    # YOUR CODE HERE #\n",
    "    ##################\n",
    "\n",
    "    # APPLY OPERATIONS TO PREPARE THE TARGET STATE\n",
    "    qml.Hadamard(wires=0)\n",
    "    qml.RZ(5*np.pi/4, wires=0)\n",
    "\n",
    "    return qml.state()"
   ]
  },
  {
   "cell_type": "code",
   "execution_count": 3,
   "id": "a10d244f-7469-4ecc-83f0-b5eae3449e96",
   "metadata": {},
   "outputs": [
    {
     "data": {
      "text/plain": [
       "tensor([-0.27059805-0.65328148j, -0.27059805+0.65328148j], requires_grad=True)"
      ]
     },
     "execution_count": 3,
     "metadata": {},
     "output_type": "execute_result"
    }
   ],
   "source": [
    "# test\n",
    "prepare_state()"
   ]
  },
  {
   "cell_type": "markdown",
   "id": "217d9240-7690-4ba2-ba5d-75e2b4970538",
   "metadata": {},
   "source": [
    "### Codercise I.8.2 - State preparation revisited\n",
    "\n",
    "**Task**: Prepare the quantum state $$|\\psi\\rangle=\\frac{\\sqrt{3}}{2}|0\\rangle-\\frac{i}{2}|1\\rangle$$ up to a global phase using the minimum number of gates.\n",
    "\n",
    "**Solution**: We can see gate operations with <a href=\"./gates.html\">this link</a>.\n",
    "- Since the target qubit is in superpostion, the Hadamard gate is applied.\n",
    "- But there is a minus sign in front of $|1\\rangle$, indicating that our initial qubit must be $|1\\rangle$.\n",
    "- Thus, the first step is accomplished with the Pauli-X operation.\n",
    "- To prepare $-i$ to the state $|1\\rangle$, we use the S gate.\n",
    "- Then, to get the specific amplitudes, we rotate around the X-axis for 30 degrees in clockwise direction.\n",
    "- Thus, the RX rotation is applied with the negative sign."
   ]
  },
  {
   "cell_type": "code",
   "execution_count": 4,
   "id": "dc17149f-c269-47d3-99b0-b302fe70656e",
   "metadata": {},
   "outputs": [],
   "source": [
    "dev = qml.device(\"default.qubit\", wires=1)\n",
    "\n",
    "\n",
    "@qml.qnode(dev)\n",
    "def prepare_state():\n",
    "    ##################\n",
    "    # YOUR CODE HERE #\n",
    "    ##################\n",
    "\n",
    "    # APPLY OPERATIONS TO PREPARE THE TARGET STATE\n",
    "    qml.PauliX(wires=0)\n",
    "    qml.Hadamard(wires=0)\n",
    "    qml.S(wires=0)\n",
    "    qml.RX(-np.pi/6, wires=0) # 30 degrees clockwise\n",
    "\n",
    "    return qml.state()"
   ]
  },
  {
   "cell_type": "code",
   "execution_count": 5,
   "id": "41e54e49-e721-4ea7-9e3a-0b172680b62d",
   "metadata": {},
   "outputs": [
    {
     "data": {
      "text/plain": [
       "tensor([0.8660254+0.j , 0.       -0.5j], requires_grad=True)"
      ]
     },
     "execution_count": 5,
     "metadata": {},
     "output_type": "execute_result"
    }
   ],
   "source": [
    "# test\n",
    "prepare_state()"
   ]
  },
  {
   "cell_type": "markdown",
   "id": "aa16cf5e-ecc5-4529-a618-189da1665966",
   "metadata": {},
   "source": [
    "### Codercise I.8.3 - State preparation with Mottonen's method\n",
    "\n",
    "For multi-qubit systems, it is more convinient to use the existing libraries to prepare states. A template called `MottonenStatePreparation` can automatically do that for us. As arguments, it takes a normalized state vector and a set of wires.\n",
    "\n",
    "**Task**: Prepare the quantum state $$|v\\rangle=(0.52889389-0.14956775i)|0\\rangle+(0.67262317+0.49545818i)|1\\rangle$$ using `qml.MottonenStatePreparation`.\n",
    "\n",
    "**Solution**: The template simply takes two arguments: states and wires."
   ]
  },
  {
   "cell_type": "code",
   "execution_count": 6,
   "id": "5f7e8f4e-3725-4892-ba78-b915a35ab571",
   "metadata": {},
   "outputs": [
    {
     "name": "stdout",
     "output_type": "stream",
     "text": [
      "[0.52889389-0.14956775j 0.67262317+0.49545818j]\n",
      "\n",
      "0: ──RY(1.98)──RZ(0.91)──GlobalPhase(-0.18)─┤  State\n"
     ]
    }
   ],
   "source": [
    "v = np.array([0.52889389 - 0.14956775j, 0.67262317 + 0.49545818j])\n",
    "\n",
    "##################\n",
    "# YOUR CODE HERE #\n",
    "##################\n",
    "\n",
    "# CREATE A DEVICE\n",
    "dev = qml.device(\"default.qubit\", wires=1)\n",
    "\n",
    "# CONSTRUCT A QNODE THAT USES qml.MottonenStatePreparation\n",
    "# TO PREPARE A QUBIT IN STATE V, AND RETURN THE STATE\n",
    "@qml.qnode(dev)\n",
    "def prepare_state(state=v):\n",
    "    qml.MottonenStatePreparation(v, wires=dev.wires)\n",
    "    return qml.state()\n",
    "\n",
    "\n",
    "# This will draw the quantum circuit and allow you to inspect the output gates\n",
    "print(prepare_state(v))\n",
    "print()\n",
    "print(qml.draw(prepare_state, expansion_strategy=\"device\")(v))"
   ]
  },
  {
   "cell_type": "markdown",
   "id": "7025e63b-55b3-495a-859e-61422145e727",
   "metadata": {},
   "source": [
    "This notebook is done by `Myanmar Youths` for `Womanium Quantum + AI 2024` program.\n",
    "- <a href=\"https://www.linkedin.com/in/la-wun-nannda-b047681b5/\"><u>La Wun Nannda</u></a>\n",
    "- <a href=\"https://www.linkedin.com/in/chit-zin-win-46a2a3263/\"><u>Chit Zin Win</u></a>"
   ]
  }
 ],
 "metadata": {
  "kernelspec": {
   "display_name": "Python 3 (ipykernel)",
   "language": "python",
   "name": "python3"
  },
  "language_info": {
   "codemirror_mode": {
    "name": "ipython",
    "version": 3
   },
   "file_extension": ".py",
   "mimetype": "text/x-python",
   "name": "python",
   "nbconvert_exporter": "python",
   "pygments_lexer": "ipython3",
   "version": "3.11.9"
  }
 },
 "nbformat": 4,
 "nbformat_minor": 5
}
